{
 "cells": [
  {
   "cell_type": "code",
   "execution_count": null,
   "metadata": {
    "collapsed": false
   },
   "outputs": [],
   "source": [
    "%matplotlib inline\n",
    "from matplotlib import pyplot as plt\n",
    "\n",
    "import h5py\n",
    "import numpy as np\n",
    "import seaborn as sns\n",
    "\n",
    "from astropy import constants as const\n",
    "from astropy import units as u\n",
    "\n",
    "\n",
    "m_p = const.m_p.cgs.to(u.M_sun).value\n",
    "\n",
    "cm = u.cm.to(u.pc)\n",
    "g = u.g.to(u.M_sun)"
   ]
  },
  {
   "cell_type": "markdown",
   "metadata": {},
   "source": [
    "# Create cluster initial conditions"
   ]
  },
  {
   "cell_type": "code",
   "execution_count": null,
   "metadata": {
    "collapsed": false
   },
   "outputs": [],
   "source": [
    "icf = h5py.File(\"single_ics.hdf5\", \"w\")"
   ]
  },
  {
   "cell_type": "code",
   "execution_count": null,
   "metadata": {
    "collapsed": false
   },
   "outputs": [],
   "source": [
    "header_group = icf.create_group(\"Header\")\n",
    "particles_group = icf.create_group(\"PartType0\")\n"
   ]
  },
  {
   "cell_type": "code",
   "execution_count": null,
   "metadata": {
    "collapsed": true
   },
   "outputs": [],
   "source": [
    "box_size = 200\n",
    "n_part_per_side = 200\n",
    "\n",
    "n_part_gas = n_part_per_side**3\n",
    "n_part = np.array([n_part_gas, 0, 0, 0, 0, 0])"
   ]
  },
  {
   "cell_type": "code",
   "execution_count": null,
   "metadata": {
    "collapsed": false
   },
   "outputs": [],
   "source": [
    "header_group.attrs[\"NumPart_ThisFile\"] = n_part\n",
    "header_group.attrs[\"NumPart_Total\"]    = n_part\n",
    "header_group.attrs[\"NumPart_Total_HighWord\"] = np.zeros(6)\n",
    "\n",
    "header_group.attrs[\"MassTable\"] = np.zeros(6)\n",
    "\n",
    "header_group.attrs[\"Time\"] = 0\n",
    "header_group.attrs[\"Redshift\"] = 0\n",
    "header_group.attrs[\"BoxSize\"] = box_size\n",
    "header_group.attrs[\"NumFilesPerSnapshot\"] = 1\n",
    "header_group.attrs[\"Omega0\"] = 0.0\n",
    "header_group.attrs[\"OmegaLambda\"] = 0.0\n",
    "header_group.attrs[\"HubbleParam\"] = 1.0\n",
    "header_group.attrs[\"Flag_Sfr\"] = 0\n",
    "header_group.attrs[\"Flag_Cooling\"] = 0\n",
    "header_group.attrs[\"Flag_StellarAge\"] = 0\n",
    "header_group.attrs[\"Flag_Metals\"] = 0\n",
    "header_group.attrs[\"Flag_Feedback\"] = 0\n",
    "header_group.attrs[\"Flag_DoublePrecision\"] = 0\n",
    "header_group.attrs[\"Flag_IC_Info\"] = 0\n",
    "\n",
    "\n"
   ]
  },
  {
   "cell_type": "code",
   "execution_count": null,
   "metadata": {
    "collapsed": false
   },
   "outputs": [],
   "source": [
    "particles_group.create_dataset(\"Coordinates\",     (n_part_gas, 3), dtype=\"<f4\")\n",
    "particles_group.create_dataset(\"Density\",         (n_part_gas,  ), dtype=\"<f4\")\n",
    "particles_group.create_dataset(\"ParticleIDs\",     (n_part_gas,  ), dtype=\"<u4\")\n",
    "particles_group.create_dataset(\"Velocities\",      (n_part_gas, 3), dtype=\"<f4\")\n",
    "particles_group.create_dataset(\"InternalEnergy\",  (n_part_gas,  ), dtype=\"<f4\")\n",
    "particles_group.create_dataset(\"Masses\",          (n_part_gas,  ), dtype=\"<f4\")"
   ]
  },
  {
   "cell_type": "code",
   "execution_count": null,
   "metadata": {
    "collapsed": true
   },
   "outputs": [],
   "source": [
    "xx, yy, zz = np.meshgrid(np.linspace(0,box_size,num=n_part_per_side+1)[1:], \n",
    "                         np.linspace(0,box_size,num=n_part_per_side+1)[1:], \n",
    "                         np.linspace(0,box_size,num=n_part_per_side+1)[1:])\n",
    "dx = xx[0,1,0] - xx[0,0,0]"
   ]
  },
  {
   "cell_type": "code",
   "execution_count": null,
   "metadata": {
    "collapsed": false
   },
   "outputs": [],
   "source": [
    "particles_group[\"Coordinates\"][:,0] = xx.flatten()\n",
    "particles_group[\"Coordinates\"][:,1] = yy.flatten()\n",
    "particles_group[\"Coordinates\"][:,2] = zz.flatten()\n",
    "\n",
    "particles_group[\"Coordinates\"][:,0] *= 1 + (np.random.random(size=n_part_gas)-.5)*1e-3\n",
    "particles_group[\"Coordinates\"][:,1] *= 1 + (np.random.random(size=n_part_gas)-.5)*1e-3\n",
    "particles_group[\"Coordinates\"][:,2] *= 1 + (np.random.random(size=n_part_gas)-.5)*1e-3\n",
    "\n",
    "particles_group[\"Coordinates\"][:] = np.array(particles_group[\"Coordinates\"]) % 500\n",
    "\n",
    "density = 1.33 * m_p / cm**3\n",
    "particles_group[\"Density\"][:] = density\n",
    "\n",
    "particles_group[\"ParticleIDs\"][:] = np.arange(1, n_part_gas+1, dtype=\"<u4\")\n",
    "\n",
    "particles_group[\"Velocities\"][:] = 0\n",
    "particles_group[\"InternalEnergy\"][:] = 0\n",
    "particles_group[\"Masses\"][:] = dx**3 * density\n"
   ]
  },
  {
   "cell_type": "code",
   "execution_count": null,
   "metadata": {
    "collapsed": false
   },
   "outputs": [],
   "source": [
    "list(particles_group.keys())"
   ]
  },
  {
   "cell_type": "code",
   "execution_count": null,
   "metadata": {
    "collapsed": false
   },
   "outputs": [],
   "source": [
    "icf.close()"
   ]
  }
 ],
 "metadata": {
  "kernelspec": {
   "display_name": "Python 3",
   "language": "python",
   "name": "python3"
  },
  "language_info": {
   "codemirror_mode": {
    "name": "ipython",
    "version": 3
   },
   "file_extension": ".py",
   "mimetype": "text/x-python",
   "name": "python",
   "nbconvert_exporter": "python",
   "pygments_lexer": "ipython3",
   "version": "3.5.2"
  },
  "widgets": {
   "state": {},
   "version": "1.1.2"
  }
 },
 "nbformat": 4,
 "nbformat_minor": 0
}
