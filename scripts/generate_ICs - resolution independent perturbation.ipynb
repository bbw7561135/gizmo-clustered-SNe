{
 "cells": [
  {
   "cell_type": "code",
   "execution_count": 1,
   "metadata": {},
   "outputs": [],
   "source": [
    "%matplotlib inline\n",
    "from matplotlib import pyplot as plt\n",
    "\n",
    "import os\n",
    "\n",
    "import h5py\n",
    "import numpy as np\n",
    "import seaborn as sns\n",
    "\n",
    "from astropy import constants as const\n",
    "from astropy import units as u\n",
    "\n",
    "from injection_helpers import snapshot_to_energy_file\n",
    "\n",
    " \n",
    "# Note: these units differ from the ones in `units.py`\n",
    "# These match the code units (M_sun, pc, Myr), while `units.py` uses cgs\n",
    "\n",
    "m_p = const.m_p.cgs.to(u.M_sun).value\n",
    "\n",
    "cm = u.cm.to(u.pc)\n",
    "g = u.g.to(u.M_sun)\n",
    "\n",
    "initial_metallicity = 0.02 # gas-phase mas fraction"
   ]
  },
  {
   "cell_type": "code",
   "execution_count": 2,
   "metadata": {},
   "outputs": [],
   "source": [
    "n_part_per_side_unscaled = 400"
   ]
  },
  {
   "cell_type": "code",
   "execution_count": 3,
   "metadata": {},
   "outputs": [
    {
     "name": "stdout",
     "output_type": "stream",
     "text": [
      "../runs/cluster_cooling_400-perturbed/inputs\n",
      "../runs/cluster_cooling_400-perturbed/outputs\n",
      "../runs/cluster_cooling_400-perturbed/inputs/cluster_cooling_400-perturbed_ics.hdf5\n"
     ]
    }
   ],
   "source": [
    "run_name = \"cluster_cooling_{}-perturbed\".format(n_part_per_side_unscaled)\n",
    "\n",
    "inputs_dir  = os.path.join(\"../runs\", run_name, \"inputs\")\n",
    "outputs_dir = os.path.join(\"../runs\", run_name, \"outputs\")\n",
    "\n",
    "IC_filename = os.path.join(inputs_dir, \"{}_ics.hdf5\".format(run_name))\n",
    "\n",
    "print(inputs_dir)\n",
    "print(outputs_dir)\n",
    "\n",
    "print(IC_filename)"
   ]
  },
  {
   "cell_type": "code",
   "execution_count": 4,
   "metadata": {},
   "outputs": [
    {
     "name": "stdout",
     "output_type": "stream",
     "text": [
      "with_MHD:          False\n"
     ]
    }
   ],
   "source": [
    "if \"mhd\" in run_name:\n",
    "    with_MHD = True\n",
    "else:\n",
    "    with_MHD = False\n",
    "    \n",
    "print(\"with_MHD:         \", with_MHD)"
   ]
  },
  {
   "cell_type": "code",
   "execution_count": 5,
   "metadata": {},
   "outputs": [
    {
     "name": "stdout",
     "output_type": "stream",
     "text": [
      "double_precision:  True\n"
     ]
    }
   ],
   "source": [
    "# initially I used single precision snapshot files, but that led to issues\n",
    "# now I use double precision by default, but I've still left the capability \n",
    "# to create single precision initial conditions, by setting this flag to `False`\n",
    "double_precision = True \n",
    "    \n",
    "print(\"double_precision: \", double_precision)"
   ]
  },
  {
   "cell_type": "markdown",
   "metadata": {},
   "source": [
    "# Seed RNG for mass perturbation field"
   ]
  },
  {
   "cell_type": "code",
   "execution_count": 6,
   "metadata": {},
   "outputs": [],
   "source": [
    "# should match the grid size of the 1pc resolution run, \n",
    "# with box_size=600 pc\n",
    "big_shape = [600, 600, 600]\n",
    "\n",
    "perturbation_rms = 0.05 # normalized by the mean"
   ]
  },
  {
   "cell_type": "code",
   "execution_count": 7,
   "metadata": {},
   "outputs": [
    {
     "name": "stdout",
     "output_type": "stream",
     "text": [
      "reusing perturbation field\n"
     ]
    }
   ],
   "source": [
    "import h5py\n",
    "\n",
    "perturbation_filename = \"mass_perturbations.hdf5\"\n",
    "if not os.path.exists(perturbation_filename):\n",
    "    print(\"generating perturbation field\")\n",
    "    \n",
    "    np.random.seed(0)\n",
    "    perturbations = np.random.normal(scale=perturbation_rms, size=big_shape)\n",
    "    np.random.seed() # back to device-generated seed\n",
    "\n",
    "    print(\"creating: \", perturbation_filename)\n",
    "    \n",
    "    with h5py.File(perturbation_filename, \"w\") as hf:\n",
    "        hf.create_dataset(\"perturbations\", data=perturbations)\n",
    "\n",
    "else:\n",
    "    print(\"reusing perturbation field\")\n",
    "    with h5py.File(perturbation_filename, \"r\") as hf:\n",
    "        perturbations = hf[\"perturbations\"][:]\n",
    "    "
   ]
  },
  {
   "cell_type": "code",
   "execution_count": 8,
   "metadata": {},
   "outputs": [
    {
     "data": {
      "image/png": "[encoded data removed]",
      "text/plain": [
       "<matplotlib.figure.Figure at 0x2b77afcabef0>"
      ]
     },
     "metadata": {},
     "output_type": "display_data"
    }
   ],
   "source": [
    "x = np.linspace(-.2, .2)\n",
    "plt.hist(perturbations.flatten(), range=(x.min(), x.max()), bins=100);\n"
   ]
  },
  {
   "cell_type": "markdown",
   "metadata": {},
   "source": [
    "# Create cluster initial conditions"
   ]
  },
  {
   "cell_type": "code",
   "execution_count": 9,
   "metadata": {},
   "outputs": [],
   "source": [
    "ic_file = h5py.File(IC_filename, \"w\")"
   ]
  },
  {
   "cell_type": "code",
   "execution_count": 10,
   "metadata": {},
   "outputs": [],
   "source": [
    "header_group = ic_file.create_group(\"Header\")\n",
    "particles_group = ic_file.create_group(\"PartType0\")"
   ]
  },
  {
   "cell_type": "code",
   "execution_count": 11,
   "metadata": {},
   "outputs": [
    {
     "name": "stdout",
     "output_type": "stream",
     "text": [
      "1.0\n"
     ]
    }
   ],
   "source": [
    "# use this multiplier to get the desired box size\n",
    "# i.e. don't change the box_size line, \n",
    "# but do change n_part_per_side_unscaled to change resolution\n",
    "multiplier = 1.5\n",
    "\n",
    "box_size = int( multiplier*400 )\n",
    "n_part_per_side = int( multiplier * n_part_per_side_unscaled )\n",
    "\n",
    "dx = box_size / n_part_per_side\n",
    "\n",
    "n_part_gas = n_part_per_side**3\n",
    "n_part = np.array([n_part_gas, 0, 0, 0, 0, 0])\n",
    "\n",
    "print(dx)"
   ]
  },
  {
   "cell_type": "code",
   "execution_count": 12,
   "metadata": {},
   "outputs": [],
   "source": [
    "header_group.attrs[\"NumPart_ThisFile\"] = n_part\n",
    "header_group.attrs[\"NumPart_Total\"]    = n_part\n",
    "header_group.attrs[\"NumPart_Total_HighWord\"] = np.zeros(6)\n",
    "\n",
    "header_group.attrs[\"MassTable\"] = np.zeros(6)\n",
    "\n",
    "header_group.attrs[\"Time\"] = 0.\n",
    "header_group.attrs[\"Redshift\"] = 0.\n",
    "header_group.attrs[\"BoxSize\"] = float(box_size)\n",
    "header_group.attrs[\"NumFilesPerSnapshot\"] = 1\n",
    "header_group.attrs[\"Omega0\"] = 0.0\n",
    "header_group.attrs[\"OmegaLambda\"] = 0.0\n",
    "header_group.attrs[\"HubbleParam\"] = 1.0\n",
    "header_group.attrs[\"Flag_Sfr\"] = 0\n",
    "header_group.attrs[\"Flag_Cooling\"] = 1\n",
    "header_group.attrs[\"Flag_StellarAge\"] = 0\n",
    "header_group.attrs[\"Flag_Metals\"] = 1\n",
    "header_group.attrs[\"Flag_Feedback\"] = 0\n",
    "if double_precision:\n",
    "    header_group.attrs[\"Flag_DoublePrecision\"] = 1\n",
    "else:\n",
    "    header_group.attrs[\"Flag_DoublePrecision\"] = 0\n",
    "header_group.attrs[\"Flag_IC_Info\"] = 0\n",
    "\n",
    "\n"
   ]
  },
  {
   "cell_type": "code",
   "execution_count": 13,
   "metadata": {},
   "outputs": [
    {
     "name": "stdout",
     "output_type": "stream",
     "text": [
      "float_size:  8\n"
     ]
    }
   ],
   "source": [
    "if double_precision:\n",
    "    float_size = 8\n",
    "else:\n",
    "    float_size = 4\n",
    "    \n",
    "print(\"float_size: \", float_size)\n",
    "\n",
    "float_type = \"<f{}\".format(float_size)\n",
    "int_type = \"<u4\"\n",
    "\n",
    "particles_group.create_dataset(\"Coordinates\",                (n_part_gas, 3), dtype=float_type)\n",
    "particles_group.create_dataset(\"Density\",                    (n_part_gas,  ), dtype=float_type)\n",
    "particles_group.create_dataset(\"ElectronAbundance\",          (n_part_gas,  ), dtype=float_type)\n",
    "particles_group.create_dataset(\"InternalEnergy\",             (n_part_gas,  ), dtype=float_type)\n",
    "particles_group.create_dataset(\"Masses\",                     (n_part_gas,  ), dtype=float_type)\n",
    "particles_group.create_dataset(\"Metallicity\",                (n_part_gas,  ), dtype=float_type)\n",
    "particles_group.create_dataset(\"NeutralHydrogenAbundance\",   (n_part_gas,  ), dtype=float_type)\n",
    "particles_group.create_dataset(\"ParticleChildIDsNumber\",     (n_part_gas,  ), dtype=int_type)\n",
    "particles_group.create_dataset(\"ParticleIDGenerationNumber\", (n_part_gas,  ), dtype=int_type)\n",
    "particles_group.create_dataset(\"ParticleIDs\",                (n_part_gas,  ), dtype=int_type)\n",
    "particles_group.create_dataset(\"SmoothingLength\",            (n_part_gas,  ), dtype=float_type)\n",
    "particles_group.create_dataset(\"Velocities\",                 (n_part_gas, 3), dtype=float_type)\n",
    "\n",
    "if with_MHD:\n",
    "    particles_group.create_dataset(\"MagneticField\",          (n_part_gas, 3), dtype=float_type)\n",
    "\n",
    "    # unused\n",
    "    particles_group.create_dataset(\"DivergenceOfMagneticField\",   (n_part_gas, ), dtype=float_type)\n",
    "    particles_group.create_dataset(\"DivBcleaningFunctionPhi\",     (n_part_gas, ), dtype=float_type)\n",
    "    particles_group.create_dataset(\"DivBcleaningFunctionGradPhi\", (n_part_gas, ), dtype=float_type)\n"
   ]
  },
  {
   "cell_type": "code",
   "execution_count": 14,
   "metadata": {},
   "outputs": [],
   "source": [
    "a = np.linspace(0,box_size,num=n_part_per_side+1)[1:]\n",
    "x, y, z = np.meshgrid(a,a,a)\n",
    "\n",
    "coords  = np.vstack([x.flatten(), y.flatten(), z.flatten()]).T\n",
    "coords += dx * (np.random.random(size=coords.shape) - .5)*1e-3 \n",
    "coords  = coords % box_size\n",
    "\n",
    "particles_group[\"Coordinates\"][...] = coords\n",
    "del coords\n",
    "del x\n",
    "del y\n",
    "del z"
   ]
  },
  {
   "cell_type": "code",
   "execution_count": 15,
   "metadata": {},
   "outputs": [],
   "source": [
    "# Calculate e_int\n",
    "\n",
    "# mean molecular weight determined by initializing a snapshot with T=10**4\n",
    "#  set in the params file, then looking at the InternalEnergy of snapshot_000\n",
    "#  -- may not hold for other metallicities?\n",
    "mu = 1.2194864\n",
    "# T = 1e4\n",
    "T = 344.626350734159 # equilibrium value (yt actually infers this to be 178.97956248958883 K)\n",
    "gamma = 5/3\n",
    "\n",
    "e_int = const.k_B * (T * u.Kelvin) / mu / const.m_p / (gamma-1)\n",
    "e_int = e_int.to(u.pc**2 / u.Myr**2).value"
   ]
  },
  {
   "cell_type": "code",
   "execution_count": 16,
   "metadata": {},
   "outputs": [],
   "source": [
    "shape_1D = (n_part_gas, )\n",
    "shape_2D = (n_part_gas, 3)"
   ]
  },
  {
   "cell_type": "markdown",
   "metadata": {},
   "source": [
    "## Downsample perturbations if needed\n",
    "**Note:** I can only handle downsamples of factors of 2 at this point. This could be extended include other prime factors of `perturbations.shape` (=600), but I don't have any need to put in that effort at this time."
   ]
  },
  {
   "cell_type": "code",
   "execution_count": 17,
   "metadata": {},
   "outputs": [
    {
     "name": "stdout",
     "output_type": "stream",
     "text": [
      "downsample factor:  1\n"
     ]
    }
   ],
   "source": [
    "# downsample perturbations if needed\n",
    "assert(big_shape[0] >= n_part_per_side)\n",
    "assert(big_shape[0] % n_part_per_side == 0)\n",
    "assert(np.log2(big_shape[0]/n_part_per_side) % 1 == 0) # multiple of 2\n",
    "\n",
    "downsample_factor = int(big_shape[0]/n_part_per_side)\n",
    "print(\"downsample factor: \", downsample_factor)"
   ]
  },
  {
   "cell_type": "code",
   "execution_count": 18,
   "metadata": {},
   "outputs": [
    {
     "name": "stdout",
     "output_type": "stream",
     "text": [
      "skipping convolution\n"
     ]
    }
   ],
   "source": [
    "if downsample_factor == 1:\n",
    "    print(\"skipping convolution\")\n",
    "    perturbations_filtered_flattened = perturbations.flatten()\n",
    "else:\n",
    "\n",
    "    kernel = np.zeros([downsample_factor+1]*3)\n",
    "\n",
    "    half_dist = downsample_factor/2\n",
    "    assert(half_dist % 1 == 0)\n",
    "    half_dist = int(half_dist)\n",
    "\n",
    "    for i in range(downsample_factor+1):\n",
    "        for j in range(downsample_factor+1):\n",
    "            for k in range(downsample_factor+1):\n",
    "                _coords = (i, j, k)\n",
    "                _coords_centered = np.array(_coords) - half_dist\n",
    "\n",
    "\n",
    "                dist = (_coords_centered**2).sum()**.5\n",
    "\n",
    "                if not (   ( half_dist in _coords_centered) \\\n",
    "                        or (-half_dist in _coords_centered)):\n",
    "                    # has 1 unique nearest downsampled neighbor\n",
    "                    kernel[_coords] = 1.\n",
    "                elif dist < np.sqrt(2) * half_dist:\n",
    "                    # has 2 unique nearest downsampled neighbors\n",
    "                    kernel[_coords] = 1/2\n",
    "                elif dist < np.sqrt(3) * half_dist:\n",
    "                    # has 4 unique nearest downsampled neighbors\n",
    "                    kernel[_coords] = 1/4\n",
    "                else:\n",
    "                    # has 8 unique nearest downsampled neighbors\n",
    "                    assert(dist == np.sqrt(3)*half_dist)\n",
    "                    kernel[_coords] = 1/8\n",
    "\n",
    "\n",
    "    print(kernel.shape)\n",
    "    print(kernel)\n",
    "\n",
    "    kernel /= downsample_factor**3\n",
    "    \n",
    "    print(\"performing convolution\")\n",
    "\n",
    "    from scipy import ndimage\n",
    "    perturbations_smoothed = ndimage.filters.convolve(perturbations,\n",
    "                                                      kernel,\n",
    "                                                      mode=\"wrap\")\n",
    "\n",
    "    perturbations_filtered_flattened = perturbations_smoothed[\n",
    "        downsample_factor-1::downsample_factor,\n",
    "        downsample_factor-1::downsample_factor,\n",
    "        downsample_factor-1::downsample_factor,\n",
    "    ].flatten()\n",
    "\n",
    "    assert(np.all(perturbations_filtered_flattened > -1))"
   ]
  },
  {
   "cell_type": "markdown",
   "metadata": {},
   "source": [
    "## Back to the normal creation of ICs"
   ]
  },
  {
   "cell_type": "code",
   "execution_count": 19,
   "metadata": {},
   "outputs": [
    {
     "name": "stdout",
     "output_type": "stream",
     "text": [
      "Finished: Density\n",
      "Finished: ParticleIDs\n",
      "Finished: Velocities\n",
      "Finished: InternalEnergy\n",
      "Finished: Masses\n",
      "Finished: ElectronAbundance\n",
      "Finished: Metallicity\n",
      "Finished: NeutralHydrogenAbundance\n",
      "Finished: ParticleChildIDsNumber\n",
      "Finished: ParticleIDGenerationNumber\n",
      "Finished: SmoothingLength\n"
     ]
    }
   ],
   "source": [
    "density = 1.33 * m_p / cm**3\n",
    "density *= (1 + perturbations_filtered_flattened)\n",
    "particles_group[\"Density\"][...] = np.full(shape_1D, density, dtype=float_type)\n",
    "print(\"Finished: Density\")\n",
    "\n",
    "particles_group[\"ParticleIDs\"][...] = np.arange(1, n_part_gas+1, dtype=int_type)\n",
    "print(\"Finished: ParticleIDs\")\n",
    "\n",
    "particles_group[\"Velocities\"][...] = np.full(shape_2D, 0, dtype=float_type)\n",
    "print(\"Finished: Velocities\")\n",
    "\n",
    "particles_group[\"InternalEnergy\"][...] = np.full(shape_1D, e_int, dtype=float_type)\n",
    "print(\"Finished: InternalEnergy\")\n",
    "\n",
    "particles_group[\"Masses\"][...] = np.full(shape_1D, dx**3 * density, dtype=float_type)\n",
    "print(\"Finished: Masses\")\n",
    "\n",
    "## I *think* the following are correct for making this a valid snapshot file\n",
    "particles_group[\"ElectronAbundance\"][...] = np.full(shape_1D, 1., dtype=float_type)\n",
    "print(\"Finished: ElectronAbundance\")\n",
    "\n",
    "particles_group[\"Metallicity\"][...] = np.full(shape_1D, initial_metallicity, dtype=float_type)\n",
    "print(\"Finished: Metallicity\")\n",
    "\n",
    "particles_group[\"NeutralHydrogenAbundance\"][...] = np.full(shape_1D, 0., dtype=float_type)\n",
    "print(\"Finished: NeutralHydrogenAbundance\")\n",
    "\n",
    "particles_group[\"ParticleChildIDsNumber\"][...] = np.full(shape_1D, 0, dtype=int_type)\n",
    "print(\"Finished: ParticleChildIDsNumber\")\n",
    "\n",
    "particles_group[\"ParticleIDGenerationNumber\"][...] = np.full(shape_1D, 0, dtype=int_type)\n",
    "print(\"Finished: ParticleIDGenerationNumber\")\n",
    "\n",
    "smoothing_length = 5.25 * (box_size/400) / (n_part_per_side/150) # approximating from existing uniform snapshots\n",
    "particles_group[\"SmoothingLength\"][...] = np.full(shape_1D, smoothing_length, dtype=float_type)\n",
    "print(\"Finished: SmoothingLength\")\n",
    "\n",
    "\n",
    "if with_MHD:\n",
    "    particles_group[\"MagneticField\"][...] = np.full(shape_2D, [0,0,5], dtype=float_type)\n",
    "    print(\"Finished: MagneticField\")\n",
    "\n",
    "    # unused\n",
    "    particles_group[\"DivergenceOfMagneticField\"][...]   = np.full(shape_1D, 0., dtype=float_type)\n",
    "    print(\"Finished: DivergenceOfMagneticField\")\n",
    "\n",
    "    particles_group[\"DivBcleaningFunctionPhi\"][...]     = np.full(shape_1D, 0., dtype=float_type)\n",
    "    print(\"Finished: DivBcleaningFunctionPhi\")\n",
    "\n",
    "    particles_group[\"DivBcleaningFunctionGradPhi\"][...] = np.full(shape_1D, 0., dtype=float_type)\n",
    "    print(\"Finished: DivBcleaningFunctionGradPhi\")\n"
   ]
  },
  {
   "cell_type": "code",
   "execution_count": 20,
   "metadata": {},
   "outputs": [
    {
     "data": {
      "text/plain": [
       "['Coordinates',\n",
       " 'Density',\n",
       " 'ElectronAbundance',\n",
       " 'InternalEnergy',\n",
       " 'Masses',\n",
       " 'Metallicity',\n",
       " 'NeutralHydrogenAbundance',\n",
       " 'ParticleChildIDsNumber',\n",
       " 'ParticleIDGenerationNumber',\n",
       " 'ParticleIDs',\n",
       " 'SmoothingLength',\n",
       " 'Velocities']"
      ]
     },
     "execution_count": 20,
     "metadata": {},
     "output_type": "execute_result"
    }
   ],
   "source": [
    "list(particles_group.keys())"
   ]
  },
  {
   "cell_type": "code",
   "execution_count": 21,
   "metadata": {},
   "outputs": [],
   "source": [
    "ic_file.close()"
   ]
  },
  {
   "cell_type": "markdown",
   "metadata": {},
   "source": [
    "# Copy to outputs dir"
   ]
  },
  {
   "cell_type": "code",
   "execution_count": 22,
   "metadata": {},
   "outputs": [],
   "source": [
    "import shutil"
   ]
  },
  {
   "cell_type": "code",
   "execution_count": 23,
   "metadata": {},
   "outputs": [
    {
     "data": {
      "text/plain": [
       "'../runs/cluster_cooling_400-perturbed/outputs/snapshot_000.hdf5'"
      ]
     },
     "execution_count": 23,
     "metadata": {},
     "output_type": "execute_result"
    }
   ],
   "source": [
    "snapshot_000_filename = os.path.join(outputs_dir, \"snapshot_000.hdf5\")\n",
    "shutil.copy2(IC_filename, snapshot_000_filename)"
   ]
  },
  {
   "cell_type": "markdown",
   "metadata": {},
   "source": [
    "# Create initial energy file:"
   ]
  },
  {
   "cell_type": "markdown",
   "metadata": {},
   "source": [
    "First, delete any existing energy file:"
   ]
  },
  {
   "cell_type": "code",
   "execution_count": 24,
   "metadata": {},
   "outputs": [],
   "source": [
    "energy_filename = os.path.join(outputs_dir, \"energy.txt\")"
   ]
  },
  {
   "cell_type": "code",
   "execution_count": 25,
   "metadata": {},
   "outputs": [],
   "source": [
    "%rm -f $energy_filename"
   ]
  },
  {
   "cell_type": "markdown",
   "metadata": {},
   "source": [
    "Now create a new energy file"
   ]
  },
  {
   "cell_type": "code",
   "execution_count": 26,
   "metadata": {},
   "outputs": [],
   "source": [
    "snapshot_to_energy_file(snapshot_000_filename, energy_filename)"
   ]
  },
  {
   "cell_type": "code",
   "execution_count": 27,
   "metadata": {},
   "outputs": [
    {
     "name": "stdout",
     "output_type": "stream",
     "text": [
      "0.00000000000000       2.5983112604e+07   0.0000000000e+00   0.0000000000e+00   2.5983112604e+07   0.0000000000e+00   0.0000000000e+00   0.0000000000e+00   0.0000000000e+00   0.0000000000e+00   0.0000000000e+00   0.0000000000e+00   0.0000000000e+00   0.0000000000e+00   0.0000000000e+00   0.0000000000e+00   0.0000000000e+00   0.0000000000e+00   0.0000000000e+00   0.0000000000e+00   0.0000000000e+00   0.0000000000e+00   7.0996379021e+06   0.0000000000e+00   0.0000000000e+00   0.0000000000e+00   0.0000000000e+00   0.0000000000e+00\r\n"
     ]
    }
   ],
   "source": [
    "%cat  $energy_filename"
   ]
  },
  {
   "cell_type": "markdown",
   "metadata": {},
   "source": [
    "# What to do next?\n",
    " 0) Make sure the params.base file is _actually_ using the correct box size.\n",
    "\n",
    " 1) Add the first SN (`add_SN_to_snapshot.ipynb`)\n",
    " \n",
    " 2) Create an initial params file (`create_new_params_file.ipynb`) \n",
    " \n",
    " 3) Start simulation using the respective `*_loop_test`"
   ]
  }
 ],
 "metadata": {
  "anaconda-cloud": {},
  "kernelspec": {
   "display_name": "Python 3",
   "language": "python",
   "name": "python3"
  },
  "language_info": {
   "codemirror_mode": {
    "name": "ipython",
    "version": 3
   },
   "file_extension": ".py",
   "mimetype": "text/x-python",
   "name": "python",
   "nbconvert_exporter": "python",
   "pygments_lexer": "ipython3",
   "version": "3.6.3"
  }
 },
 "nbformat": 4,
 "nbformat_minor": 1
}
