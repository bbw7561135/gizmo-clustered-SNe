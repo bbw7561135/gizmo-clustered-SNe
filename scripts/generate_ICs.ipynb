{
 "cells": [
  {
   "cell_type": "code",
   "execution_count": null,
   "metadata": {},
   "outputs": [],
   "source": [
    "%matplotlib inline\n",
    "from matplotlib import pyplot as plt\n",
    "\n",
    "import os\n",
    "\n",
    "import h5py\n",
    "import numpy as np\n",
    "import seaborn as sns\n",
    "\n",
    "from astropy import constants as const\n",
    "from astropy import units as u\n",
    "\n",
    "from injection_helpers import snapshot_to_energy_file\n",
    "\n",
    " \n",
    "# Note: these units differ from the ones in `units.py`\n",
    "# These match the code units (M_sun, pc, Myr), while `units.py` uses cgs\n",
    "\n",
    "m_p = const.m_p.cgs.to(u.M_sun).value\n",
    "\n",
    "cm = u.cm.to(u.pc)\n",
    "g = u.g.to(u.M_sun)\n",
    "\n",
    "initial_metallicity = 0.02 # gas-phase mas fraction"
   ]
  },
  {
   "cell_type": "code",
   "execution_count": null,
   "metadata": {},
   "outputs": [],
   "source": [
    "run_name = \"cluster_cooling_100\"\n",
    "\n",
    "inputs_dir  = os.path.join(\"../runs\", run_name, \"inputs\")\n",
    "outputs_dir = os.path.join(\"../runs\", run_name, \"outputs\")\n",
    "\n",
    "IC_filename = os.path.join(inputs_dir, \"{}_ics.hdf5\".format(run_name))\n",
    "\n",
    "print(inputs_dir)\n",
    "print(outputs_dir)\n",
    "\n",
    "print(IC_filename)"
   ]
  },
  {
   "cell_type": "code",
   "execution_count": null,
   "metadata": {},
   "outputs": [],
   "source": [
    "if \"mhd\" in run_name:\n",
    "    with_MHD = True\n",
    "else:\n",
    "    with_MHD = False\n",
    "    \n",
    "print(\"with_MHD:         \", with_MHD)"
   ]
  },
  {
   "cell_type": "code",
   "execution_count": null,
   "metadata": {},
   "outputs": [],
   "source": [
    "# initially I used single precision snapshot files, but that led to issues\n",
    "# now I use double precision by default, but I've still left the capability \n",
    "# to create single precision initial conditions, by setting this flag to `False`\n",
    "double_precision = True \n",
    "    \n",
    "print(\"double_precision: \", double_precision)"
   ]
  },
  {
   "cell_type": "markdown",
   "metadata": {},
   "source": [
    "# Create cluster initial conditions"
   ]
  },
  {
   "cell_type": "code",
   "execution_count": null,
   "metadata": {},
   "outputs": [],
   "source": [
    "ic_file = h5py.File(IC_filename, \"w\")"
   ]
  },
  {
   "cell_type": "code",
   "execution_count": null,
   "metadata": {},
   "outputs": [],
   "source": [
    "header_group = ic_file.create_group(\"Header\")\n",
    "particles_group = ic_file.create_group(\"PartType0\")"
   ]
  },
  {
   "cell_type": "code",
   "execution_count": null,
   "metadata": {},
   "outputs": [],
   "source": [
    "#use this multiplier to get the desired box size\n",
    "# i.e. don't change the box_size line, but do change n_part_per_side (to change resolution)\n",
    "multiplier = 1.5\n",
    "\n",
    "box_size = int( multiplier*400 )\n",
    "n_part_per_side = int( multiplier*100 )\n",
    "\n",
    "dx = box_size / n_part_per_side\n",
    "\n",
    "n_part_gas = n_part_per_side**3\n",
    "n_part = np.array([n_part_gas, 0, 0, 0, 0, 0])"
   ]
  },
  {
   "cell_type": "code",
   "execution_count": null,
   "metadata": {},
   "outputs": [],
   "source": [
    "header_group.attrs[\"NumPart_ThisFile\"] = n_part\n",
    "header_group.attrs[\"NumPart_Total\"]    = n_part\n",
    "header_group.attrs[\"NumPart_Total_HighWord\"] = np.zeros(6)\n",
    "\n",
    "header_group.attrs[\"MassTable\"] = np.zeros(6)\n",
    "\n",
    "header_group.attrs[\"Time\"] = 0.\n",
    "header_group.attrs[\"Redshift\"] = 0.\n",
    "header_group.attrs[\"BoxSize\"] = float(box_size)\n",
    "header_group.attrs[\"NumFilesPerSnapshot\"] = 1\n",
    "header_group.attrs[\"Omega0\"] = 0.0\n",
    "header_group.attrs[\"OmegaLambda\"] = 0.0\n",
    "header_group.attrs[\"HubbleParam\"] = 1.0\n",
    "header_group.attrs[\"Flag_Sfr\"] = 0\n",
    "header_group.attrs[\"Flag_Cooling\"] = 1\n",
    "header_group.attrs[\"Flag_StellarAge\"] = 0\n",
    "header_group.attrs[\"Flag_Metals\"] = 1\n",
    "header_group.attrs[\"Flag_Feedback\"] = 0\n",
    "if double_precision:\n",
    "    header_group.attrs[\"Flag_DoublePrecision\"] = 1\n",
    "else:\n",
    "    header_group.attrs[\"Flag_DoublePrecision\"] = 0\n",
    "header_group.attrs[\"Flag_IC_Info\"] = 0\n",
    "\n",
    "\n"
   ]
  },
  {
   "cell_type": "code",
   "execution_count": null,
   "metadata": {},
   "outputs": [],
   "source": [
    "if double_precision:\n",
    "    float_size = 8\n",
    "else:\n",
    "    float_size = 4\n",
    "    \n",
    "print(\"float_size: \", float_size)\n",
    "\n",
    "float_type = \"<f{}\".format(float_size)\n",
    "int_type = \"<u4\"\n",
    "\n",
    "particles_group.create_dataset(\"Coordinates\",                (n_part_gas, 3), dtype=float_type)\n",
    "particles_group.create_dataset(\"Density\",                    (n_part_gas,  ), dtype=float_type)\n",
    "particles_group.create_dataset(\"ElectronAbundance\",          (n_part_gas,  ), dtype=float_type)\n",
    "particles_group.create_dataset(\"InternalEnergy\",             (n_part_gas,  ), dtype=float_type)\n",
    "particles_group.create_dataset(\"Masses\",                     (n_part_gas,  ), dtype=float_type)\n",
    "particles_group.create_dataset(\"Metallicity\",                (n_part_gas,  ), dtype=float_type)\n",
    "particles_group.create_dataset(\"NeutralHydrogenAbundance\",   (n_part_gas,  ), dtype=float_type)\n",
    "particles_group.create_dataset(\"ParticleChildIDsNumber\",     (n_part_gas,  ), dtype=int_type)\n",
    "particles_group.create_dataset(\"ParticleIDGenerationNumber\", (n_part_gas,  ), dtype=int_type)\n",
    "particles_group.create_dataset(\"ParticleIDs\",                (n_part_gas,  ), dtype=int_type)\n",
    "particles_group.create_dataset(\"SmoothingLength\",            (n_part_gas,  ), dtype=float_type)\n",
    "particles_group.create_dataset(\"Velocities\",                 (n_part_gas, 3), dtype=float_type)\n",
    "\n",
    "if with_MHD:\n",
    "    particles_group.create_dataset(\"MagneticField\",          (n_part_gas, 3), dtype=float_type)\n",
    "\n",
    "    # unused\n",
    "    particles_group.create_dataset(\"DivergenceOfMagneticField\",   (n_part_gas, ), dtype=float_type)\n",
    "    particles_group.create_dataset(\"DivBcleaningFunctionPhi\",     (n_part_gas, ), dtype=float_type)\n",
    "    particles_group.create_dataset(\"DivBcleaningFunctionGradPhi\", (n_part_gas, ), dtype=float_type)\n"
   ]
  },
  {
   "cell_type": "code",
   "execution_count": null,
   "metadata": {},
   "outputs": [],
   "source": [
    "a = np.linspace(0,box_size,num=n_part_per_side+1)[1:]\n",
    "x, y, z = np.meshgrid(a,a,a)\n",
    "\n",
    "coords  = np.vstack([x.flatten(), y.flatten(), z.flatten()]).T\n",
    "coords += dx * (np.random.random(size=coords.shape) - .5)*1e-3 \n",
    "coords  = coords % box_size\n",
    "\n",
    "particles_group[\"Coordinates\"][...] = coords\n",
    "del coords\n",
    "del x\n",
    "del y\n",
    "del z"
   ]
  },
  {
   "cell_type": "code",
   "execution_count": null,
   "metadata": {},
   "outputs": [],
   "source": [
    "# Calculate e_int\n",
    "\n",
    "# mean molecular weight determined by initializing a snapshot with T=10**4\n",
    "#  set in the params file, then looking at the InternalEnergy of snapshot_000\n",
    "#  -- may not hold for other metallicities?\n",
    "mu = 1.2194864\n",
    "# T = 1e4\n",
    "T = 344.626350734159 # equilibrium value (yt actually infers this to be 178.97956248958883 K)\n",
    "gamma = 5/3\n",
    "\n",
    "e_int = const.k_B * (T * u.Kelvin) / mu / const.m_p / (gamma-1)\n",
    "e_int = e_int.to(u.pc**2 / u.Myr**2).value"
   ]
  },
  {
   "cell_type": "code",
   "execution_count": null,
   "metadata": {},
   "outputs": [],
   "source": [
    "shape_1D = (n_part_gas, )\n",
    "shape_2D = (n_part_gas, 3)"
   ]
  },
  {
   "cell_type": "code",
   "execution_count": null,
   "metadata": {},
   "outputs": [],
   "source": [
    "density = 1.33 * m_p / cm**3\n",
    "particles_group[\"Density\"][...] = np.full(shape_1D, density, dtype=float_type)\n",
    "print(\"Finished: Density\")\n",
    "\n",
    "particles_group[\"ParticleIDs\"][...] = np.arange(1, n_part_gas+1, dtype=int_type)\n",
    "print(\"Finished: ParticleIDs\")\n",
    "\n",
    "particles_group[\"Velocities\"][...] = np.full(shape_2D, 0, dtype=float_type)\n",
    "print(\"Finished: Velocities\")\n",
    "\n",
    "particles_group[\"InternalEnergy\"][...] = np.full(shape_1D, e_int, dtype=float_type)\n",
    "print(\"Finished: InternalEnergy\")\n",
    "\n",
    "particles_group[\"Masses\"][...] = np.full(shape_1D, dx**3 * density, dtype=float_type)\n",
    "print(\"Finished: Masses\")\n",
    "\n",
    "## I *think* the following are correct for making this a valid snapshot file\n",
    "particles_group[\"ElectronAbundance\"][...] = np.full(shape_1D, 1., dtype=float_type)\n",
    "print(\"Finished: ElectronAbundance\")\n",
    "\n",
    "particles_group[\"Metallicity\"][...] = np.full(shape_1D, initial_metallicity, dtype=float_type)\n",
    "print(\"Finished: Metallicity\")\n",
    "\n",
    "particles_group[\"NeutralHydrogenAbundance\"][...] = np.full(shape_1D, 0., dtype=float_type)\n",
    "print(\"Finished: NeutralHydrogenAbundance\")\n",
    "\n",
    "particles_group[\"ParticleChildIDsNumber\"][...] = np.full(shape_1D, 0, dtype=int_type)\n",
    "print(\"Finished: ParticleChildIDsNumber\")\n",
    "\n",
    "particles_group[\"ParticleIDGenerationNumber\"][...] = np.full(shape_1D, 0, dtype=int_type)\n",
    "print(\"Finished: ParticleIDGenerationNumber\")\n",
    "\n",
    "smoothing_length = 5.25 * (box_size/400) / (n_part_per_side/150) # approximating from existing uniform snapshots\n",
    "particles_group[\"SmoothingLength\"][...] = np.full(shape_1D, smoothing_length, dtype=float_type)\n",
    "print(\"Finished: SmoothingLength\")\n",
    "\n",
    "\n",
    "if with_MHD:\n",
    "    particles_group[\"MagneticField\"][...] = np.full(shape_2D, [0,0,5], dtype=float_type)\n",
    "    print(\"Finished: MagneticField\")\n",
    "\n",
    "    # unused\n",
    "    particles_group[\"DivergenceOfMagneticField\"][...]   = np.full(shape_1D, 0., dtype=float_type)\n",
    "    print(\"Finished: DivergenceOfMagneticField\")\n",
    "\n",
    "    particles_group[\"DivBcleaningFunctionPhi\"][...]     = np.full(shape_1D, 0., dtype=float_type)\n",
    "    print(\"Finished: DivBcleaningFunctionPhi\")\n",
    "\n",
    "    particles_group[\"DivBcleaningFunctionGradPhi\"][...] = np.full(shape_1D, 0., dtype=float_type)\n",
    "    print(\"Finished: DivBcleaningFunctionGradPhi\")\n"
   ]
  },
  {
   "cell_type": "code",
   "execution_count": null,
   "metadata": {},
   "outputs": [],
   "source": [
    "list(particles_group.keys())"
   ]
  },
  {
   "cell_type": "code",
   "execution_count": null,
   "metadata": {},
   "outputs": [],
   "source": [
    "ic_file.close()"
   ]
  },
  {
   "cell_type": "markdown",
   "metadata": {},
   "source": [
    "# Copy to outputs dir"
   ]
  },
  {
   "cell_type": "code",
   "execution_count": null,
   "metadata": {},
   "outputs": [],
   "source": [
    "import shutil"
   ]
  },
  {
   "cell_type": "code",
   "execution_count": null,
   "metadata": {},
   "outputs": [],
   "source": [
    "snapshot_000_filename = os.path.join(outputs_dir, \"snapshot_000.hdf5\")\n",
    "shutil.copy2(IC_filename, snapshot_000_filename)"
   ]
  },
  {
   "cell_type": "markdown",
   "metadata": {},
   "source": [
    "# Create initial energy file:"
   ]
  },
  {
   "cell_type": "markdown",
   "metadata": {},
   "source": [
    "First, delete any existing energy file:"
   ]
  },
  {
   "cell_type": "code",
   "execution_count": null,
   "metadata": {},
   "outputs": [],
   "source": [
    "energy_filename = os.path.join(outputs_dir, \"energy.txt\")"
   ]
  },
  {
   "cell_type": "code",
   "execution_count": null,
   "metadata": {},
   "outputs": [],
   "source": [
    "%rm -f $energy_filename"
   ]
  },
  {
   "cell_type": "markdown",
   "metadata": {},
   "source": [
    "Now create a new energy file"
   ]
  },
  {
   "cell_type": "code",
   "execution_count": null,
   "metadata": {},
   "outputs": [],
   "source": [
    "snapshot_to_energy_file(snapshot_000_filename, energy_filename)"
   ]
  },
  {
   "cell_type": "code",
   "execution_count": null,
   "metadata": {},
   "outputs": [],
   "source": [
    "%cat  $energy_filename"
   ]
  },
  {
   "cell_type": "markdown",
   "metadata": {},
   "source": [
    "# What to do next?\n",
    " 0) Make sure the params.base file is _actually_ using the correct box size.\n",
    "\n",
    " 1) Add the first SN (`add_SN_to_snapshot.ipynb`)\n",
    " \n",
    " 2) Create an initial params file (`create_new_params_file.ipynb`) \n",
    " \n",
    " 3) Start simulation using the respective `*_loop_test`"
   ]
  }
 ],
 "metadata": {
  "anaconda-cloud": {},
  "kernelspec": {
   "display_name": "Python 3",
   "language": "python",
   "name": "python3"
  },
  "language_info": {
   "codemirror_mode": {
    "name": "ipython",
    "version": 3
   },
   "file_extension": ".py",
   "mimetype": "text/x-python",
   "name": "python",
   "nbconvert_exporter": "python",
   "pygments_lexer": "ipython3",
   "version": "3.6.2"
  }
 },
 "nbformat": 4,
 "nbformat_minor": 1
}
