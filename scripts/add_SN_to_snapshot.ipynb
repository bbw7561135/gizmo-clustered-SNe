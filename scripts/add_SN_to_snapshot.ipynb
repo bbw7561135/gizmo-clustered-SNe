{
 "cells": [
  {
   "cell_type": "code",
   "execution_count": null,
   "metadata": {
    "collapsed": false
   },
   "outputs": [],
   "source": [
    "import h5py\n",
    "\n",
    "from injection_helpers import create_snapshot_with_new_SN, \\\n",
    "                              get_last_snapshot_file_in_dir, \\\n",
    "                              which_SN_is_about_to_explode"
   ]
  },
  {
   "cell_type": "code",
   "execution_count": null,
   "metadata": {
    "collapsed": true
   },
   "outputs": [],
   "source": [
    "run_dir = \"../runs/cluster_cooling_150\"\n",
    "outputs_dir = os.path.join(run_dir, \"outputs\")\n"
   ]
  },
  {
   "cell_type": "markdown",
   "metadata": {},
   "source": [
    "# Check timing before creating file"
   ]
  },
  {
   "cell_type": "code",
   "execution_count": null,
   "metadata": {
    "collapsed": true
   },
   "outputs": [],
   "source": [
    "snapshot_file_old = get_last_snapshot_file_in_dir(outputs_dir)\n",
    "with h5py.File(snapshot_file_old, mode=\"r\") as f:\n",
    "    # will throw an error if a SN isn't about to explode\n",
    "    _ = which_SN_is_about_to_explode(f[\"Header\"].attrs[\"Time\"], SNe)\n",
    "    \n",
    "    for key in f[\"Header\"].attrs:\n",
    "        print(key, \":\", f[\"Header\"].attrs[key])"
   ]
  },
  {
   "cell_type": "markdown",
   "metadata": {},
   "source": [
    "# Create new snapshot"
   ]
  },
  {
   "cell_type": "code",
   "execution_count": null,
   "metadata": {
    "collapsed": true
   },
   "outputs": [],
   "source": [
    "create_snapshot_with_new_SN(run_dir)"
   ]
  },
  {
   "cell_type": "code",
   "execution_count": null,
   "metadata": {
    "collapsed": true
   },
   "outputs": [],
   "source": []
  }
 ],
 "metadata": {
  "anaconda-cloud": {},
  "kernelspec": {
   "display_name": "Python [default]",
   "language": "python",
   "name": "python3"
  },
  "language_info": {
   "codemirror_mode": {
    "name": "ipython",
    "version": 3
   },
   "file_extension": ".py",
   "mimetype": "text/x-python",
   "name": "python",
   "nbconvert_exporter": "python",
   "pygments_lexer": "ipython3",
   "version": "3.5.2"
  }
 },
 "nbformat": 4,
 "nbformat_minor": 0
}
