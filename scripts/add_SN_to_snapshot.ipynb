{
 "cells": [
  {
   "cell_type": "code",
   "execution_count": null,
   "metadata": {
    "collapsed": false
   },
   "outputs": [],
   "source": [
    "import h5py\n",
    "import shutil\n",
    "import os\n",
    "import glob\n",
    "import numpy as np\n",
    "from scipy import stats\n",
    "\n",
    "from astropy import units as u\n",
    "from astropy import constants as const\n",
    "\n",
    "yr = u.yr.to(u.s)\n",
    "M_solar = u.M_sun.to(u.g)\n",
    "\n",
    "from injection_helpers import get_SNe, \\\n",
    "                              snapshot_number_from_basename, \\\n",
    "                              snapshot_basename_from_number, \\\n",
    "                              get_last_snapshot_file_in_dir, \\\n",
    "                              which_SN_is_about_to_explode"
   ]
  },
  {
   "cell_type": "code",
   "execution_count": null,
   "metadata": {
    "collapsed": true
   },
   "outputs": [],
   "source": [
    "inputs_dir = \"../ICs/cluster_cooling_150/\"\n",
    "outputs_dir = inputs_dir.replace(\"ICs\", \"output\")"
   ]
  },
  {
   "cell_type": "code",
   "execution_count": null,
   "metadata": {
    "collapsed": false
   },
   "outputs": [],
   "source": [
    "SNe = get_SNe()\n",
    "SN_times         = np.array([SN.time          for SN in SNe])\n",
    "SN_ejecta_mass   = np.array([SN.ejecta_mass   for SN in SNe])\n",
    "SN_ejecta_mass_Z = np.array([SN.ejecta_mass_Z for SN in SNe])"
   ]
  },
  {
   "cell_type": "code",
   "execution_count": null,
   "metadata": {
    "collapsed": false
   },
   "outputs": [],
   "source": [
    "SN_times"
   ]
  },
  {
   "cell_type": "code",
   "execution_count": null,
   "metadata": {
    "collapsed": false
   },
   "outputs": [],
   "source": [
    "SN_ejecta_mass"
   ]
  },
  {
   "cell_type": "code",
   "execution_count": null,
   "metadata": {
    "collapsed": false
   },
   "outputs": [],
   "source": [
    "SN_ejecta_mass_Z"
   ]
  },
  {
   "cell_type": "code",
   "execution_count": null,
   "metadata": {
    "collapsed": true
   },
   "outputs": [],
   "source": []
  },
  {
   "cell_type": "code",
   "execution_count": null,
   "metadata": {
    "collapsed": true
   },
   "outputs": [],
   "source": []
  },
  {
   "cell_type": "code",
   "execution_count": null,
   "metadata": {
    "collapsed": false
   },
   "outputs": [],
   "source": [
    "snapshot_file_old = get_last_snapshot_file_in_dir(outputs_dir)\n",
    "snapshot_number_old = snapshot_number_from_basename(os.path.basename(snapshot_file_old))\n",
    "\n",
    "snapshot_file_new = os.path.join(outputs_dir, snapshot_basename_from_number(snapshot_number_old+1))\n",
    "\n",
    "\n",
    "print(snapshot_file_old)\n",
    "print(snapshot_file_new)"
   ]
  },
  {
   "cell_type": "code",
   "execution_count": null,
   "metadata": {
    "collapsed": false
   },
   "outputs": [],
   "source": [
    "f_old = h5py.File(snapshot_file_old, mode=\"r\")\n",
    "f_new = h5py.File(snapshot_file_new, mode=\"w\")\n",
    "\n",
    "\n",
    "f_new.create_group(\"Header\")\n",
    "f_new.create_group(\"PartType0\")"
   ]
  },
  {
   "cell_type": "code",
   "execution_count": null,
   "metadata": {
    "collapsed": true
   },
   "outputs": [],
   "source": []
  },
  {
   "cell_type": "code",
   "execution_count": null,
   "metadata": {
    "collapsed": false
   },
   "outputs": [],
   "source": [
    "i_SN = which_SN_is_about_to_explode(f_old[\"Header\"].attrs[\"Time\"])\n",
    "print(i_SN)"
   ]
  },
  {
   "cell_type": "code",
   "execution_count": null,
   "metadata": {
    "collapsed": false
   },
   "outputs": [],
   "source": [
    "SN = SNe[i_SN]"
   ]
  },
  {
   "cell_type": "code",
   "execution_count": null,
   "metadata": {
    "collapsed": true
   },
   "outputs": [],
   "source": []
  },
  {
   "cell_type": "code",
   "execution_count": null,
   "metadata": {
    "collapsed": false
   },
   "outputs": [],
   "source": [
    "\n",
    "\n",
    "average_particle_mass = np.sum(f_old[\"PartType0\"][\"Masses\"]) / f_old[\"Header\"].attrs[\"NumPart_Total\"][0]\n",
    "print(average_particle_mass)\n",
    "\n",
    "num_new_particles_needed = int(np.ceil(SN.ejecta_mass / average_particle_mass))\n",
    "print(num_new_particles_needed)\n",
    "\n",
    "mass_per_new_particle = SN.ejecta_mass / num_new_particles_needed\n",
    "print(mass_per_new_particle)"
   ]
  },
  {
   "cell_type": "code",
   "execution_count": null,
   "metadata": {
    "collapsed": false
   },
   "outputs": [],
   "source": [
    "for key in f_old[\"Header\"].attrs:\n",
    "    f_new[\"Header\"].attrs[key] = f_old[\"Header\"].attrs[key]\n",
    "\n",
    "        \n",
    "# This is necessary since h5py attrs don't allow slicing/element-wise changes\n",
    "new_NumPart_ThisFile = f_new[\"Header\"].attrs[\"NumPart_ThisFile\"]\n",
    "new_NumPart_Total    = f_new[\"Header\"].attrs[\"NumPart_Total\"]\n",
    "\n",
    "new_NumPart_ThisFile[0] += num_new_particles_needed\n",
    "new_NumPart_Total[0]    += num_new_particles_needed\n",
    "\n",
    "f_new[\"Header\"].attrs[\"NumPart_ThisFile\"] = new_NumPart_ThisFile\n",
    "f_new[\"Header\"].attrs[\"NumPart_Total\"]    = new_NumPart_Total\n",
    "\n",
    "old_total_particles = f_old[\"Header\"].attrs[\"NumPart_Total\"][0]\n",
    "new_total_particles = f_new[\"Header\"].attrs[\"NumPart_Total\"][0]\n",
    "\n",
    "\n",
    "# Make other changes\n",
    "f_new[\"Header\"].attrs[\"Time\"] = SN.time + 1e-3 # 1 kyr after the SN\n",
    "\n",
    "\n",
    "# check data\n",
    "for key in f_new[\"Header\"].attrs:\n",
    "    print(key, \":\", f_new[\"Header\"].attrs[key]) "
   ]
  },
  {
   "cell_type": "code",
   "execution_count": null,
   "metadata": {
    "collapsed": false
   },
   "outputs": [],
   "source": [
    "for key in f_old[\"Header\"].attrs:\n",
    "    print(key, \":\", f_old[\"Header\"].attrs[key])"
   ]
  },
  {
   "cell_type": "code",
   "execution_count": null,
   "metadata": {
    "collapsed": false
   },
   "outputs": [],
   "source": [
    "for key in f_old[\"PartType0\"].keys():    \n",
    "    new_shape = (new_total_particles,) + f_old[\"PartType0\"][key].shape[1:]\n",
    "    dtype = f_old[\"PartType0\"][key].dtype\n",
    "    \n",
    "    f_new[\"PartType0\"].require_dataset(key, new_shape, dtype=dtype)\n",
    "    \n",
    "    f_new[\"PartType0\"][key][:old_total_particles] = f_old[\"PartType0\"][key]\n",
    "    \n",
    "    print(key, \":\", f_new[\"PartType0\"][key])\n",
    "    \n",
    "r_SN = 2 # pc    \n",
    "injection_kernel = stats.norm(loc=f_new[\"Header\"].attrs[\"BoxSize\"]/2, scale=r_SN)\n",
    "f_new[\"PartType0\"][\"Coordinates\"][-num_new_particles_needed:,0] = injection_kernel.rvs(size=num_new_particles_needed)\n",
    "f_new[\"PartType0\"][\"Coordinates\"][-num_new_particles_needed:,1] = injection_kernel.rvs(size=num_new_particles_needed)\n",
    "f_new[\"PartType0\"][\"Coordinates\"][-num_new_particles_needed:,2] = injection_kernel.rvs(size=num_new_particles_needed)\n",
    "\n",
    "f_new[\"PartType0\"][\"Density\"][-num_new_particles_needed:] = np.mean(f_old[\"PartType0\"][\"Density\"]) # EDIT: will this mess with my yt plots of this snapshot?\n",
    "\n",
    "f_new[\"PartType0\"][\"ElectronAbundance\"][-num_new_particles_needed:] = 1.0 # EDIT: unused?\n",
    "\n",
    "energy_in_correct_units = 1e51 * u.erg.to(u.pc**2 * u.M_sun / u.Myr**2)\n",
    "f_new[\"PartType0\"][\"InternalEnergy\"][-num_new_particles_needed:] = energy_in_correct_units/SN.ejecta_mass\n",
    "\n",
    "f_new[\"PartType0\"][\"Masses\"][-num_new_particles_needed:] = mass_per_new_particle\n",
    "\n",
    "f_new[\"PartType0\"][\"Metallicity\"][-num_new_particles_needed:] = SN.ejecta_mass / SN.ejecta_mass_Z\n",
    "\n",
    "f_new[\"PartType0\"][\"NeutralHydrogenAbundance\"][-num_new_particles_needed:] = 0.0 # EDIT: unused?\n",
    "\n",
    "f_new[\"PartType0\"][\"ParticleChildIDsNumber\"][-num_new_particles_needed:] = 0 # is this right?\n",
    "\n",
    "f_new[\"PartType0\"][\"ParticleIDGenerationNumber\"][-num_new_particles_needed:] = 0 # is this right?\n",
    "\n",
    "new_particle_ids = np.max(f_old[\"PartType0\"][\"ParticleIDs\"]) + 1 + np.arange(num_new_particles_needed)\n",
    "f_new[\"PartType0\"][\"ParticleIDs\"][-num_new_particles_needed:] = new_particle_ids\n",
    "\n",
    "f_new[\"PartType0\"][\"SmoothingLength\"][-num_new_particles_needed:] = np.mean(f_old[\"PartType0\"][\"SmoothingLength\"])\n",
    "\n",
    "f_new[\"PartType0\"][\"Velocities\"][-num_new_particles_needed:,0] = 0\n",
    "f_new[\"PartType0\"][\"Velocities\"][-num_new_particles_needed:,1] = 0\n",
    "f_new[\"PartType0\"][\"Velocities\"][-num_new_particles_needed:,2] = 0\n",
    "\n"
   ]
  },
  {
   "cell_type": "code",
   "execution_count": null,
   "metadata": {
    "collapsed": true
   },
   "outputs": [],
   "source": []
  },
  {
   "cell_type": "code",
   "execution_count": null,
   "metadata": {
    "collapsed": false
   },
   "outputs": [],
   "source": [
    "f_old.close()\n",
    "f_new.close()"
   ]
  },
  {
   "cell_type": "code",
   "execution_count": null,
   "metadata": {
    "collapsed": true
   },
   "outputs": [],
   "source": []
  }
 ],
 "metadata": {
  "anaconda-cloud": {},
  "kernelspec": {
   "display_name": "Python [default]",
   "language": "python",
   "name": "python3"
  },
  "language_info": {
   "codemirror_mode": {
    "name": "ipython",
    "version": 3
   },
   "file_extension": ".py",
   "mimetype": "text/x-python",
   "name": "python",
   "nbconvert_exporter": "python",
   "pygments_lexer": "ipython3",
   "version": "3.5.2"
  }
 },
 "nbformat": 4,
 "nbformat_minor": 0
}
