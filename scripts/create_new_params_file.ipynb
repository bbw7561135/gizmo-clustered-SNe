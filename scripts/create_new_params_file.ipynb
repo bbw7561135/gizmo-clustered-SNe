{
 "cells": [
  {
   "cell_type": "code",
   "execution_count": null,
   "metadata": {
    "collapsed": false
   },
   "outputs": [],
   "source": [
    "import h5py\n",
    "import shutil\n",
    "import os\n",
    "import glob\n",
    "import numpy as np\n",
    "from scipy import stats\n",
    "\n",
    "from astropy import units as u\n",
    "from astropy import constants as const\n",
    "\n",
    "yr = u.yr.to(u.s)\n",
    "M_solar = u.M_sun.to(u.g)\n",
    "\n",
    "from injection_helpers import get_SNe, \\\n",
    "                              snapshot_number_from_basename, \\\n",
    "                              snapshot_basename_from_number, \\\n",
    "                              get_last_snapshot_file_in_dir, \\\n",
    "                              which_SN_is_about_to_explode, \\\n",
    "                              find_params_file_base, \\\n",
    "                              get_default_snapshot_spacing, \\\n",
    "                              create_restart_params\n",
    "\n",
    "                    \n",
    "SNe = get_SNe()"
   ]
  },
  {
   "cell_type": "code",
   "execution_count": null,
   "metadata": {
    "collapsed": true
   },
   "outputs": [],
   "source": [
    "inputs_dir = \"../ICs/cluster_cooling_150/\"\n",
    "outputs_dir = inputs_dir.replace(\"ICs\", \"output\")"
   ]
  },
  {
   "cell_type": "code",
   "execution_count": null,
   "metadata": {
    "collapsed": false
   },
   "outputs": [],
   "source": [
    "snapshot_file_after_SN = get_last_snapshot_file_in_dir(outputs_dir)\n",
    "snapshot_number_after_SN = snapshot_number_from_basename(os.path.basename(snapshot_file_after_SN))\n",
    "\n",
    "snapshot_file_before_SN = snapshot_file_after_SN.replace(\"{:03}\".format(snapshot_number_after_SN),\n",
    "                                                         \"{:03}\".format(snapshot_number_after_SN-1),)\n",
    "\n",
    "print(\"after  SN: \", snapshot_file_after_SN)\n",
    "print(\"before SN: \", snapshot_file_before_SN)"
   ]
  },
  {
   "cell_type": "markdown",
   "metadata": {},
   "source": [
    "# Check data before creating params file"
   ]
  },
  {
   "cell_type": "code",
   "execution_count": null,
   "metadata": {
    "collapsed": false
   },
   "outputs": [],
   "source": [
    "params_file_base = find_params_file_base(inputs_dir)\n",
    "print(params_file_base)\n",
    "\n",
    "with open(params_file_base, mode=\"r\") as f:\n",
    "    params_text_base = f.read()\n",
    "    \n",
    "print(params_text_base)\n"
   ]
  },
  {
   "cell_type": "code",
   "execution_count": null,
   "metadata": {
    "collapsed": false
   },
   "outputs": [],
   "source": [
    "with h5py.File(snapshot_file_before_SN) as f:\n",
    "    i_SN = which_SN_is_about_to_explode(f[\"Header\"].attrs[\"Time\"])\n",
    "SN = SNe[i_SN]\n",
    "\n",
    "print(i_SN)"
   ]
  },
  {
   "cell_type": "markdown",
   "metadata": {
    "collapsed": true
   },
   "source": [
    "# Create params file"
   ]
  },
  {
   "cell_type": "code",
   "execution_count": null,
   "metadata": {
    "collapsed": false
   },
   "outputs": [],
   "source": [
    "create_restart_params(snapshot_file_after_SN, inputs_dir)"
   ]
  }
 ],
 "metadata": {
  "anaconda-cloud": {},
  "kernelspec": {
   "display_name": "Python [default]",
   "language": "python",
   "name": "python3"
  },
  "language_info": {
   "codemirror_mode": {
    "name": "ipython",
    "version": 3
   },
   "file_extension": ".py",
   "mimetype": "text/x-python",
   "name": "python",
   "nbconvert_exporter": "python",
   "pygments_lexer": "ipython3",
   "version": "3.5.2"
  }
 },
 "nbformat": 4,
 "nbformat_minor": 1
}
