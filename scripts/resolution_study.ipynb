{
 "cells": [
  {
   "cell_type": "code",
   "execution_count": null,
   "metadata": {
    "collapsed": false
   },
   "outputs": [],
   "source": [
    "from __future__ import print_function, division\n",
    "\n",
    "%matplotlib inline\n",
    "from matplotlib import pyplot as plt\n",
    "import seaborn as sns; sns.set(context=\"poster\")\n",
    "import os\n",
    "import glob\n",
    "\n",
    "import numpy as np\n",
    "\n",
    "from units import M_solar, m_proton, pc, yr, Myr, km, s, gamma\n",
    "\n",
    "from injection_helpers import get_SNe\n",
    "\n",
    "from visualize_helpers import \\\n",
    "    total_radial_momentum_of_snapshot, \\\n",
    "    map_to_all_snapshots, \\\n",
    "    get_snapshot_times, \\\n",
    "    load_snapshots\n"
   ]
  },
  {
   "cell_type": "markdown",
   "metadata": {},
   "source": [
    "## 1D (hi-res)"
   ]
  },
  {
   "cell_type": "code",
   "execution_count": null,
   "metadata": {
    "collapsed": true
   },
   "outputs": [],
   "source": [
    "## Boilerplate path hack to give access to full clustered_SNe package\n",
    "import sys, os\n",
    "if __package__ is None:\n",
    "    if os.pardir not in sys.path[0]:\n",
    "        file_dir = os.getcwd()\n",
    "        sys.path.insert(0, os.path.join(file_dir, \n",
    "                                        os.pardir, \n",
    "                                        os.pardir))\n",
    "        \n",
    "from clustered_SNe.analysis.parse import Overview, RunSummary"
   ]
  },
  {
   "cell_type": "code",
   "execution_count": null,
   "metadata": {
    "collapsed": true
   },
   "outputs": [],
   "source": [
    "data_dir_1D = \"1D_data/\"\n",
    "\n",
    "run_summary = RunSummary(data_dir_1D, \"25451948-485f-46fe-b87b-f4329d03b203\")"
   ]
  },
  {
   "cell_type": "markdown",
   "metadata": {},
   "source": [
    "# 3D (resolution study)"
   ]
  },
  {
   "cell_type": "code",
   "execution_count": null,
   "metadata": {
    "collapsed": false
   },
   "outputs": [],
   "source": [
    "base_box_size = 400\n",
    "\n",
    "N_particles_per_side = np.array([\n",
    "        150, \n",
    "#         200, \n",
    "#         250, \n",
    "        300,\n",
    "        600,\n",
    "    ])\n",
    "dxs = base_box_size / N_particles_per_side\n",
    "\n",
    "simulation_base_name = \"cluster_cooling\"\n",
    "\n",
    "snapshot_dirs = {N : \"../runs/{}_{}/outputs\".format(simulation_base_name, N)\n",
    "                for N in N_particles_per_side}\n",
    "\n",
    "snapshot_dirs[300] = \"../runs/cluster_cooling_small_300/outputs/\""
   ]
  },
  {
   "cell_type": "code",
   "execution_count": null,
   "metadata": {
    "collapsed": false
   },
   "outputs": [],
   "source": [
    "SNe_dir = \"../runs/{}_{}/inputs\".format(simulation_base_name, N_particles_per_side[0])\n",
    "SNe = get_SNe(SNe_dir)\n",
    "SN_times_3D = np.array([SN.time for SN in SNe])"
   ]
  },
  {
   "cell_type": "code",
   "execution_count": null,
   "metadata": {
    "collapsed": true
   },
   "outputs": [],
   "source": [
    "def get_times_and_radial_momenta(snapshot_dir):    \n",
    "    ts = load_snapshots(snapshot_dir)\n",
    "\n",
    "    times_snapshots_tmp = get_snapshot_times(ts)\n",
    "    \n",
    "    #########\n",
    "\n",
    "    radial_momenta_tmp = map_to_all_snapshots(snapshot_dir, total_radial_momentum_of_snapshot)\n",
    "        \n",
    "    return times_snapshots_tmp, radial_momenta_tmp"
   ]
  },
  {
   "cell_type": "code",
   "execution_count": null,
   "metadata": {
    "collapsed": true
   },
   "outputs": [],
   "source": [
    "from multiprocessing import Pool\n",
    "\n",
    "pool = Pool(3)"
   ]
  },
  {
   "cell_type": "markdown",
   "metadata": {},
   "source": [
    "# Read in HD runs"
   ]
  },
  {
   "cell_type": "code",
   "execution_count": null,
   "metadata": {
    "collapsed": false
   },
   "outputs": [],
   "source": [
    "snapshot_dirs_tmp = [snapshot_dirs[N_particles_per_side_i]\n",
    "                     for N_particles_per_side_i in N_particles_per_side]\n",
    "\n",
    "for snapshot_dir in snapshot_dirs_tmp:\n",
    "    print(\"Loading {:>3} snapshots from {}\".format(\n",
    "            len(glob.glob(os.path.join(snapshot_dir, \"snapshot*.hdf5\"))),\n",
    "            snapshot_dir))\n",
    "\n",
    "outputs = pool.map(get_times_and_radial_momenta, snapshot_dirs_tmp)\n",
    "\n",
    "times_snapshots = {N_particles_per_side_i : outputs[i][0]\n",
    "                   for i, N_particles_per_side_i in enumerate(N_particles_per_side)}\n",
    "\n",
    "radial_momenta  = {N_particles_per_side_i : outputs[i][1]\n",
    "                   for i, N_particles_per_side_i in enumerate(N_particles_per_side)}\n"
   ]
  },
  {
   "cell_type": "markdown",
   "metadata": {},
   "source": [
    "# Read in MHD runs"
   ]
  },
  {
   "cell_type": "code",
   "execution_count": null,
   "metadata": {
    "collapsed": true
   },
   "outputs": [],
   "source": [
    "base_box_size = 400\n",
    "\n",
    "N_particles_per_side_mhd = np.array([\n",
    "#         150, \n",
    "        200, \n",
    "#         250, \n",
    "#         300,\n",
    "#         600,\n",
    "    ])\n",
    "dxs_mhd = base_box_size / N_particles_per_side_mhd\n",
    "\n",
    "simulation_base_name_mhd = \"cluster_cooling_mhd\"\n",
    "\n",
    "snapshot_dirs_mhd = {N : \"../runs/{}_{}/outputs\".format(simulation_base_name_mhd, N)\n",
    "                     for N in N_particles_per_side_mhd}"
   ]
  },
  {
   "cell_type": "code",
   "execution_count": null,
   "metadata": {
    "collapsed": false
   },
   "outputs": [],
   "source": [
    "snapshot_dirs_tmp = [snapshot_dirs_mhd[N_particles_per_side_i]\n",
    "                     for N_particles_per_side_i in N_particles_per_side_mhd]\n",
    "\n",
    "for snapshot_dir in snapshot_dirs_tmp:\n",
    "    print(\"Loading {:>3} snapshots from {}\".format(\n",
    "            len(glob.glob(os.path.join(snapshot_dir, \"snapshot*.hdf5\"))),\n",
    "            snapshot_dir))\n",
    "\n",
    "outputs = pool.map(get_times_and_radial_momenta, snapshot_dirs_tmp)\n",
    "\n",
    "times_snapshots_mhd = {N_particles_per_side_i : outputs[i][0]\n",
    "                       for i, N_particles_per_side_i in enumerate(N_particles_per_side_mhd)}\n",
    "\n",
    "radial_momenta_mhd  = {N_particles_per_side_i : outputs[i][1]\n",
    "                       for i, N_particles_per_side_i in enumerate(N_particles_per_side_mhd)}\n"
   ]
  },
  {
   "cell_type": "markdown",
   "metadata": {},
   "source": [
    "# Plot"
   ]
  },
  {
   "cell_type": "code",
   "execution_count": null,
   "metadata": {
    "collapsed": false
   },
   "outputs": [],
   "source": [
    "with sns.axes_style(\"ticks\"):\n",
    "    plt.plot((run_summary.times - run_summary.overview.SNe_times[0]) / (Myr),\n",
    "             run_summary.momentum / (100 * M_solar * 11 * km / s),\n",
    "             label=\"1D\",\n",
    "             linestyle=\"dashed\",\n",
    "             )\n",
    "\n",
    "\n",
    "    for N_particles_per_side_i in N_particles_per_side[::-1]:\n",
    "\n",
    "        plt.plot(times_snapshots[N_particles_per_side_i],\n",
    "                 radial_momenta[N_particles_per_side_i] / (100 * M_solar * 11 * km / s),\n",
    "                 label=\"3D: $\\Delta x = $ {:.1f} pc\".format(400 / N_particles_per_side_i),\n",
    "                 )\n",
    "        \n",
    "    for N_particles_per_side_i in N_particles_per_side_mhd[::-1]:\n",
    "\n",
    "        plt.plot(times_snapshots_mhd[N_particles_per_side_i],\n",
    "                 radial_momenta_mhd[N_particles_per_side_i] / (100 * M_solar * 11 * km / s),\n",
    "                 label=\"3D MHD: $\\Delta x = $ {:.1f} pc\".format(400 / N_particles_per_side_i),\n",
    "                 linestyle=\"dotted\", color=\"k\",\n",
    "                )\n",
    "\n",
    "\n",
    "    sns.rugplot(SN_times_3D, color=\"k\", linewidth=3)\n",
    "\n",
    "    plt.xlabel(r\"$t$ $[\\mathrm{Myr}]$\")\n",
    "    plt.ylabel(r\"$p / (100$ $M_\\odot$ $N_\\mathrm{SNe})$ $[\\mathrm{km}$ $\\mathrm{s}^{-1}]$\")\n",
    "\n",
    "\n",
    "    plt.xlim(xmin=-1,\n",
    "             xmax=100)\n",
    "    plt.ylim(ymin=300,\n",
    "             ymax=3000,\n",
    "            )\n",
    "\n",
    "    plt.yscale(\"log\")\n",
    "\n",
    "    plt.legend(loc=\"best\")"
   ]
  },
  {
   "cell_type": "code",
   "execution_count": null,
   "metadata": {
    "collapsed": false
   },
   "outputs": [],
   "source": [
    "SN_times_3D"
   ]
  },
  {
   "cell_type": "code",
   "execution_count": null,
   "metadata": {
    "collapsed": true
   },
   "outputs": [],
   "source": []
  }
 ],
 "metadata": {
  "anaconda-cloud": {},
  "kernelspec": {
   "display_name": "Python [default]",
   "language": "python",
   "name": "python3"
  },
  "language_info": {
   "codemirror_mode": {
    "name": "ipython",
    "version": 3
   },
   "file_extension": ".py",
   "mimetype": "text/x-python",
   "name": "python",
   "nbconvert_exporter": "python",
   "pygments_lexer": "ipython3",
   "version": "3.5.2"
  }
 },
 "nbformat": 4,
 "nbformat_minor": 0
}
