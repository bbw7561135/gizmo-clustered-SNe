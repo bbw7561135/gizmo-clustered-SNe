{
 "cells": [
  {
   "cell_type": "code",
   "execution_count": null,
   "metadata": {
    "collapsed": false
   },
   "outputs": [],
   "source": [
    "from __future__ import print_function, division\n",
    "\n",
    "%matplotlib inline\n",
    "from matplotlib import pyplot as plt\n",
    "import seaborn as sns; sns.set(context=\"poster\")\n",
    "import ipywidgets\n",
    "import yt\n",
    "import glob\n",
    "import os\n",
    "import warnings\n",
    "\n",
    "import numpy as np\n",
    "import pandas as pd\n",
    "\n",
    "from astropy import constants as const\n",
    "from astropy import units as u\n",
    "\n",
    "M_solar = const.M_sun.cgs.value\n",
    "m_proton = const.m_p.cgs.value\n",
    "pc = u.pc.to(u.cm)\n",
    "yr = u.yr.to(u.s)\n",
    "Myr = 1e6*yr\n",
    "gamma = 5/3\n",
    "\n",
    "@yt.derived_field(name=\"pressure\", units=\"g  / s**2 / cm\")\n",
    "def _pressure(field, data):\n",
    "    return (gamma-1) * data[\"thermal_energy\"] * data[\"density\"]"
   ]
  },
  {
   "cell_type": "markdown",
   "metadata": {},
   "source": [
    "## 1D (hi-res)"
   ]
  },
  {
   "cell_type": "code",
   "execution_count": null,
   "metadata": {
    "collapsed": true
   },
   "outputs": [],
   "source": [
    "## Boilerplate path hack to give access to full clustered_SNe package\n",
    "import sys, os\n",
    "if __package__ is None:\n",
    "    if os.pardir not in sys.path[0]:\n",
    "        file_dir = os.getcwd()\n",
    "        sys.path.insert(0, os.path.join(file_dir, \n",
    "                                        os.pardir, \n",
    "                                        os.pardir))\n",
    "        \n",
    "from clustered_SNe.analysis.parse import Overview, RunSummary"
   ]
  },
  {
   "cell_type": "code",
   "execution_count": null,
   "metadata": {
    "collapsed": true
   },
   "outputs": [],
   "source": [
    "data_dir_1D = \"1D_data/\"\n",
    "\n",
    "run_summary = RunSummary(data_dir_1D, \"25451948-485f-46fe-b87b-f4329d03b203\")"
   ]
  },
  {
   "cell_type": "markdown",
   "metadata": {},
   "source": [
    "# 3D (resolution study)"
   ]
  },
  {
   "cell_type": "code",
   "execution_count": null,
   "metadata": {
    "collapsed": true
   },
   "outputs": [],
   "source": [
    "box_size = 400\n",
    "\n",
    "N_particles_per_side = np.array([150, 200, 250, 300])\n",
    "dxs = box_size / N_particles_per_side\n",
    "\n",
    "simulation_base_name = \"cluster_cooling\""
   ]
  },
  {
   "cell_type": "code",
   "execution_count": null,
   "metadata": {
    "collapsed": true
   },
   "outputs": [],
   "source": [
    "possible_SN_files = glob.glob(os.path.join(\"../ICs/{}_{}\".format(simulation_base_name,\n",
    "                                                                 N_particles_per_side[0])\n",
    "                                           , \"*SNe.dat\"))\n",
    "\n",
    "if len(possible_SN_files) == 0: \n",
    "    raise FileNotFoundError(\"No SN data files found in {}\".format(SN_directory))\n",
    "elif len(possible_SN_files) > 1:\n",
    "    raise RuntimeError(\"Too many SN data files found in {}\".format(SN_directory))\n",
    "\n",
    "    \n",
    "SN_file = possible_SN_files[0]\n",
    "SN_data = np.loadtxt(SN_file, ndmin=2)\n",
    "SN_times_3D = np.sort(SN_data[:,0])\n",
    "\n",
    "SN_times_3D -= SN_times_3D[0]\n",
    "SN_times_3D[0] = 3e10\n",
    "\n",
    "SN_times_3D /= u.Myr.to(u.s)"
   ]
  },
  {
   "cell_type": "code",
   "execution_count": null,
   "metadata": {
    "collapsed": true
   },
   "outputs": [],
   "source": [
    "unit_base = {\n",
    "    \"UnitLength_in_cm\" : (pc),\n",
    "    \"UnitVelocity_in_cm_per_s\"   : (pc / Myr),\n",
    "    \"UnitMass_in_g\"   : (M_solar)\n",
    "}\n",
    "\n",
    "#####################\n",
    "\n",
    "snapshot_filename_format = \"snapshot_???.hdf5\""
   ]
  },
  {
   "cell_type": "code",
   "execution_count": null,
   "metadata": {
    "collapsed": false
   },
   "outputs": [],
   "source": [
    "radial_momenta = dict()\n",
    "times_snapshots = dict()\n",
    "\n",
    "for i, N_particles_per_side_i in enumerate(N_particles_per_side):\n",
    "    print(i)\n",
    "    \n",
    "    snapshot_dir = \"../output/{}_{}\".format(simulation_base_name, N_particles_per_side_i)\n",
    "    \n",
    "    \n",
    "    n_files_ready = len(glob.glob(os.path.join(snapshot_dir, snapshot_filename_format)))\n",
    "    \n",
    "    if n_files_ready == 0:\n",
    "        raise FileNotFoundError(\"No snapshots found in {}\".format(snapshot_dir))\n",
    "    \n",
    "    if True:\n",
    "        pass\n",
    "\n",
    "    ts = yt.load(os.path.join(snapshot_dir, snapshot_filename_format),\n",
    "                 unit_base=unit_base)\n",
    "\n",
    "    times_snapshots[N_particles_per_side_i] = np.array([ts[j].current_time.convert_to_cgs() \n",
    "        for j in range(len(ts))]) / u.Myr.to(u.s)\n",
    "\n",
    "    print(\"Loaded {} snapshots\".format(len(ts)))\n",
    "\n",
    "    ds = ts[0]\n",
    "    rho_0 = ds.all_data()[\"all\",\"density\"].mean()\n",
    "\n",
    "    \n",
    "    #########\n",
    "\n",
    "\n",
    "\n",
    "    radial_momenta[N_particles_per_side_i] = np.empty(len(ts))\n",
    "\n",
    "    for j, ds in enumerate(ts):\n",
    "        dd = ds.all_data()\n",
    "\n",
    "        v_r = ((dd[\"all\", \"Coordinates\"]-ds.domain_center) \\\n",
    "                / dd[\"all\", \"particle_radius\"].reshape(dd[\"all\", \"Masses\"].size, 1) \\\n",
    "                * dd[\"all\",\"Velocities\"])\\\n",
    "                .sum(axis=1)\n",
    "        \n",
    "        radial_momenta[N_particles_per_side_i][j]  = (v_r * dd[\"all\", \"Masses\"]).sum()\n"
   ]
  },
  {
   "cell_type": "code",
   "execution_count": null,
   "metadata": {
    "collapsed": false
   },
   "outputs": [],
   "source": [
    "plt.plot((run_summary.times - run_summary.overview.SNe_times[0]) / (1e6*yr),\n",
    "         run_summary.momentum / (100 * M_solar * 11 * 1e5),\n",
    "         label=\"1D\",\n",
    "         linestyle=\"dashed\",\n",
    "         )\n",
    "\n",
    "\n",
    "for N_particles_per_side_i in N_particles_per_side:\n",
    "\n",
    "    plt.plot(times_snapshots[N_particles_per_side_i],\n",
    "             radial_momenta[N_particles_per_side_i] / (100 * M_solar * 11 * 1e5),\n",
    "             label=\"3D: $\\Delta x = $ {:.1f} pc\".format(400 / N_particles_per_side_i),\n",
    "             )\n",
    "\n",
    "\n",
    "sns.rugplot(SN_times_3D, color=\"k\", linewidth=3)\n",
    "\n",
    "plt.xlabel(r\"$t$ $[\\mathrm{Myr}]$\")\n",
    "plt.ylabel(r\"$p / (100$ $M_\\odot$ $N_\\mathrm{SNe})$ $[\\mathrm{km}$ $\\mathrm{s}^{-1}]$\")\n",
    "\n",
    "\n",
    "plt.xlim(xmax=100)\n",
    "plt.ylim(ymin=300,\n",
    "         ymax=3000,\n",
    "        )\n",
    "\n",
    "plt.yscale(\"log\")\n",
    "\n",
    "plt.legend(loc=\"best\")"
   ]
  },
  {
   "cell_type": "code",
   "execution_count": null,
   "metadata": {
    "collapsed": false
   },
   "outputs": [],
   "source": [
    "SN_times_3D"
   ]
  },
  {
   "cell_type": "code",
   "execution_count": null,
   "metadata": {
    "collapsed": true
   },
   "outputs": [],
   "source": []
  },
  {
   "cell_type": "code",
   "execution_count": null,
   "metadata": {
    "collapsed": true
   },
   "outputs": [],
   "source": []
  }
 ],
 "metadata": {
  "anaconda-cloud": {},
  "kernelspec": {
   "display_name": "Python [default]",
   "language": "python",
   "name": "python3"
  },
  "language_info": {
   "codemirror_mode": {
    "name": "ipython",
    "version": 3
   },
   "file_extension": ".py",
   "mimetype": "text/x-python",
   "name": "python",
   "nbconvert_exporter": "python",
   "pygments_lexer": "ipython3",
   "version": "3.5.2"
  }
 },
 "nbformat": 4,
 "nbformat_minor": 0
}
