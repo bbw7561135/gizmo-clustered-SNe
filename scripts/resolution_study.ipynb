{
 "cells": [
  {
   "cell_type": "code",
   "execution_count": null,
   "metadata": {
    "collapsed": false
   },
   "outputs": [],
   "source": [
    "from __future__ import print_function, division\n",
    "\n",
    "%matplotlib inline\n",
    "from matplotlib import pyplot as plt\n",
    "import seaborn as sns; sns.set(context=\"poster\")\n",
    "import os\n",
    "import glob\n",
    "\n",
    "import numpy as np\n",
    "\n",
    "from units import M_solar, m_proton, pc, yr, Myr, km, s, gamma\n",
    "\n",
    "from injection_helpers import get_SNe\n",
    "\n",
    "from visualize_helpers import \\\n",
    "    total_radial_momentum_of_snapshot, \\\n",
    "    map_to_all_snapshots, \\\n",
    "    get_snapshot_times, \\\n",
    "    load_snapshots\n",
    "    \n",
    "from sql_helpers import add_simulation, \\\n",
    "    open_as_DataFrame, get_db_dirname_tmp\n"
   ]
  },
  {
   "cell_type": "code",
   "execution_count": null,
   "metadata": {
    "collapsed": false
   },
   "outputs": [],
   "source": [
    "db_dir_tmp = get_db_dirname_tmp()\n",
    "if not os.path.exists(db_dir_tmp):\n",
    "    print(\"making temporary database directory: \", db_dir_tmp)\n",
    "    os.mkdir(db_dir_tmp)"
   ]
  },
  {
   "cell_type": "markdown",
   "metadata": {},
   "source": [
    "## 1D (hi-res)"
   ]
  },
  {
   "cell_type": "code",
   "execution_count": null,
   "metadata": {
    "collapsed": true
   },
   "outputs": [],
   "source": [
    "## Boilerplate path hack to give access to full clustered_SNe package\n",
    "import sys, os\n",
    "if __package__ is None:\n",
    "    if os.pardir not in sys.path[0]:\n",
    "        file_dir = os.getcwd()\n",
    "        sys.path.insert(0, os.path.join(file_dir, \n",
    "                                        os.pardir, \n",
    "                                        os.pardir))\n",
    "        \n",
    "from clustered_SNe.analysis.parse import Overview, RunSummary"
   ]
  },
  {
   "cell_type": "code",
   "execution_count": null,
   "metadata": {
    "collapsed": true
   },
   "outputs": [],
   "source": [
    "data_dir_1D = \"1D_data/\"\n",
    "\n",
    "run_summary = RunSummary(data_dir_1D, \"25451948-485f-46fe-b87b-f4329d03b203\")"
   ]
  },
  {
   "cell_type": "markdown",
   "metadata": {},
   "source": [
    "# 3D (resolution study)"
   ]
  },
  {
   "cell_type": "code",
   "execution_count": null,
   "metadata": {
    "collapsed": false
   },
   "outputs": [],
   "source": [
    "base_box_size = 400\n",
    "\n",
    "N_particles_per_side = np.array([\n",
    "        100, \n",
    "#         150, \n",
    "        200, \n",
    "#         250, \n",
    "        300,\n",
    "        400, \n",
    "        600,\n",
    "    ])\n",
    "dxs = base_box_size / N_particles_per_side\n",
    "\n",
    "simulation_base_name = \"cluster_cooling\"\n",
    "\n",
    "run_names = {N : \"{}_{}\".format(simulation_base_name, N)\n",
    "             for N in N_particles_per_side}\n",
    "\n",
    "snapshot_dirs = {N : \"../runs/{}/outputs\".format(run_names[N])\n",
    "                for N in run_names}\n"
   ]
  },
  {
   "cell_type": "code",
   "execution_count": null,
   "metadata": {
    "collapsed": false
   },
   "outputs": [],
   "source": [
    "SNe_dir = list(snapshot_dirs.values())[0].replace(\"outputs\", \"inputs\")\n",
    "SNe = get_SNe(SNe_dir)\n",
    "SN_times_3D = np.array([SN.time for SN in SNe])"
   ]
  },
  {
   "cell_type": "code",
   "execution_count": null,
   "metadata": {
    "collapsed": true
   },
   "outputs": [],
   "source": [
    "def copy_and_get_DataFrames(run_name):\n",
    "    df = open_as_DataFrame(run_name, copy_first=True)\n",
    "    \n",
    "    return df\n"
   ]
  },
  {
   "cell_type": "code",
   "execution_count": null,
   "metadata": {
    "collapsed": false,
    "scrolled": false
   },
   "outputs": [],
   "source": [
    "from multiprocessing import Pool\n",
    "\n",
    "pool = Pool(3)"
   ]
  },
  {
   "cell_type": "markdown",
   "metadata": {},
   "source": [
    "# Read in HD runs"
   ]
  },
  {
   "cell_type": "code",
   "execution_count": null,
   "metadata": {
    "collapsed": false
   },
   "outputs": [],
   "source": [
    "snapshot_dirs_tmp = [snapshot_dirs[N_particles_per_side_i]\n",
    "                     for N_particles_per_side_i in N_particles_per_side]\n",
    "\n",
    "run_names_tmp = [run_names[N_particles_per_side_i]\n",
    "                 for N_particles_per_side_i in N_particles_per_side]\n",
    "\n",
    "\n",
    "outputs = pool.map(copy_and_get_DataFrames, run_names_tmp)\n",
    "\n",
    "times_snapshots = {N_particles_per_side_i : outputs[i].time\n",
    "                   for i, N_particles_per_side_i in enumerate(N_particles_per_side)}\n",
    "\n",
    "radial_momenta  = {N_particles_per_side_i : outputs[i].momentum\n",
    "                   for i, N_particles_per_side_i in enumerate(N_particles_per_side)}\n"
   ]
  },
  {
   "cell_type": "markdown",
   "metadata": {},
   "source": [
    "# Read in MHD runs"
   ]
  },
  {
   "cell_type": "code",
   "execution_count": null,
   "metadata": {
    "collapsed": true
   },
   "outputs": [],
   "source": [
    "base_box_size = 400\n",
    "\n",
    "N_particles_per_side_mhd = np.array([\n",
    "#         150, \n",
    "        200, \n",
    "#         250, \n",
    "#         300,\n",
    "#         600,\n",
    "    ])\n",
    "dxs_mhd = base_box_size / N_particles_per_side_mhd\n",
    "\n",
    "simulation_base_name_mhd = \"cluster_cooling_mhd\"\n",
    "\n",
    "run_names_mhd = {N : \"{}_{}\".format(simulation_base_name_mhd, N)\n",
    "                 for N in N_particles_per_side_mhd}\n",
    "\n",
    "snapshot_dirs_mhd = {N : \"../runs/{}/outputs\".format(run_names_mhd[N])\n",
    "                     for N in N_particles_per_side_mhd}"
   ]
  },
  {
   "cell_type": "code",
   "execution_count": null,
   "metadata": {
    "collapsed": false
   },
   "outputs": [],
   "source": [
    "snapshot_dirs_tmp = [snapshot_dirs_mhd[N_particles_per_side_i]\n",
    "                     for N_particles_per_side_i in N_particles_per_side_mhd]\n",
    "\n",
    "run_names_tmp = [run_names_mhd[N_particles_per_side_i]\n",
    "                 for N_particles_per_side_i in N_particles_per_side_mhd]\n",
    "\n",
    "outputs_mhd = pool.map(copy_and_get_DataFrames, run_names_tmp)\n",
    "\n",
    "times_snapshots_mhd = {N_particles_per_side_i : outputs_mhd[i].time\n",
    "                       for i, N_particles_per_side_i in enumerate(N_particles_per_side_mhd)}\n",
    "\n",
    "radial_momenta_mhd = {N_particles_per_side_i : outputs_mhd[i].momentum\n",
    "                       for i, N_particles_per_side_i in enumerate(N_particles_per_side_mhd)}\n"
   ]
  },
  {
   "cell_type": "markdown",
   "metadata": {},
   "source": [
    "# Plot"
   ]
  },
  {
   "cell_type": "code",
   "execution_count": null,
   "metadata": {
    "collapsed": false
   },
   "outputs": [],
   "source": [
    "def N_particles_to_color(N_particles, verbose=False):\n",
    "    min_N = min(N_particles_per_side.min(), N_particles_per_side_mhd.min())\n",
    "    max_N = max(N_particles_per_side.max(), N_particles_per_side_mhd.max())\n",
    "    \n",
    "    if verbose:\n",
    "        print(\"min_N: \", min_N)\n",
    "        print(\"max_N: \", max_N)\n",
    "    \n",
    "    # log space the colorscale\n",
    "    x = (np.log(N_particles)-np.log(min_N)) / (np.log(max_N) - np.log(min_N))\n",
    "    if verbose:\n",
    "        print(\"x:     \", x)\n",
    "        \n",
    "    color = plt.cm.viridis_r( x )\n",
    "    \n",
    "    return color\n",
    "    "
   ]
  },
  {
   "cell_type": "code",
   "execution_count": null,
   "metadata": {
    "collapsed": false
   },
   "outputs": [],
   "source": [
    "with sns.axes_style(\"ticks\"):\n",
    "    plt.plot((run_summary.times - run_summary.overview.SNe_times[0]) / (Myr),\n",
    "             run_summary.momentum / (100 * M_solar * 11 * km / s),\n",
    "             label=\"1D\",\n",
    "             linestyle=\"dotted\", color=\"k\",\n",
    "             )\n",
    "\n",
    "\n",
    "    for N_particles_per_side_i in N_particles_per_side[::-1]:\n",
    "\n",
    "        plt.plot(times_snapshots[N_particles_per_side_i],\n",
    "                 radial_momenta[N_particles_per_side_i] / (100 * M_solar * 11 * km / s),\n",
    "                 label=\"3D: $\\Delta x = $ {:.1f} pc\".format(400 / N_particles_per_side_i),\n",
    "                 color=N_particles_to_color(N_particles_per_side_i),\n",
    "                 )\n",
    "        \n",
    "    for N_particles_per_side_i in N_particles_per_side_mhd[::-1]:\n",
    "\n",
    "        plt.plot(times_snapshots_mhd[N_particles_per_side_i],\n",
    "                 radial_momenta_mhd[N_particles_per_side_i] / (100 * M_solar * 11 * km / s),\n",
    "                 label=\"3D MHD: $\\Delta x = $ {:.1f} pc\".format(400 / N_particles_per_side_i),\n",
    "                 linestyle=\"dashed\", \n",
    "                 color=N_particles_to_color(N_particles_per_side_i),\n",
    "                )\n",
    "\n",
    "\n",
    "    sns.rugplot(SN_times_3D, color=\"k\", linewidth=3)\n",
    "\n",
    "    plt.xlabel(r\"$t$ $[\\mathrm{Myr}]$\")\n",
    "    plt.ylabel(r\"$p / (100$ $M_\\odot$ $N_\\mathrm{SNe})$ $[\\mathrm{km}$ $\\mathrm{s}^{-1}]$\")\n",
    "\n",
    "\n",
    "    plt.xlim(xmin=-1,\n",
    "             xmax=40)\n",
    "    plt.ylim(ymin=300,\n",
    "             ymax=3000,\n",
    "            )\n",
    "\n",
    "    plt.yscale(\"log\")\n",
    "\n",
    "    plt.legend(loc=\"best\")"
   ]
  },
  {
   "cell_type": "code",
   "execution_count": null,
   "metadata": {
    "collapsed": true
   },
   "outputs": [],
   "source": []
  }
 ],
 "metadata": {
  "anaconda-cloud": {},
  "kernelspec": {
   "display_name": "Python [default]",
   "language": "python",
   "name": "python3"
  },
  "language_info": {
   "codemirror_mode": {
    "name": "ipython",
    "version": 3
   },
   "file_extension": ".py",
   "mimetype": "text/x-python",
   "name": "python",
   "nbconvert_exporter": "python",
   "pygments_lexer": "ipython3",
   "version": "3.5.2"
  }
 },
 "nbformat": 4,
 "nbformat_minor": 0
}
