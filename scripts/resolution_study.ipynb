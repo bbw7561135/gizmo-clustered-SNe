{
 "cells": [
  {
   "cell_type": "code",
   "execution_count": null,
   "metadata": {
    "collapsed": false
   },
   "outputs": [],
   "source": [
    "from __future__ import print_function, division\n",
    "\n",
    "%matplotlib inline\n",
    "from matplotlib import pyplot as plt\n",
    "import seaborn as sns; sns.set(context=\"poster\")\n",
    "import ipywidgets\n",
    "import yt\n",
    "import glob\n",
    "import os\n",
    "import warnings\n",
    "import h5py\n",
    "\n",
    "import numpy as np\n",
    "import pandas as pd\n",
    "\n",
    "from astropy import constants as const\n",
    "from astropy import units as u\n",
    "\n",
    "M_solar = const.M_sun.cgs.value\n",
    "m_proton = const.m_p.cgs.value\n",
    "pc = u.pc.to(u.cm)\n",
    "yr = u.yr.to(u.s)\n",
    "Myr = 1e6*yr\n",
    "gamma = 5/3\n",
    "\n",
    "@yt.derived_field(name=\"pressure\", units=\"g  / s**2 / cm\")\n",
    "def _pressure(field, data):\n",
    "    return (gamma-1) * data[\"thermal_energy\"] * data[\"density\"]"
   ]
  },
  {
   "cell_type": "markdown",
   "metadata": {},
   "source": [
    "## 1D (hi-res)"
   ]
  },
  {
   "cell_type": "code",
   "execution_count": null,
   "metadata": {
    "collapsed": true
   },
   "outputs": [],
   "source": [
    "## Boilerplate path hack to give access to full clustered_SNe package\n",
    "import sys, os\n",
    "if __package__ is None:\n",
    "    if os.pardir not in sys.path[0]:\n",
    "        file_dir = os.getcwd()\n",
    "        sys.path.insert(0, os.path.join(file_dir, \n",
    "                                        os.pardir, \n",
    "                                        os.pardir))\n",
    "        \n",
    "from clustered_SNe.analysis.parse import Overview, RunSummary"
   ]
  },
  {
   "cell_type": "code",
   "execution_count": null,
   "metadata": {
    "collapsed": true
   },
   "outputs": [],
   "source": [
    "data_dir_1D = \"1D_data/\"\n",
    "\n",
    "run_summary = RunSummary(data_dir_1D, \"25451948-485f-46fe-b87b-f4329d03b203\")"
   ]
  },
  {
   "cell_type": "markdown",
   "metadata": {},
   "source": [
    "# 3D (resolution study)"
   ]
  },
  {
   "cell_type": "code",
   "execution_count": null,
   "metadata": {
    "collapsed": true
   },
   "outputs": [],
   "source": [
    "base_box_size = 400\n",
    "\n",
    "N_particles_per_side = np.array([\n",
    "        150, \n",
    "#         200, \n",
    "#         250, \n",
    "        300])\n",
    "dxs = base_box_size / N_particles_per_side\n",
    "\n",
    "simulation_base_name = \"cluster_cooling\""
   ]
  },
  {
   "cell_type": "code",
   "execution_count": null,
   "metadata": {
    "collapsed": true
   },
   "outputs": [],
   "source": [
    "possible_SN_files = glob.glob(os.path.join(\"../ICs/{}_{}\".format(simulation_base_name,\n",
    "                                                                 N_particles_per_side[0])\n",
    "                                           , \"*SNe.dat\"))\n",
    "\n",
    "if len(possible_SN_files) == 0: \n",
    "    raise FileNotFoundError(\"No SN data files found in {}\".format(SN_directory))\n",
    "elif len(possible_SN_files) > 1:\n",
    "    raise RuntimeError(\"Too many SN data files found in {}\".format(SN_directory))\n",
    "\n",
    "    \n",
    "SN_file = possible_SN_files[0]\n",
    "SN_data = np.loadtxt(SN_file, ndmin=2)\n",
    "SN_times_3D = np.sort(SN_data[:,0])\n",
    "\n",
    "SN_times_3D -= SN_times_3D[0]\n",
    "SN_times_3D[0] = 3e10\n",
    "\n",
    "SN_times_3D /= u.Myr.to(u.s)"
   ]
  },
  {
   "cell_type": "code",
   "execution_count": null,
   "metadata": {
    "collapsed": true
   },
   "outputs": [],
   "source": [
    "unit_base = {\n",
    "    \"UnitLength_in_cm\" : (pc),\n",
    "    \"UnitVelocity_in_cm_per_s\"   : (pc / Myr),\n",
    "    \"UnitMass_in_g\"   : (M_solar)\n",
    "}\n",
    "\n",
    "#####################\n",
    "\n",
    "snapshot_filename_format = \"snapshot_???.hdf5\""
   ]
  },
  {
   "cell_type": "code",
   "execution_count": null,
   "metadata": {
    "collapsed": true
   },
   "outputs": [],
   "source": []
  },
  {
   "cell_type": "code",
   "execution_count": null,
   "metadata": {
    "collapsed": true
   },
   "outputs": [],
   "source": [
    "def total_radial_momentum_from_snapshot_file(snapshot_filename):\n",
    "    f = h5py.File(snapshot_filename, mode=\"r\")\n",
    "    masses_shape = f[\"PartType0\"][\"Masses\"].shape\n",
    "    new_shape = masses_shape + (1,)\n",
    "\n",
    "    r_hat = f[\"PartType0\"][\"Coordinates\"] - (f[\"Header\"].attrs[\"BoxSize\"]/2)\n",
    "    r_hat = r_hat / (np.sum(r_hat**2, axis=1, dtype=float).reshape(new_shape))**.5\n",
    "    \n",
    "    mom = np.sum(r_hat * f[\"PartType0\"][\"Velocities\"] \\\n",
    "    * np.reshape(f[\"PartType0\"][\"Masses\"], new_shape), dtype=float)\n",
    "    \n",
    "    f.close()\n",
    "    return mom * M_solar * pc / (1e6*yr)"
   ]
  },
  {
   "cell_type": "code",
   "execution_count": null,
   "metadata": {
    "collapsed": true
   },
   "outputs": [],
   "source": [
    "def get_times_and_radial_momenta(N_particles_per_side_i):\n",
    "    snapshot_dir = \"../output/{}_{}\".format(simulation_base_name, N_particles_per_side_i)\n",
    "    \n",
    "    n_files_ready = len(glob.glob(os.path.join(snapshot_dir, snapshot_filename_format)))\n",
    "    \n",
    "    if n_files_ready == 0:\n",
    "#         raise FileNotFoundError(\"No snapshots found in {}\".format(snapshot_dir))\n",
    "        return np.empty(0), np.empty(0)\n",
    "\n",
    "    ts = yt.load(os.path.join(snapshot_dir, snapshot_filename_format),\n",
    "                 unit_base=unit_base)\n",
    "\n",
    "    times_snapshots_tmp = np.array([ts[j].current_time.convert_to_cgs() \n",
    "        for j in range(len(ts))]) / u.Myr.to(u.s)\n",
    "\n",
    "    print(\"Loaded {} snapshots\".format(len(ts)))\n",
    "\n",
    "    ds = ts[0]\n",
    "    rho_0 = ds.all_data()[\"all\",\"density\"].mean()\n",
    "\n",
    "    \n",
    "    #########\n",
    "    snapshot_filenames = sorted(glob.glob(os.path.join(snapshot_dir, snapshot_filename_format)))\n",
    "\n",
    "    radial_momenta_tmp = np.array([total_radial_momentum_from_snapshot_file(snapshot_filename)\n",
    "                                   for snapshot_filename in snapshot_filenames])\n",
    "\n",
    "        \n",
    "    return times_snapshots_tmp, radial_momenta_tmp"
   ]
  },
  {
   "cell_type": "code",
   "execution_count": null,
   "metadata": {
    "collapsed": false
   },
   "outputs": [],
   "source": [
    "from multiprocessing import Pool\n",
    "\n",
    "pool = Pool(2)\n",
    "\n",
    "outputs = pool.map(get_times_and_radial_momenta, N_particles_per_side)\n",
    "\n",
    "times_snapshots = {N_particles_per_side_i : outputs[i][0]\n",
    "                   for i, N_particles_per_side_i in enumerate(N_particles_per_side)}\n",
    "\n",
    "radial_momenta  = {N_particles_per_side_i : outputs[i][1]\n",
    "                   for i, N_particles_per_side_i in enumerate(N_particles_per_side)}\n"
   ]
  },
  {
   "cell_type": "code",
   "execution_count": null,
   "metadata": {
    "collapsed": false
   },
   "outputs": [],
   "source": [
    "run_summary.momentum / (100 * M_solar * 11 * 1e5)"
   ]
  },
  {
   "cell_type": "code",
   "execution_count": null,
   "metadata": {
    "collapsed": false
   },
   "outputs": [],
   "source": [
    "with sns.axes_style(\"ticks\"):\n",
    "    plt.plot((run_summary.times - run_summary.overview.SNe_times[0]) / (1e6*yr),\n",
    "             run_summary.momentum / (100 * M_solar * 11 * 1e5),\n",
    "             label=\"1D\",\n",
    "             linestyle=\"dashed\",\n",
    "             )\n",
    "\n",
    "\n",
    "    for N_particles_per_side_i in N_particles_per_side:\n",
    "\n",
    "        plt.plot(times_snapshots[N_particles_per_side_i],\n",
    "                 radial_momenta[N_particles_per_side_i] / (100 * M_solar * 11 * 1e5),\n",
    "                 label=\"3D: $\\Delta x = $ {:.1f} pc\".format(400 / N_particles_per_side_i),\n",
    "                 )\n",
    "\n",
    "\n",
    "    sns.rugplot(SN_times_3D, color=\"k\", linewidth=3)\n",
    "\n",
    "    plt.xlabel(r\"$t$ $[\\mathrm{Myr}]$\")\n",
    "    plt.ylabel(r\"$p / (100$ $M_\\odot$ $N_\\mathrm{SNe})$ $[\\mathrm{km}$ $\\mathrm{s}^{-1}]$\")\n",
    "\n",
    "\n",
    "    plt.xlim(xmax=100)\n",
    "    plt.ylim(ymin=300,\n",
    "             ymax=3000,\n",
    "            )\n",
    "\n",
    "    plt.yscale(\"log\")\n",
    "\n",
    "    plt.legend(loc=\"best\")"
   ]
  },
  {
   "cell_type": "code",
   "execution_count": null,
   "metadata": {
    "collapsed": false
   },
   "outputs": [],
   "source": [
    "SN_times_3D"
   ]
  },
  {
   "cell_type": "code",
   "execution_count": null,
   "metadata": {
    "collapsed": true
   },
   "outputs": [],
   "source": []
  },
  {
   "cell_type": "code",
   "execution_count": null,
   "metadata": {
    "collapsed": true
   },
   "outputs": [],
   "source": []
  }
 ],
 "metadata": {
  "anaconda-cloud": {},
  "kernelspec": {
   "display_name": "Python [default]",
   "language": "python",
   "name": "python3"
  },
  "language_info": {
   "codemirror_mode": {
    "name": "ipython",
    "version": 3
   },
   "file_extension": ".py",
   "mimetype": "text/x-python",
   "name": "python",
   "nbconvert_exporter": "python",
   "pygments_lexer": "ipython3",
   "version": "3.5.2"
  }
 },
 "nbformat": 4,
 "nbformat_minor": 0
}
