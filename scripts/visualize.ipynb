{
 "cells": [
  {
   "cell_type": "code",
   "execution_count": null,
   "metadata": {
    "collapsed": false
   },
   "outputs": [],
   "source": [
    "from __future__ import print_function, division\n",
    "\n",
    "%matplotlib inline\n",
    "from matplotlib import pyplot as plt\n",
    "import seaborn as sns; sns.set(context=\"poster\")\n",
    "import ipywidgets\n",
    "import yt\n",
    "import glob\n",
    "import os\n",
    "import warnings\n",
    "import h5py\n",
    "\n",
    "import numpy as np\n",
    "import pandas as pd\n",
    "\n",
    "from astropy import constants as const\n",
    "from astropy import units as u\n",
    "\n",
    "M_solar = const.M_sun.cgs.value\n",
    "m_proton = const.m_p.cgs.value\n",
    "pc = u.pc.to(u.cm)\n",
    "yr = u.yr.to(u.s)\n",
    "Myr = 1e6*yr\n",
    "gamma = 5/3\n",
    "\n",
    "@yt.derived_field(name=\"pressure\", units=\"g  / s**2 / cm\")\n",
    "def _pressure(field, data):\n",
    "    return (gamma-1) * data[\"thermal_energy\"] * data[\"density\"]"
   ]
  },
  {
   "cell_type": "code",
   "execution_count": null,
   "metadata": {
    "collapsed": true
   },
   "outputs": [],
   "source": [
    "# # # location of the *SNe.dat input file\n",
    "# SN_directory = \"../ICs/cluster/\"\n",
    "# SN_directory = \"../ICs/cluster_cooling/\"\n",
    "# SN_directory = \"../ICs/cluster_cooling_lowres/\"\n",
    "# SN_directory = \"../ICs/cluster_cooling_150/\"\n",
    "# SN_directory = \"../ICs/cluster_cooling_200/\"\n",
    "# SN_directory = \"../ICs/cluster_cooling_250/\"\n",
    "# SN_directory = \"../ICs/cluster_cooling_300/\"\n",
    "# SN_directory = \"../ICs/single/\"\n",
    "# SN_directory = \"../ICs/single_cooling/\"\n",
    "# SN_directory = \"../ICs/double/\"\n",
    "# SN_directory = \"../ICs/double_cooling/\"\n",
    "\n",
    "\n",
    "# # # location of the *snapshot.hdf5 output files\n",
    "# snapshot_dir = \"../output/cluster/\"\n",
    "# snapshot_dir = \"../output/cluster_cooling/\"\n",
    "# snapshot_dir = \"../output/cluster_cooling_lowres/\"\n",
    "# snapshot_dir = \"../output/cluster_cooling_150/\"\n",
    "# snapshot_dir = \"../output/cluster_cooling_200/\"\n",
    "# snapshot_dir = \"../output/cluster_cooling_250/\"\n",
    "# snapshot_dir = \"../output/cluster_cooling_300/\"\n",
    "# snapshot_dir = \"../output/single/\"\n",
    "# snapshot_dir = \"../output/single_cooling/\"\n",
    "# snapshot_dir = \"../output/double/\"\n",
    "# snapshot_dir = \"../output/double_cooling/\"\n"
   ]
  },
  {
   "cell_type": "markdown",
   "metadata": {},
   "source": [
    "# Warning\n",
    "This file is very much a work-in-progress.\n",
    "\n",
    "To do:\n",
    " - implement a shock-finder\n",
    " - only get energy within the remnant"
   ]
  },
  {
   "cell_type": "markdown",
   "metadata": {},
   "source": [
    "# Overview"
   ]
  },
  {
   "cell_type": "code",
   "execution_count": null,
   "metadata": {
    "collapsed": false
   },
   "outputs": [],
   "source": [
    "possible_SN_files = glob.glob(os.path.join(SN_directory, \"*SNe.dat\"))\n",
    "\n",
    "if len(possible_SN_files) == 0: \n",
    "    raise FileNotFoundError(\"No SN data files found in {}\".format(SN_directory))\n",
    "elif len(possible_SN_files) > 1:\n",
    "    raise RuntimeError(\"Too many SN data files found in {}\".format(SN_directory))\n",
    "\n",
    "    \n",
    "SN_file = possible_SN_files[0]\n",
    "SN_data = np.loadtxt(SN_file, ndmin=2)\n",
    "sorted_indices = np.argsort(SN_data[:,0])\n",
    "\n",
    "SN_times         = SN_data[:,0][sorted_indices]\n",
    "SN_ejecta_masses = SN_data[:,2][sorted_indices]\n",
    "\n",
    "SN_times -= SN_times[0]\n",
    "# SN_times[0] = 3e10\n",
    "\n",
    "SN_times /= u.Myr.to(u.s)\n",
    "SN_ejecta_masses /= M_solar"
   ]
  },
  {
   "cell_type": "code",
   "execution_count": null,
   "metadata": {
    "collapsed": false
   },
   "outputs": [],
   "source": [
    "print(SN_times)"
   ]
  },
  {
   "cell_type": "code",
   "execution_count": null,
   "metadata": {
    "collapsed": false
   },
   "outputs": [],
   "source": [
    "print(SN_ejecta_masses)"
   ]
  },
  {
   "cell_type": "code",
   "execution_count": null,
   "metadata": {
    "collapsed": false
   },
   "outputs": [],
   "source": [
    "# unit_base = {\n",
    "#     \"length\" : (1.0, \"pc\"),\n",
    "#     \"time\"   : (1.0, \"Myr\"),\n",
    "#     \"mass\"   : (1.0, \"Msun\")\n",
    "# }\n",
    "\n",
    "unit_base = {\n",
    "    \"UnitLength_in_cm\" : (pc),\n",
    "    \"UnitVelocity_in_cm_per_s\"   : (pc / Myr),\n",
    "    \"UnitMass_in_g\"   : (M_solar)\n",
    "}"
   ]
  },
  {
   "cell_type": "code",
   "execution_count": null,
   "metadata": {
    "collapsed": false
   },
   "outputs": [],
   "source": [
    "snapshot_filename_format = \"snapshot_???.hdf5\"\n",
    "\n",
    "snapshot_filenames = sorted(glob.glob(os.path.join(snapshot_dir, snapshot_filename_format)))\n",
    "\n",
    "n_files_ready = len(snapshot_filenames)\n",
    "if n_files_ready == 0:\n",
    "    raise FileNotFoundError(\"No snapshots found in {}\".format(snapshot_dir))\n",
    "\n",
    "ts = yt.load(os.path.join(snapshot_dir, snapshot_filename_format),\n",
    "             unit_base=unit_base)\n",
    "\n",
    "times_snapshots = np.array([ts[i].current_time.convert_to_cgs() \n",
    "                  for i in range(len(ts))]) / u.Myr.to(u.s)\n",
    "\n",
    "print(\"Loaded {} snapshots\".format(len(ts)))\n",
    "\n",
    "ds = ts[0]\n",
    "rho_0 = ds.all_data()[\"all\",\"density\"].mean()\n"
   ]
  },
  {
   "cell_type": "code",
   "execution_count": null,
   "metadata": {
    "collapsed": false
   },
   "outputs": [],
   "source": [
    "times_snapshots"
   ]
  },
  {
   "cell_type": "code",
   "execution_count": null,
   "metadata": {
    "collapsed": false
   },
   "outputs": [],
   "source": [
    "print( \"Length unit: \",   ds.length_unit)\n",
    "print( \"Time unit: \",     ds.time_unit)\n",
    "print( \"Mass unit: \",     ds.mass_unit)\n",
    "print( \"Velocity unit: \", ds.velocity_unit)"
   ]
  },
  {
   "cell_type": "markdown",
   "metadata": {},
   "source": [
    "# Plot Global Quantities"
   ]
  },
  {
   "cell_type": "code",
   "execution_count": null,
   "metadata": {
    "collapsed": false
   },
   "outputs": [],
   "source": [
    "ds = ts[0]\n",
    "dd = ds.all_data()"
   ]
  },
  {
   "cell_type": "code",
   "execution_count": null,
   "metadata": {
    "collapsed": false
   },
   "outputs": [],
   "source": [
    "energies = np.loadtxt(os.path.join(snapshot_dir, \"energy.txt\"), ndmin=2)\n",
    "\n",
    "times_statistics    = energies[:,0] * ds.time_unit\n",
    "thermal_energies    = energies[:,1] * ds.mass_unit * (ds.velocity_unit)**2\n",
    "potential_energies  = energies[:,2] * ds.mass_unit * (ds.velocity_unit)**2\n",
    "kinetic_energies    = energies[:,3] * ds.mass_unit * (ds.velocity_unit)**2\n",
    "\n",
    "times_statistics    = times_statistics.convert_to_cgs().value / Myr\n",
    "thermal_energies    = thermal_energies.convert_to_cgs().value\n",
    "potential_energies  = potential_energies.convert_to_cgs().value\n",
    "kinetic_energies    = kinetic_energies.convert_to_cgs().value\n",
    "\n",
    "\n",
    "total_mass    = energies[:,-6]\n",
    "\n",
    "\n",
    "total_energies = thermal_energies + kinetic_energies"
   ]
  },
  {
   "cell_type": "code",
   "execution_count": null,
   "metadata": {
    "collapsed": false
   },
   "outputs": [],
   "source": [
    "kinetic_energies"
   ]
  },
  {
   "cell_type": "code",
   "execution_count": null,
   "metadata": {
    "collapsed": false
   },
   "outputs": [],
   "source": [
    "sns.rugplot(SN_times, color=\"k\", linewidth=3)\n",
    "plt.plot(times_statistics, kinetic_energies)\n",
    "plt.xlabel(r\"$t$ $[\\mathrm{Myr}]$\")\n",
    "plt.ylabel(r\"$E_\\mathrm{kin}$ $[\\mathrm{ergs}]$\")"
   ]
  },
  {
   "cell_type": "code",
   "execution_count": null,
   "metadata": {
    "collapsed": false
   },
   "outputs": [],
   "source": [
    "thermal_energies"
   ]
  },
  {
   "cell_type": "code",
   "execution_count": null,
   "metadata": {
    "collapsed": false
   },
   "outputs": [],
   "source": [
    "sns.rugplot(SN_times, color=\"k\", linewidth=3)\n",
    "plt.plot(times_statistics, thermal_energies)\n",
    "plt.xlabel(r\"$t$ $[\\mathrm{Myr}]$\")\n",
    "plt.ylabel(r\"$E_\\mathrm{int}$ $[\\mathrm{ergs}]$\")"
   ]
  },
  {
   "cell_type": "code",
   "execution_count": null,
   "metadata": {
    "collapsed": false
   },
   "outputs": [],
   "source": [
    "sns.rugplot(SN_times, color=\"k\", linewidth=3)\n",
    "plt.plot(times_statistics, total_energies)\n",
    "plt.xlabel(r\"$t$ $[\\mathrm{Myr}]$\")\n",
    "plt.ylabel(r\"$E_\\mathrm{total}$ $[\\mathrm{ergs}]$\")"
   ]
  },
  {
   "cell_type": "markdown",
   "metadata": {},
   "source": [
    "To do: remove the contribution from cooling outside the remnant"
   ]
  },
  {
   "cell_type": "code",
   "execution_count": null,
   "metadata": {
    "collapsed": false,
    "scrolled": false
   },
   "outputs": [],
   "source": [
    "sns.rugplot(SN_times, color=\"k\", linewidth=3)\n",
    "plt.plot(times_statistics, total_energies - total_energies[0])\n",
    "plt.xlabel(r\"$t$ $[\\mathrm{Myr}]$\")\n",
    "plt.ylabel(r\"$\\Delta E_\\mathrm{total}$ $[\\mathrm{ergs}]$\")\n",
    "print((total_energies - total_energies[0]) / 1e51)"
   ]
  },
  {
   "cell_type": "code",
   "execution_count": null,
   "metadata": {
    "collapsed": false
   },
   "outputs": [],
   "source": [
    "if \"double\" in snapshot_dir:\n",
    "\n",
    "    final_checkpoint_before_second_SN = np.searchsorted(times_statistics, SN_times[1])-1\n",
    "    \n",
    "    sns.rugplot(SN_times[:1], color=\"k\", linewidth=3)\n",
    "    plt.plot(times_statistics[0:final_checkpoint_before_second_SN],\n",
    "             total_energies[0:final_checkpoint_before_second_SN] - total_energies[0])\n",
    "    plt.xlabel(r\"$t$ $[\\mathrm{Myr}]$\")\n",
    "    plt.ylabel(r\"$\\Delta E_\\mathrm{total}$ $[\\mathrm{ergs}]$\")\n",
    "\n",
    "    print( (total_energies[0:final_checkpoint_before_second_SN] - total_energies[0]) / 1e51 )"
   ]
  },
  {
   "cell_type": "markdown",
   "metadata": {},
   "source": [
    "## Mass Plots\n",
    "\n",
    "WARNING: in \"energy.txt\" GIZMO only uses %g formatting; the change in total mass due to ejecta might be truncated "
   ]
  },
  {
   "cell_type": "code",
   "execution_count": null,
   "metadata": {
    "collapsed": true
   },
   "outputs": [],
   "source": [
    "def total_mass_of_snapshot(snapshot_filename):\n",
    "    f = h5py.File(snapshot_filename, mode=\"r\")\n",
    "\n",
    "    total_mass = np.sum(f[\"PartType0\"][\"Masses\"], dtype=float)\n",
    "    \n",
    "    f.close()\n",
    "    \n",
    "    return total_mass"
   ]
  },
  {
   "cell_type": "code",
   "execution_count": null,
   "metadata": {
    "collapsed": false
   },
   "outputs": [],
   "source": [
    "_masses = [total_mass_of_snapshot(snapshot_filename) for snapshot_filename in snapshot_filenames]\n",
    "    "
   ]
  },
  {
   "cell_type": "code",
   "execution_count": null,
   "metadata": {
    "collapsed": false
   },
   "outputs": [],
   "source": [
    "# ## Waaaay slower than just reading the hdf5 file\n",
    "\n",
    "# _masses = np.empty(len(ts))\n",
    "\n",
    "# for i, ds in enumerate(ts):\n",
    "#     dd = ds.all_data()\n",
    "\n",
    "#     _masses[i]  = dd[\"all\", \"Masses\"].sum() / M_solar"
   ]
  },
  {
   "cell_type": "code",
   "execution_count": null,
   "metadata": {
    "collapsed": false
   },
   "outputs": [],
   "source": [
    "sns.rugplot(SN_times, color=\"k\", linewidth=3)\n",
    "plt.plot(times_snapshots, _masses - _masses[0], \n",
    "         label=\"snapshots\", linestyle=\"solid\", drawstyle=\"steps-post\")\n",
    "plt.plot(SN_times, SN_ejecta_masses.cumsum(), \n",
    "         label=\"intended\", linestyle=\"dashed\", drawstyle=\"steps-post\")\n",
    "# plt.plot(times_statistics, total_mass - total_mass[0], \n",
    "#          label=\"energy.txt\", drawstyle=\"steps-post\", linestyle=\"dotted\")\n",
    "plt.xlabel(r\"$t$ $[\\mathrm{Myr}]$\")\n",
    "plt.ylabel(r\"$\\Delta M$ $[M_\\odot]$\")\n",
    "plt.legend(loc=\"best\")"
   ]
  },
  {
   "cell_type": "markdown",
   "metadata": {},
   "source": [
    "## Momentum Plots"
   ]
  },
  {
   "cell_type": "code",
   "execution_count": null,
   "metadata": {
    "collapsed": false
   },
   "outputs": [],
   "source": [
    "def total_radial_momentum_from_snapshot_file(snapshot_filename):\n",
    "    f = h5py.File(snapshot_filename, mode=\"r\")\n",
    "    masses_shape = f[\"PartType0\"][\"Masses\"].shape\n",
    "    new_shape = masses_shape + (1,)\n",
    "\n",
    "    r_hat = f[\"PartType0\"][\"Coordinates\"] - (f[\"Header\"].attrs[\"BoxSize\"]/2)\n",
    "    r_hat = r_hat / (np.sum(r_hat**2, axis=1, dtype=float).reshape(new_shape))**.5\n",
    "    \n",
    "    mom = np.sum(r_hat * f[\"PartType0\"][\"Velocities\"] \\\n",
    "    * np.reshape(f[\"PartType0\"][\"Masses\"], new_shape), dtype=float)\n",
    "    \n",
    "    f.close()\n",
    "    return mom * M_solar * pc / (1e6*yr)"
   ]
  },
  {
   "cell_type": "code",
   "execution_count": null,
   "metadata": {
    "collapsed": false
   },
   "outputs": [],
   "source": [
    "radial_momentum = [total_radial_momentum_from_snapshot_file(snapshot_filename)\n",
    "                   for snapshot_filename in snapshot_filenames]\n",
    "\n",
    "radial_momentum = np.array(radial_momentum)"
   ]
  },
  {
   "cell_type": "code",
   "execution_count": null,
   "metadata": {
    "collapsed": false
   },
   "outputs": [],
   "source": [
    "# ## Waaaay slower than just reading the hdf5 file\n",
    "\n",
    "# radial_momentum = np.empty(len(ts))\n",
    "\n",
    "# for i, ds in enumerate(ts):\n",
    "#     dd = ds.all_data()\n",
    "\n",
    "#     v_r = ((dd[\"all\", \"Coordinates\"]-ds.domain_center) \\\n",
    "#             / dd[\"all\", \"particle_radius\"].reshape(dd[\"all\", \"Masses\"].size, 1) \\\n",
    "#             * dd[\"all\",\"Velocities\"])\\\n",
    "#             .sum(axis=1)\n",
    "\n",
    "#     radial_momentum[i]  = (v_r * dd[\"all\", \"Masses\"]).sum()\n",
    "    "
   ]
  },
  {
   "cell_type": "code",
   "execution_count": null,
   "metadata": {
    "collapsed": false
   },
   "outputs": [],
   "source": [
    "radial_momentum"
   ]
  },
  {
   "cell_type": "code",
   "execution_count": null,
   "metadata": {
    "collapsed": false
   },
   "outputs": [],
   "source": [
    "times_snapshots"
   ]
  },
  {
   "cell_type": "code",
   "execution_count": null,
   "metadata": {
    "collapsed": true
   },
   "outputs": [],
   "source": []
  },
  {
   "cell_type": "code",
   "execution_count": null,
   "metadata": {
    "collapsed": false
   },
   "outputs": [],
   "source": [
    "sns.rugplot(SN_times, color=\"k\", linewidth=3)\n",
    "plt.plot(times_snapshots, radial_momentum / (100 * M_solar * 1e5))\n",
    "\n",
    "plt.xlabel(r\"$t$ $[\\mathrm{Myr}]$\")\n",
    "plt.ylabel(r\"$p$ $[100$ $M_\\odot$ $\\mathrm{km}$ $\\mathrm{s}^{-1}]$\")\n",
    "plt.ylim(ymin=0)"
   ]
  },
  {
   "cell_type": "code",
   "execution_count": null,
   "metadata": {
    "collapsed": false
   },
   "outputs": [],
   "source": [
    "sns.rugplot(SN_times, color=\"k\", linewidth=3)\n",
    "plt.plot(times_snapshots, radial_momentum / (100 * M_solar * 1e5 * SN_times.size))\n",
    "plt.xlabel(r\"$t$ $[\\mathrm{Myr}]$\")\n",
    "plt.ylabel(r\"$p$ $[100$ $M_\\odot$ $N_\\mathrm{SNe}$ $\\mathrm{km}$ $\\mathrm{s}^{-1}]$\")\n",
    "plt.ylim(ymin=0)"
   ]
  },
  {
   "cell_type": "markdown",
   "metadata": {},
   "source": [
    "# Plot Snapshot Views"
   ]
  },
  {
   "cell_type": "code",
   "execution_count": null,
   "metadata": {
    "collapsed": false,
    "scrolled": false
   },
   "outputs": [],
   "source": [
    "def show_projected_density(i):\n",
    "    ds = ts[i]\n",
    "    \n",
    "    p = yt.ProjectionPlot(ds, \"x\", (\"gas\",\"density\"))\n",
    "    p.set_cmap(field=\"density\", cmap=\"viridis\")\n",
    "    p.annotate_timestamp(corner=\"upper_left\", draw_inset_box=True)\n",
    "    \n",
    "    t = ds.current_time.convert_to_cgs().value / u.Myr.to(u.s)\n",
    "    N_SNe_so_far = np.sum(t > SN_times)\n",
    "    p.annotate_text((.8,.94), \n",
    "                    \"N_SNe: {}\".format(N_SNe_so_far),\n",
    "                    coord_system=\"axis\",\n",
    "                    inset_box_args={\"facecolor\":\"darkslategray\",\n",
    "                                       \"alpha\":0.9},\n",
    "                   )\n",
    "    p.show()\n",
    "    \n",
    "ipywidgets.interact(show_projected_density,\n",
    "                i=ipywidgets.IntSlider(min=0,\n",
    "                                       max=len(ts)-1,\n",
    "                                       value=len(ts)-1))"
   ]
  },
  {
   "cell_type": "code",
   "execution_count": null,
   "metadata": {
    "collapsed": false,
    "scrolled": false
   },
   "outputs": [],
   "source": [
    "field_type = {\n",
    "    \"density\": \"gas\",\n",
    "    \"temperature\": \"gas\",\n",
    "    \"pressure\": \"gas\",\n",
    "    \"velocity_magnitude\": \"gas\",\n",
    "    \"radius\": \"index\",\n",
    "    \"metallicity\": \"gas\"\n",
    "}\n",
    "\n",
    "def show_sliced_field(i, field):\n",
    "    ds = ts[i]\n",
    "    s = yt.SlicePlot(ds, \"z\", (field_type[field], field))\n",
    "    s.set_cmap(field=field, cmap=\"viridis\")\n",
    "    s.annotate_timestamp(corner=\"upper_left\", draw_inset_box=True)\n",
    "    t = ds.current_time.convert_to_cgs().value / u.Myr.to(u.s)\n",
    "    N_SNe_so_far = np.sum(t > SN_times)\n",
    "    s.annotate_text((.8,.94), \n",
    "                    \"N_SNe: {}\".format(N_SNe_so_far),\n",
    "                    coord_system=\"axis\",\n",
    "                    inset_box_args={\"facecolor\":\"darkslategray\",\n",
    "                                       \"alpha\":0.9},\n",
    "                   )\n",
    "    s.show()\n",
    "    \n",
    "ipywidgets.interact(show_sliced_field,\n",
    "                i=ipywidgets.IntSlider(min=0,\n",
    "                                       max=len(ts)-1,\n",
    "                                       value=len(ts)-1),\n",
    "                field = ipywidgets.Dropdown(options=list(field_type.keys()),\n",
    "                                            value=\"density\"))"
   ]
  },
  {
   "cell_type": "markdown",
   "metadata": {},
   "source": [
    "# Profiles"
   ]
  },
  {
   "cell_type": "code",
   "execution_count": null,
   "metadata": {
    "collapsed": true
   },
   "outputs": [],
   "source": [
    "def create_density_profile(ds, n_bins=20):\n",
    "    dd = ds.all_data()\n",
    "    r_max = ds.domain_width[0]/2\n",
    "\n",
    "    dr = r_max / n_bins\n",
    "\n",
    "    rs = np.linspace(0, r_max.value, num=n_bins+1)[1:]\n",
    "\n",
    "    dmass = np.zeros(n_bins)\n",
    "    ones = np.zeros(n_bins, dtype=int)\n",
    "\n",
    "    for i in range(n_bins):\n",
    "        r_i = dr*(i)\n",
    "        r_o = dr*(i+1)\n",
    "\n",
    "        mask =    (dd[\"all\", \"particle_position_spherical_radius\"] >= r_i) \\\n",
    "                & (dd[\"all\", \"particle_position_spherical_radius\"] <  r_o)\n",
    "\n",
    "#         ones[i] = mask.sum()\n",
    "        dmass[i] = dd[\"all\", \"Masses\"][mask].sum().convert_to_cgs().value\n",
    "            \n",
    "    Vs = 4/3*np.pi*rs**3\n",
    "    Vs = np.insert(Vs, 0, 0)\n",
    "    dVs = Vs[1:] - Vs[:-1]\n",
    "\n",
    "    densities = dmass / (dVs * pc**3)\n",
    "    \n",
    "    return rs, densities"
   ]
  },
  {
   "cell_type": "code",
   "execution_count": null,
   "metadata": {
    "collapsed": false
   },
   "outputs": [],
   "source": [
    "field_y_labels = {\n",
    "    \"density\" : r\"$\\rho$ $[\\mathrm{m_p}$ $\\mathrm{cm}^{-3}]$\",\n",
    "    \"temperature\" : r\"$T$ $[\\mathrm{K}]$\",\n",
    "    \"pressure\" : r\"$P$ $[\\mathrm{ergs}$ $\\mathrm{cm}^{-3}]$\",\n",
    "    \"velocity_magnitude\" : r\"$\\|\\mathbf{v}\\|$ $[\\mathrm{km}$ $\\mathrm{s}^{-1}]$\",\n",
    "    \"radial_velocity\" : r\"$v_r$ $[\\mathrm{km}$ $\\mathrm{s}^{-1}]$\",\n",
    "    \"Metallicity\" : r\"$Z / Z_\\odot$\",\n",
    "}\n",
    "\n",
    "field_weight = {\n",
    "    \"temperature\" : \"cell_mass\",\n",
    "    \"pressure\" : \"cell_volume\",\n",
    "    \"velocity_magnitude\" : \"cell_mass\",\n",
    "    \"radial_velocity\" : \"cell_mass\",\n",
    "    \"Metallicity\" : \"cell_mass\",\n",
    "}\n",
    "\n",
    "field_units = {\n",
    "    \"density\" : m_proton,\n",
    "    \"temperature\" : 1,\n",
    "    \"pressure\" : 1,\n",
    "    \"velocity_magnitude\" : 1e5, # km / s\n",
    "    \"radial_velocity\"    : 1e5, # km / s\n",
    "    \"Metallicity\" : 0.02,\n",
    "}\n",
    "\n",
    "\n",
    "\n",
    "def show_profile(i, field):\n",
    "    ds = ts[i]\n",
    "    sp = ds.sphere(ds.domain_center, ds.domain_width[0]/2)\n",
    "    \n",
    "    \n",
    "    if field is \"density\":\n",
    "        rs, densities = create_density_profile(ds,n_bins=64)\n",
    "        plt.plot(rs, densities / field_units[field])\n",
    "\n",
    "        plt.ylim(ymin=1e-4)\n",
    "        \n",
    "        plt.axhline(rho_0, linestyle=\"dashed\", color=\"k\")\n",
    "        \n",
    "    else:    \n",
    "        with warnings.catch_warnings():\n",
    "            warnings.simplefilter(\"ignore\")\n",
    "            pp = yt.create_profile(sp, \n",
    "                                   \"radius\", [field, \"ones\"], \n",
    "                                   weight_field=field_weight[field],\n",
    "                                   units = {\"radius\":\"pc\"},\n",
    "                                   logs = {\"radius\":False},\n",
    "                                   n_bins=64,\n",
    "            )\n",
    "        mask = pp[\"ones\"] > 0.1 # filter out bins with no particles\n",
    "        plt.plot(pp.x.value[mask], \n",
    "                 pp[field][mask] / field_units[field])\n",
    "\n",
    "    plt.yscale(\"log\")\n",
    "    plt.ylabel(field_y_labels[field])\n",
    "\n",
    "    plt.xlabel(r\"$R$ $[\\mathrm{pc}]$\")\n",
    "    \n",
    "    if times_snapshots[i] < 0:\n",
    "        raise RuntimeError(\"Invalid time: {}\".format(time_snapshots[i]))\n",
    "    elif times_snapshots[i] < 1e-3:\n",
    "        time = times_snapshots[i]\n",
    "        time_units = \"Myr\"\n",
    "        title = r\"$t$ $= {:.1e}$ $\\mathrm{{{}}}$\".format(time, time_units)\n",
    "    elif times_snapshots[i] < 1:\n",
    "        time = times_snapshots[i] * 1e3\n",
    "        time_units = \"kyr\"\n",
    "        title = r\"$t$ $= {:.0f}$ $\\mathrm{{{}}}$\".format(time, time_units)\n",
    "    elif times_snapshots[i] < 10:\n",
    "        time = times_snapshots[i]\n",
    "        time_units = \"Myr\"\n",
    "        title = r\"$t$ $= {:.1f}$ $\\mathrm{{{}}}$\".format(time, time_units)\n",
    "    else:\n",
    "        time = times_snapshots[i]\n",
    "        time_units = \"Myr\"\n",
    "        title = r\"$t$ $= {:.0f}$ $\\mathrm{{{}}}$\".format(time, time_units)\n",
    "        \n",
    "    plt.title(title)\n",
    "    \n",
    "\n",
    "ipywidgets.interact(show_profile,\n",
    "                i=ipywidgets.IntSlider(min=0,\n",
    "                                       max=len(ts)-1,\n",
    "                                       value=len(ts)-1),\n",
    "                field = ipywidgets.Dropdown(options=list(field_y_labels),\n",
    "                                            value=\"density\"))"
   ]
  },
  {
   "cell_type": "code",
   "execution_count": null,
   "metadata": {
    "collapsed": true
   },
   "outputs": [],
   "source": []
  }
 ],
 "metadata": {
  "anaconda-cloud": {},
  "kernelspec": {
   "display_name": "Python [default]",
   "language": "python",
   "name": "python3"
  },
  "language_info": {
   "codemirror_mode": {
    "name": "ipython",
    "version": 3
   },
   "file_extension": ".py",
   "mimetype": "text/x-python",
   "name": "python",
   "nbconvert_exporter": "python",
   "pygments_lexer": "ipython3",
   "version": "3.5.2"
  }
 },
 "nbformat": 4,
 "nbformat_minor": 0
}
