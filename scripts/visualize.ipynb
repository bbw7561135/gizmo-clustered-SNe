{
 "cells": [
  {
   "cell_type": "code",
   "execution_count": null,
   "metadata": {
    "collapsed": false
   },
   "outputs": [],
   "source": [
    "from __future__ import print_function, division\n",
    "\n",
    "%matplotlib inline\n",
    "from matplotlib import pyplot as plt\n",
    "import seaborn as sns; sns.set(context=\"poster\")\n",
    "import ipywidgets\n",
    "import yt\n",
    "import glob\n",
    "import os\n",
    "import warnings\n",
    "import h5py\n",
    "\n",
    "import numpy as np\n",
    "import pandas as pd\n",
    "\n",
    "from units import M_solar, m_proton, pc, yr, Myr, km, s, gamma\n",
    "\n",
    "from injection_helpers import get_SNe\n",
    "\n",
    "from visualize_helpers import \\\n",
    "    get_snapshot_filenames, \\\n",
    "    snapshot_filename_to_number, \\\n",
    "    total_mass_of_snapshot, \\\n",
    "    total_radial_momentum_of_snapshot, \\\n",
    "    map_to_all_snapshots, \\\n",
    "    get_snapshot_times, \\\n",
    "    total_kinetic_energy_of_snapshot, \\\n",
    "    total_internal_energy_of_snapshot, \\\n",
    "    load_snapshots, \\\n",
    "    plot_projected_density, \\\n",
    "    plot_sliced_field, \\\n",
    "    plot_phase_diagram, \\\n",
    "    field_type, \\\n",
    "    plot_profile, \\\n",
    "    yt_plot_saver, \\\n",
    "    mpl_plot_saver\n",
    "    \n",
    "from sql_helpers import add_simulation, \\\n",
    "    open_as_DataFrame\n",
    "\n",
    "@yt.derived_field(name=\"pressure\", units=\"g  / s**2 / cm\")\n",
    "def _pressure(field, data):\n",
    "    return (gamma-1) * data[\"thermal_energy\"] * data[\"density\"]"
   ]
  },
  {
   "cell_type": "code",
   "execution_count": null,
   "metadata": {
    "collapsed": false
   },
   "outputs": [],
   "source": [
    "# run_name = \"cluster\"\n",
    "# run_name = \"cluster_cooling\"\n",
    "# run_name = \"cluster_cooling_100\"\n",
    "# run_name = \"cluster_cooling_150\"\n",
    "# run_name = \"cluster_cooling_200\"\n",
    "# run_name = \"cluster_cooling_mhd_200\"\n",
    "# run_name = \"cluster_cooling_mhd_small_200\"\n",
    "# run_name = \"cluster_cooling_250\"\n",
    "# run_name = \"cluster_cooling_300\"\n",
    "# run_name = \"cluster_cooling_400\"\n",
    "# run_name = \"cluster_cooling_small_300\"\n",
    "# run_name = \"cluster_cooling_600\"\n",
    "# run_name = \"single\"\n",
    "# run_name = \"single_cooling\"\n",
    "# run_name = \"double\"\n",
    "# run_name = \"double_cooling\"\n",
    "\n",
    "run_dir = os.path.join(os.path.pardir, \"runs\", run_name)\n",
    "\n",
    "inputs_dir  = os.path.join(run_dir, \"inputs\")\n",
    "outputs_dir = os.path.join(run_dir, \"outputs\")\n",
    "\n",
    "plots_dir = os.path.join(outputs_dir, \"plots\")\n",
    "if not os.path.exists(plots_dir):\n",
    "    print(\"making plots_dir\")\n",
    "    os.mkdir(plots_dir)"
   ]
  },
  {
   "cell_type": "code",
   "execution_count": null,
   "metadata": {
    "collapsed": true
   },
   "outputs": [],
   "source": [
    "save_plots = True"
   ]
  },
  {
   "cell_type": "markdown",
   "metadata": {},
   "source": [
    "# Warning\n",
    "This file is very much a work-in-progress.\n",
    "\n",
    "To do:\n",
    " - implement a shock-finder\n",
    " - only get energy within the remnant"
   ]
  },
  {
   "cell_type": "markdown",
   "metadata": {},
   "source": [
    "# Update / Load Database"
   ]
  },
  {
   "cell_type": "code",
   "execution_count": null,
   "metadata": {
    "collapsed": false
   },
   "outputs": [],
   "source": [
    "add_simulation(run_name, verbose=False)\n",
    "\n",
    "df = open_as_DataFrame(run_name)\n",
    "df.tail()"
   ]
  },
  {
   "cell_type": "code",
   "execution_count": null,
   "metadata": {
    "collapsed": false
   },
   "outputs": [],
   "source": [
    "df"
   ]
  },
  {
   "cell_type": "markdown",
   "metadata": {},
   "source": [
    "# Overview"
   ]
  },
  {
   "cell_type": "code",
   "execution_count": null,
   "metadata": {
    "collapsed": false
   },
   "outputs": [],
   "source": [
    "SNe = get_SNe(inputs_dir)\n",
    "SN_times           = np.array([SN.time          for SN in SNe])\n",
    "SN_ejecta_masses   = np.array([SN.ejecta_mass   for SN in SNe])\n",
    "SN_ejecta_masses_Z = np.array([SN.ejecta_mass_Z for SN in SNe])"
   ]
  },
  {
   "cell_type": "code",
   "execution_count": null,
   "metadata": {
    "collapsed": false
   },
   "outputs": [],
   "source": [
    "print(SN_times)"
   ]
  },
  {
   "cell_type": "code",
   "execution_count": null,
   "metadata": {
    "collapsed": false
   },
   "outputs": [],
   "source": [
    "print(SN_ejecta_masses)"
   ]
  },
  {
   "cell_type": "code",
   "execution_count": null,
   "metadata": {
    "collapsed": false
   },
   "outputs": [],
   "source": [
    "df.time"
   ]
  },
  {
   "cell_type": "code",
   "execution_count": null,
   "metadata": {
    "collapsed": false
   },
   "outputs": [],
   "source": [
    "ts = load_snapshots(outputs_dir)\n",
    "snapshot_filenames = get_snapshot_filenames(outputs_dir)\n",
    "\n",
    "snapshot_number_to_index_map = {snapshot_filename_to_number(filename) : i\n",
    "                                for i,filename in enumerate(snapshot_filenames) }\n",
    "\n",
    "uncompressed_snapshot_numbers = sorted(list(snapshot_number_to_index_map.keys()))\n",
    "\n",
    "times_snapshots = df.time\n",
    "\n",
    "print(\"Loaded {} uncompressed snapshots\".format(len(ts)))\n",
    "\n",
    "ds = ts[0]\n",
    "rho_0 = ds.all_data()[\"all\",\"density\"].mean()\n"
   ]
  },
  {
   "cell_type": "code",
   "execution_count": null,
   "metadata": {
    "collapsed": false
   },
   "outputs": [],
   "source": [
    "times_snapshots"
   ]
  },
  {
   "cell_type": "code",
   "execution_count": null,
   "metadata": {
    "collapsed": false
   },
   "outputs": [],
   "source": [
    "SN_ejecta_masses"
   ]
  },
  {
   "cell_type": "code",
   "execution_count": null,
   "metadata": {
    "collapsed": false
   },
   "outputs": [],
   "source": [
    "print( \"Length unit: \",   ds.length_unit)\n",
    "print( \"Time unit: \",     ds.time_unit)\n",
    "print( \"Mass unit: \",     ds.mass_unit)\n",
    "print( \"Velocity unit: \", ds.velocity_unit)"
   ]
  },
  {
   "cell_type": "code",
   "execution_count": null,
   "metadata": {
    "collapsed": false
   },
   "outputs": [],
   "source": [
    "ds = ts[0]\n",
    "dd = ds.all_data()\n",
    "initial_temperature = np.median(dd[(\"PartType0\", \"Temperature\")])\n",
    "del dd\n",
    "\n",
    "initial_temperature"
   ]
  },
  {
   "cell_type": "markdown",
   "metadata": {},
   "source": [
    "# What fields do I have access to?"
   ]
  },
  {
   "cell_type": "code",
   "execution_count": null,
   "metadata": {
    "collapsed": false
   },
   "outputs": [],
   "source": [
    "ds = ts[0]\n",
    "dd = ds.all_data()"
   ]
  },
  {
   "cell_type": "code",
   "execution_count": null,
   "metadata": {
    "collapsed": false
   },
   "outputs": [],
   "source": [
    "ds.field_list"
   ]
  },
  {
   "cell_type": "code",
   "execution_count": null,
   "metadata": {
    "collapsed": false
   },
   "outputs": [],
   "source": [
    "ds.derived_field_list"
   ]
  },
  {
   "cell_type": "markdown",
   "metadata": {},
   "source": [
    "# Plot Summary Quantities"
   ]
  },
  {
   "cell_type": "code",
   "execution_count": null,
   "metadata": {
    "collapsed": false
   },
   "outputs": [],
   "source": [
    "energies = np.loadtxt(os.path.join(outputs_dir, \"energy.txt\"), ndmin=2)\n",
    "\n",
    "times_statistics    = energies[:,0] * ds.time_unit\n",
    "thermal_energies    = energies[:,1] * ds.mass_unit * (ds.velocity_unit)**2\n",
    "potential_energies  = energies[:,2] * ds.mass_unit * (ds.velocity_unit)**2\n",
    "kinetic_energies    = energies[:,3] * ds.mass_unit * (ds.velocity_unit)**2\n",
    "\n",
    "times_statistics    = times_statistics.convert_to_cgs().value / Myr\n",
    "thermal_energies    = thermal_energies.convert_to_cgs().value\n",
    "potential_energies  = potential_energies.convert_to_cgs().value\n",
    "kinetic_energies    = kinetic_energies.convert_to_cgs().value\n",
    "\n",
    "\n",
    "total_mass    = energies[:,-6]\n",
    "\n",
    "\n",
    "total_energies = thermal_energies + kinetic_energies\n",
    "\n",
    "sorted_times_statistics_indices = np.argsort(times_statistics)"
   ]
  },
  {
   "cell_type": "code",
   "execution_count": null,
   "metadata": {
    "collapsed": true
   },
   "outputs": [],
   "source": [
    "_e_kin = df.e_kin\n",
    "_e_int = df.e_int\n",
    "_e_tot = _e_kin + _e_int"
   ]
  },
  {
   "cell_type": "code",
   "execution_count": null,
   "metadata": {
    "collapsed": true
   },
   "outputs": [],
   "source": []
  },
  {
   "cell_type": "code",
   "execution_count": null,
   "metadata": {
    "collapsed": true
   },
   "outputs": [],
   "source": []
  },
  {
   "cell_type": "code",
   "execution_count": null,
   "metadata": {
    "collapsed": false
   },
   "outputs": [],
   "source": [
    "sns.rugplot(SN_times, color=\"k\", linewidth=3)\n",
    "plt.plot(times_statistics[sorted_times_statistics_indices],\n",
    "         kinetic_energies[sorted_times_statistics_indices],\n",
    "         label=\"statistics\")\n",
    "plt.plot(times_snapshots, _e_kin, label=\"snapshots\", linestyle=\"dashed\")\n",
    "plt.xlabel(r\"$t$ $[\\mathrm{Myr}]$\")\n",
    "plt.ylabel(r\"$E_\\mathrm{kin}$ $[\\mathrm{ergs}]$\")\n",
    "plt.legend(loc=\"best\")\n",
    "\n",
    "plt.xlim(0,40)\n",
    "\n",
    "plot_name = \"E_kin\"\n",
    "if save_plots:\n",
    "    mpl_plot_saver(plt.gcf(), plot_name, plots_dir)"
   ]
  },
  {
   "cell_type": "code",
   "execution_count": null,
   "metadata": {
    "collapsed": false
   },
   "outputs": [],
   "source": [
    "thermal_energies"
   ]
  },
  {
   "cell_type": "code",
   "execution_count": null,
   "metadata": {
    "collapsed": false
   },
   "outputs": [],
   "source": [
    "sns.rugplot(SN_times, color=\"k\", linewidth=3)\n",
    "plt.plot(times_statistics[sorted_times_statistics_indices],\n",
    "         thermal_energies[sorted_times_statistics_indices],\n",
    "         label=\"statistics\",\n",
    "        )\n",
    "plt.plot(times_snapshots, _e_int, label=\"snapshots\", linestyle=\"dashed\")\n",
    "plt.legend(loc=\"best\")\n",
    "plt.xlabel(r\"$t$ $[\\mathrm{Myr}]$\")\n",
    "plt.ylabel(r\"$E_\\mathrm{int}$ $[\\mathrm{ergs}]$\")\n",
    "\n",
    "plt.xlim(0,40)\n",
    "\n",
    "plot_name = \"E_int\"\n",
    "if save_plots:\n",
    "    mpl_plot_saver(plt.gcf(), plot_name, plots_dir)"
   ]
  },
  {
   "cell_type": "code",
   "execution_count": null,
   "metadata": {
    "collapsed": false
   },
   "outputs": [],
   "source": [
    "sns.rugplot(SN_times, color=\"k\", linewidth=3)\n",
    "plt.plot(times_statistics[sorted_times_statistics_indices],\n",
    "         total_energies[sorted_times_statistics_indices],\n",
    "         label=\"statistics\")\n",
    "plt.plot(times_snapshots, _e_int, label=\"snapshots\", linestyle=\"dashed\")\n",
    "plt.legend(loc=\"best\")\n",
    "plt.xlabel(r\"$t$ $[\\mathrm{Myr}]$\")\n",
    "plt.ylabel(r\"$E_\\mathrm{total}$ $[\\mathrm{ergs}]$\")\n",
    "\n",
    "plt.xlim(0,40)\n",
    "\n",
    "plot_name = \"E_tot\"\n",
    "if save_plots:\n",
    "    mpl_plot_saver(plt.gcf(), plot_name, plots_dir)"
   ]
  },
  {
   "cell_type": "markdown",
   "metadata": {},
   "source": [
    "To do: remove the contribution from cooling outside the remnant"
   ]
  },
  {
   "cell_type": "code",
   "execution_count": null,
   "metadata": {
    "collapsed": false
   },
   "outputs": [],
   "source": [
    "sns.rugplot(SN_times, color=\"k\", linewidth=3)\n",
    "plt.plot(times_statistics[sorted_times_statistics_indices], \n",
    "         total_energies[sorted_times_statistics_indices] - total_energies[sorted_times_statistics_indices][0],\n",
    "         label=\"statistics\")\n",
    "plt.plot(times_snapshots, _e_tot - _e_tot[0], label=\"snapshots\", linestyle=\"dashed\")\n",
    "plt.legend(loc=\"best\")\n",
    "plt.xlabel(r\"$t$ $[\\mathrm{Myr}]$\")\n",
    "plt.ylabel(r\"$\\Delta E_\\mathrm{total}$ $[\\mathrm{ergs}]$\")\n",
    "\n",
    "plt.xlim(0,40)\n",
    "\n",
    "plot_name = \"E_tot_delta\"\n",
    "if save_plots:\n",
    "    mpl_plot_saver(plt.gcf(), plot_name, plots_dir)"
   ]
  },
  {
   "cell_type": "code",
   "execution_count": null,
   "metadata": {
    "collapsed": false
   },
   "outputs": [],
   "source": [
    "print((total_energies - total_energies[0]) / 1e51)"
   ]
  },
  {
   "cell_type": "markdown",
   "metadata": {},
   "source": [
    "# Plot Timing\n",
    "Can be useful for noticing if the energy file doubles back on itself"
   ]
  },
  {
   "cell_type": "code",
   "execution_count": null,
   "metadata": {
    "collapsed": false
   },
   "outputs": [],
   "source": [
    "plt.plot(times_snapshots)\n",
    "plt.xlabel(\"Snapshot #\")\n",
    "plt.ylabel(\"Time [Myr]\")\n",
    "\n",
    "plot_name = \"times_snapshots\"\n",
    "if save_plots:\n",
    "    mpl_plot_saver(plt.gcf(), plot_name, plots_dir)"
   ]
  },
  {
   "cell_type": "code",
   "execution_count": null,
   "metadata": {
    "collapsed": false
   },
   "outputs": [],
   "source": [
    "plt.plot(times_statistics)\n",
    "plt.xlabel(\"Statistic Printout #\")\n",
    "plt.ylabel(\"Time [Myr]\")\n",
    "\n",
    "plot_name = \"times_statistics\"\n",
    "if save_plots:\n",
    "    mpl_plot_saver(plt.gcf(), plot_name, plots_dir)"
   ]
  },
  {
   "cell_type": "markdown",
   "metadata": {},
   "source": [
    "## Mass Plots\n",
    "\n",
    "WARNING: in \"energy.txt\" GIZMO only uses %g formatting; the change in total mass due to ejecta might be truncated "
   ]
  },
  {
   "cell_type": "code",
   "execution_count": null,
   "metadata": {
    "collapsed": true
   },
   "outputs": [],
   "source": [
    "masses = df.mass"
   ]
  },
  {
   "cell_type": "code",
   "execution_count": null,
   "metadata": {
    "collapsed": false
   },
   "outputs": [],
   "source": [
    "sns.rugplot(SN_times, color=\"k\", linewidth=3)\n",
    "plt.plot(times_snapshots, masses - masses[0], \n",
    "         label=\"snapshots\", linestyle=\"solid\", drawstyle=\"steps-post\")\n",
    "plt.plot(SN_times, SN_ejecta_masses.cumsum(), \n",
    "         label=\"intended\", linestyle=\"dashed\", drawstyle=\"steps-post\")\n",
    "plt.xlabel(r\"$t$ $[\\mathrm{Myr}]$\")\n",
    "plt.ylabel(r\"$\\Delta M$ $[M_\\odot]$\")\n",
    "plt.legend(loc=\"best\")\n",
    "\n",
    "plt.xlim(0,40)\n",
    "\n",
    "plot_name = \"mass\"\n",
    "if save_plots:\n",
    "    mpl_plot_saver(plt.gcf(), plot_name, plots_dir)"
   ]
  },
  {
   "cell_type": "markdown",
   "metadata": {},
   "source": [
    "## Momentum Plots"
   ]
  },
  {
   "cell_type": "code",
   "execution_count": null,
   "metadata": {
    "collapsed": true
   },
   "outputs": [],
   "source": [
    "radial_momentum = df.momentum"
   ]
  },
  {
   "cell_type": "code",
   "execution_count": null,
   "metadata": {
    "collapsed": false
   },
   "outputs": [],
   "source": [
    "radial_momentum / (100 * M_solar * km / s * SN_times.size)"
   ]
  },
  {
   "cell_type": "code",
   "execution_count": null,
   "metadata": {
    "collapsed": false
   },
   "outputs": [],
   "source": [
    "sns.rugplot(SN_times, color=\"k\", linewidth=3)\n",
    "plt.plot(times_snapshots, radial_momentum / (100 * M_solar * km / s))\n",
    "\n",
    "plt.xlabel(r\"$t$ $[\\mathrm{Myr}]$\")\n",
    "plt.ylabel(r\"$p$ $[100$ $M_\\odot$ $\\mathrm{km}$ $\\mathrm{s}^{-1}]$\")\n",
    "plt.ylim(ymin=0)\n",
    "\n",
    "plt.xlim(0,40)\n",
    "\n",
    "plot_name = \"momentum_total\"\n",
    "if save_plots:\n",
    "    mpl_plot_saver(plt.gcf(), plot_name, plots_dir)"
   ]
  },
  {
   "cell_type": "code",
   "execution_count": null,
   "metadata": {
    "collapsed": false
   },
   "outputs": [],
   "source": [
    "sns.rugplot(SN_times, color=\"k\", linewidth=3)\n",
    "plt.plot(times_snapshots, radial_momentum / (100 * M_solar * km / s * SN_times.size))\n",
    "plt.xlabel(r\"$t$ $[\\mathrm{Myr}]$\")\n",
    "plt.ylabel(r\"$p$ $[100$ $M_\\odot$ $N_\\mathrm{SNe}$ $\\mathrm{km}$ $\\mathrm{s}^{-1}]$\")\n",
    "plt.ylim(ymin=0)\n",
    "\n",
    "plt.xlim(0,40)\n",
    "\n",
    "plot_name = \"momentum_normalized\"\n",
    "if save_plots:\n",
    "    mpl_plot_saver(plt.gcf(), plot_name, plots_dir)"
   ]
  },
  {
   "cell_type": "markdown",
   "metadata": {},
   "source": [
    "# Plot Snapshot Views"
   ]
  },
  {
   "cell_type": "code",
   "execution_count": null,
   "metadata": {
    "collapsed": false
   },
   "outputs": [],
   "source": [
    "ipywidgets.interact(plot_projected_density,\n",
    "    ts = ipywidgets.fixed(ts),\n",
    "    snapshot_number = ipywidgets.SelectionSlider(\n",
    "        options=uncompressed_snapshot_numbers,\n",
    "        value=uncompressed_snapshot_numbers[-1],\n",
    "        ),\n",
    "    snapshot_number_to_index_map = ipywidgets.fixed(snapshot_number_to_index_map),\n",
    "    SN_times  = ipywidgets.fixed(SN_times),\n",
    "    plots_dir = ipywidgets.fixed(plots_dir),\n",
    "    save_plot = ipywidgets.fixed(save_plots),\n",
    "    show_plot = ipywidgets.fixed(True),\n",
    ")\n",
    "    \n",
    "                    "
   ]
  },
  {
   "cell_type": "code",
   "execution_count": null,
   "metadata": {
    "collapsed": false
   },
   "outputs": [],
   "source": [
    "ipywidgets.interact(plot_sliced_field,\n",
    "    ts = ipywidgets.fixed(ts),\n",
    "    snapshot_number = ipywidgets.SelectionSlider(\n",
    "        options=uncompressed_snapshot_numbers,\n",
    "        value=uncompressed_snapshot_numbers[-1],\n",
    "        ),\n",
    "    snapshot_number_to_index_map = ipywidgets.fixed(snapshot_number_to_index_map),\n",
    "    field = ipywidgets.Dropdown(options=list(field_type.keys()), value=\"density\"),\n",
    "    SN_times  = ipywidgets.fixed(SN_times),\n",
    "    plots_dir = ipywidgets.fixed(plots_dir),\n",
    "    save_plot = ipywidgets.fixed(save_plots),\n",
    "    show_plot = ipywidgets.fixed(True),\n",
    ")\n",
    "    "
   ]
  },
  {
   "cell_type": "code",
   "execution_count": null,
   "metadata": {
    "collapsed": false
   },
   "outputs": [],
   "source": [
    "ipywidgets.interact(plot_profile,\n",
    "    ts = ipywidgets.fixed(ts),\n",
    "    snapshot_number = ipywidgets.SelectionSlider(\n",
    "        options=uncompressed_snapshot_numbers,\n",
    "        value=uncompressed_snapshot_numbers[-1],\n",
    "        ),\n",
    "    snapshot_number_to_index_map = ipywidgets.fixed(snapshot_number_to_index_map),\n",
    "    field = ipywidgets.Dropdown(options=list(field_type.keys()), value=\"density\"),\n",
    "    rho_0     = ipywidgets.fixed(0),\n",
    "    plots_dir = ipywidgets.fixed(plots_dir),\n",
    "    save_plot = ipywidgets.fixed(save_plots),\n",
    "    show_plot = ipywidgets.fixed(True),\n",
    ")"
   ]
  },
  {
   "cell_type": "markdown",
   "metadata": {},
   "source": [
    "# Phase Diagram"
   ]
  },
  {
   "cell_type": "code",
   "execution_count": null,
   "metadata": {
    "collapsed": false
   },
   "outputs": [],
   "source": [
    "ipywidgets.interact(plot_phase_diagram,\n",
    "    ts = ipywidgets.fixed(ts),\n",
    "    snapshot_number = ipywidgets.SelectionSlider(\n",
    "        options=uncompressed_snapshot_numbers,\n",
    "        value=uncompressed_snapshot_numbers[-1],\n",
    "        ),\n",
    "    snapshot_number_to_index_map=ipywidgets.fixed(snapshot_number_to_index_map),\n",
    "    SN_times=ipywidgets.fixed(SN_times),\n",
    "    plots_dir=ipywidgets.fixed(plots_dir),\n",
    "    save_plot=ipywidgets.fixed(save_plots),\n",
    "    show_plot=ipywidgets.fixed(True),\n",
    ")"
   ]
  },
  {
   "cell_type": "code",
   "execution_count": null,
   "metadata": {
    "collapsed": true
   },
   "outputs": [],
   "source": []
  }
 ],
 "metadata": {
  "anaconda-cloud": {},
  "kernelspec": {
   "display_name": "Python [default]",
   "language": "python",
   "name": "python3"
  },
  "language_info": {
   "codemirror_mode": {
    "name": "ipython",
    "version": 3
   },
   "file_extension": ".py",
   "mimetype": "text/x-python",
   "name": "python",
   "nbconvert_exporter": "python",
   "pygments_lexer": "ipython3",
   "version": "3.5.2"
  },
  "widgets": {
   "state": {
    "06dcc896eeda4cfbacdf974a8233bdf7": {
     "views": [
      {
       "cell_index": 49
      }
     ]
    },
    "14b10c2f12aa4c649c70fa1b5ebaaf19": {
     "views": [
      {
       "cell_index": 46
      }
     ]
    },
    "23b51539d2404f129bf44a488114fa6d": {
     "views": [
      {
       "cell_index": 47
      }
     ]
    },
    "4921c5bb40734d1f83938d2773c2c4a7": {
     "views": [
      {
       "cell_index": 47
      }
     ]
    },
    "4b5bdd1ed34947beb6f450366c21c676": {
     "views": [
      {
       "cell_index": 47
      }
     ]
    },
    "6f866c74ed1a44588a2bf2d111091bf9": {
     "views": [
      {
       "cell_index": 45
      }
     ]
    }
   },
   "version": "1.2.0"
  }
 },
 "nbformat": 4,
 "nbformat_minor": 0
}
