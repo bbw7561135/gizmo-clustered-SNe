{
 "cells": [
  {
   "cell_type": "code",
   "execution_count": null,
   "metadata": {
    "collapsed": false
   },
   "outputs": [],
   "source": [
    "%matplotlib inline\n",
    "from matplotlib import pyplot as plt\n",
    "import seaborn as sns; sns.set(context=\"poster\")\n",
    "import ipywidgets\n",
    "import yt\n",
    "import glob\n",
    "import os\n",
    "import warnings\n",
    "\n",
    "import numpy as np\n",
    "\n",
    "from astropy import constants as const\n",
    "from astropy import units as u\n",
    "\n",
    "M_solar = const.M_sun.cgs.value\n",
    "m_proton = const.m_p.cgs.value\n",
    "gamma = 5/3\n",
    "\n",
    "@yt.derived_field(name=\"pressure\", units=\"g  / s**2 / cm\")\n",
    "def _pressure(field, data):\n",
    "    return (gamma-1) * data[\"thermal_energy\"] * data[\"density\"]"
   ]
  },
  {
   "cell_type": "markdown",
   "metadata": {},
   "source": [
    "# Warning\n",
    "This file is very much a work-in-progress.\n",
    "\n",
    "To do:\n",
    " - implement a shock-finder\n",
    " - only get energy within the remnant"
   ]
  },
  {
   "cell_type": "markdown",
   "metadata": {},
   "source": [
    "# Overview"
   ]
  },
  {
   "cell_type": "code",
   "execution_count": null,
   "metadata": {
    "collapsed": true
   },
   "outputs": [],
   "source": [
    "SN_times = np.array([\n",
    "    3e+10,\n",
    "    1.99471e+13,\n",
    "    8.02558e+13,\n",
    "    9.92043e+13,\n",
    "    1.22073e+14,\n",
    "    2.36641e+14,\n",
    "    2.46039e+14,\n",
    "    4.41575e+14,\n",
    "    5.08510e+14,\n",
    "    8.57144e+14,\n",
    "    9.02104e+14,\n",
    "    ]) / (u.Myr.to(u.s))\n",
    "\n",
    "\n",
    "N_SNe_included = 2"
   ]
  },
  {
   "cell_type": "code",
   "execution_count": null,
   "metadata": {
    "collapsed": false
   },
   "outputs": [],
   "source": [
    "time_unit = (u.pc / (u.km/u.s) ).to(u.Myr)\n",
    "\n",
    "unit_base = {\n",
    "    \"length\":(1.0, \"pc\"),\n",
    "    \"time\":(time_unit, \"Myr\"),\n",
    "    \"mass\":(1.0, \"Msun\")\n",
    "}"
   ]
  },
  {
   "cell_type": "code",
   "execution_count": null,
   "metadata": {
    "collapsed": false
   },
   "outputs": [],
   "source": [
    "# filename = \"../output/cluster/snapshot_000.hdf5\"\n",
    "# filename = \"../ICs/cluster/cluster_ics.hdf5\"\n",
    "snapshot_dir = \"../output/cluster/\"\n",
    "snapshot_dir = \"../output/single/\"\n",
    "\n",
    "n_files_ready = len(glob.glob(os.path.join(snapshot_dir, \"snapshot_*.hdf5\")))\n",
    "if n_files_ready == 0:\n",
    "    raise FileNotFoundError(\"No snapshots found in {}\".format(snapshot_dir))\n",
    "\n",
    "ts = yt.load(os.path.join(snapshot_dir,\"snapshot_0??.hdf5\"),\n",
    "             unit_base=unit_base)\n",
    "\n",
    "print(\"Loaded {} snapshots\".format(len(ts)))\n",
    "\n",
    "times = np.array([ts[i].current_time.convert_to_cgs() \n",
    "                  for i in range(len(ts))]) / u.Myr.to(u.s)\n",
    "\n",
    "ds = ts[0]\n",
    "rho_0 = ds.all_data()[\"gas\",\"density\"].mean()\n"
   ]
  },
  {
   "cell_type": "code",
   "execution_count": null,
   "metadata": {
    "collapsed": false
   },
   "outputs": [],
   "source": [
    "print( \"Length unit: \",   ds.length_unit)\n",
    "print( \"Time unit: \",     ds.time_unit)\n",
    "print( \"Mass unit: \",     ds.mass_unit)\n",
    "print( \"Velocity unit: \", ds.velocity_unit)"
   ]
  },
  {
   "cell_type": "markdown",
   "metadata": {},
   "source": [
    "# Plot Global Quantities"
   ]
  },
  {
   "cell_type": "code",
   "execution_count": null,
   "metadata": {
    "collapsed": false
   },
   "outputs": [],
   "source": [
    "ds = ts[0]"
   ]
  },
  {
   "cell_type": "code",
   "execution_count": null,
   "metadata": {
    "collapsed": false
   },
   "outputs": [],
   "source": [
    "thermal_energies = np.empty(len(ts))\n",
    "kinetic_energies = np.empty(len(ts))\n",
    "\n",
    "for i,ds in enumerate(ts):\n",
    "    dd = ds.all_data()\n",
    "    \n",
    "    thermal_energies[i] = (dd[\"all\", \"InternalEnergy\"] \\\n",
    "                         * dd[\"all\", \"Masses\"]).sum()\n",
    "    \n",
    "    kinetic_energies[i] = 0.5*(  dd[\"all\", \"particle_velocity_magnitude\"]**2 \\\n",
    "                               * dd[\"all\", \"Masses\"]).sum()\n",
    "    \n",
    "total_energies = thermal_energies + kinetic_energies"
   ]
  },
  {
   "cell_type": "code",
   "execution_count": null,
   "metadata": {
    "collapsed": false
   },
   "outputs": [],
   "source": [
    "sns.rugplot(SN_times[0:N_SNe_included], color=\"k\", linewidth=3)\n",
    "plt.plot(times, kinetic_energies)\n",
    "plt.xlabel(r\"$t$ $[\\mathrm{Myr}]$\")\n",
    "plt.ylabel(r\"$E_\\mathrm{kin}$ $[\\mathrm{ergs}]$\")"
   ]
  },
  {
   "cell_type": "code",
   "execution_count": null,
   "metadata": {
    "collapsed": false
   },
   "outputs": [],
   "source": [
    "thermal_energies"
   ]
  },
  {
   "cell_type": "code",
   "execution_count": null,
   "metadata": {
    "collapsed": false
   },
   "outputs": [],
   "source": [
    "sns.rugplot(SN_times[0:N_SNe_included], color=\"k\", linewidth=3)\n",
    "plt.plot(times, thermal_energies)\n",
    "plt.xlabel(r\"$t$ $[\\mathrm{Myr}]$\")\n",
    "plt.ylabel(r\"$E_\\mathrm{int}$ $[\\mathrm{ergs}]$\")"
   ]
  },
  {
   "cell_type": "code",
   "execution_count": null,
   "metadata": {
    "collapsed": false
   },
   "outputs": [],
   "source": [
    "sns.rugplot(SN_times[0:N_SNe_included], color=\"k\", linewidth=3)\n",
    "plt.plot(times, total_energies)\n",
    "plt.xlabel(r\"$t$ $[\\mathrm{Myr}]$\")\n",
    "plt.ylabel(r\"$E_\\mathrm{total}$ $[\\mathrm{ergs}]$\")"
   ]
  },
  {
   "cell_type": "markdown",
   "metadata": {},
   "source": [
    "To do: remove the contribution from cooling outside the remnant"
   ]
  },
  {
   "cell_type": "code",
   "execution_count": null,
   "metadata": {
    "collapsed": false
   },
   "outputs": [],
   "source": [
    "sns.rugplot(SN_times[0:N_SNe_included], color=\"k\", linewidth=3)\n",
    "plt.plot(times, total_energies - total_energies[0])\n",
    "plt.xlabel(r\"$t$ $[\\mathrm{Myr}]$\")\n",
    "plt.ylabel(r\"$\\Delta E_\\mathrm{total}$ $[\\mathrm{ergs}]$\")"
   ]
  },
  {
   "cell_type": "markdown",
   "metadata": {},
   "source": [
    "## Mass Plots"
   ]
  },
  {
   "cell_type": "code",
   "execution_count": null,
   "metadata": {
    "collapsed": true
   },
   "outputs": [],
   "source": [
    "total_mass = np.empty(len(ts))\n",
    "\n",
    "for i,ds in enumerate(ts):\n",
    "    dd = ds.all_data()\n",
    "    \n",
    "    total_mass[i] = (dd[\"all\", \"Masses\"]).sum()\n",
    "    \n",
    "total_mass /= M_solar"
   ]
  },
  {
   "cell_type": "code",
   "execution_count": null,
   "metadata": {
    "collapsed": false
   },
   "outputs": [],
   "source": [
    "sns.rugplot(SN_times[0:N_SNe_included], color=\"k\", linewidth=3)\n",
    "plt.plot(times, total_mass - total_mass[0])\n",
    "plt.xlabel(r\"$t$ $[\\mathrm{Myr}]$\")\n",
    "plt.ylabel(r\"$\\Delta M$ $[M_\\odot]$\")"
   ]
  },
  {
   "cell_type": "markdown",
   "metadata": {},
   "source": [
    "## Momentum Plots"
   ]
  },
  {
   "cell_type": "code",
   "execution_count": null,
   "metadata": {
    "collapsed": false
   },
   "outputs": [],
   "source": [
    "radial_momentum = np.empty(len(ts))\n",
    "\n",
    "for i,ds in enumerate(ts):\n",
    "    dd = ds.all_data()\n",
    "    \n",
    "    radial_momentum[i] = (  dd[\"all\", \"particle_radial_velocity\"] \\\n",
    "                          * dd[\"all\", \"Masses\"]).sum()\n"
   ]
  },
  {
   "cell_type": "code",
   "execution_count": null,
   "metadata": {
    "collapsed": false
   },
   "outputs": [],
   "source": [
    "sns.rugplot(SN_times[0:N_SNe_included], color=\"k\", linewidth=3)\n",
    "plt.plot(times, radial_momentum / (100 * M_solar * 1e5))\n",
    "plt.xlabel(r\"$t$ $[\\mathrm{Myr}]$\")\n",
    "plt.ylabel(r\"$p$ $[100$ $M_\\odot$ $\\mathrm{km}$ $\\mathrm{s}^{-1}]$\")\n",
    "plt.ylim(ymin=0)"
   ]
  },
  {
   "cell_type": "markdown",
   "metadata": {},
   "source": [
    "# Plot Snapshot Views"
   ]
  },
  {
   "cell_type": "code",
   "execution_count": null,
   "metadata": {
    "collapsed": false,
    "scrolled": false
   },
   "outputs": [],
   "source": [
    "def show_projected_density(i):\n",
    "    ds = ts[i]\n",
    "    \n",
    "    p = yt.ProjectionPlot(ds, \"x\", (\"gas\",\"density\"))\n",
    "    p.set_cmap(field=\"density\", cmap=\"viridis\")\n",
    "    p.annotate_timestamp(corner=\"upper_left\", draw_inset_box=True)\n",
    "    \n",
    "    t = ds.current_time.convert_to_cgs().value / u.Myr.to(u.s)\n",
    "    N_SNe_so_far = np.sum(t > SN_times[0:N_SNe_included])\n",
    "    p.annotate_text((.8,.94), \n",
    "                    \"N_SNe: {}\".format(N_SNe_so_far),\n",
    "                    coord_system=\"axis\",\n",
    "                    inset_box_args={\"facecolor\":\"darkslategray\",\n",
    "                                       \"alpha\":0.9},\n",
    "                   )\n",
    "    p.show()\n",
    "    \n",
    "ipywidgets.interact(show_projected_density,\n",
    "                i=ipywidgets.IntSlider(min=0,\n",
    "                                       max=len(ts)-1,\n",
    "                                       value=0))"
   ]
  },
  {
   "cell_type": "code",
   "execution_count": null,
   "metadata": {
    "collapsed": false
   },
   "outputs": [],
   "source": [
    "def show_sliced_field(i, field):\n",
    "    ds = ts[i]\n",
    "    \n",
    "    s = yt.SlicePlot(ds, \"z\", (\"gas\", field))\n",
    "    s.set_cmap(field=field, cmap=\"viridis\")\n",
    "    s.annotate_timestamp(corner=\"upper_left\", draw_inset_box=True)\n",
    "    t = ds.current_time.convert_to_cgs().value / u.Myr.to(u.s)\n",
    "    N_SNe_so_far = np.sum(t > SN_times[0:N_SNe_included])\n",
    "    s.annotate_text((.8,.94), \n",
    "                    \"N_SNe: {}\".format(N_SNe_so_far),\n",
    "                    coord_system=\"axis\",\n",
    "                    inset_box_args={\"facecolor\":\"darkslategray\",\n",
    "                                       \"alpha\":0.9},\n",
    "                   )\n",
    "    s.show()\n",
    "    \n",
    "ipywidgets.interact(show_sliced_field,\n",
    "                i=ipywidgets.IntSlider(min=0,\n",
    "                                       max=len(ts)-1,\n",
    "                                       value=0),\n",
    "                field = ipywidgets.Dropdown(options=[\n",
    "                                                \"density\",\n",
    "                                                \"temperature\",\n",
    "                                                \"pressure\",\n",
    "                                                \"velocity_magnitude\"\n",
    "                                            ],\n",
    "                                            value=\"density\"))"
   ]
  },
  {
   "cell_type": "markdown",
   "metadata": {},
   "source": [
    "# Profiles"
   ]
  },
  {
   "cell_type": "code",
   "execution_count": null,
   "metadata": {
    "collapsed": false
   },
   "outputs": [],
   "source": [
    "# from astropy.convolution import convolve, Gaussian1DKernel\n",
    "# gauss_kernel = Gaussian1DKernel(2)\n",
    "\n",
    "def show_profile(i, field):\n",
    "    ds = ts[i]\n",
    "    sp = ds.sphere(ds.domain_center, ds.domain_width[0]/2)\n",
    "    \n",
    "    \n",
    "    if field is \"density\":\n",
    "        with warnings.catch_warnings():\n",
    "            warnings.simplefilter(\"ignore\")\n",
    "            plot = yt.ProfilePlot(sp, \"radius\", \"particle_mass\", \n",
    "                                  weight_field=None, accumulation=True)\n",
    "        plot.set_log(\"radius\", False)\n",
    "        \n",
    "        prof = plot.profiles[0]\n",
    "        \n",
    "        V = 4/3*np.pi*prof.x**3\n",
    "        dV = V[1:] - V[:-1]\n",
    "\n",
    "        density = prof[\"particle_mass\"][:-1] / dV\n",
    "        density = density * (rho_0 / density[-1]) # I think I'm missing a geometric factor somewhere\n",
    "        \n",
    "        plt.plot(prof.x[1:].convert_to_units(\"pc\"), density)\n",
    "        plt.ylim(ymin=1e-26, ymax=1e-23)\n",
    "        \n",
    "        plt.axhline(rho_0)\n",
    "        \n",
    "    else:    \n",
    "        with warnings.catch_warnings():\n",
    "            warnings.simplefilter(\"ignore\")\n",
    "            pp = yt.create_profile(sp, \n",
    "                                   \"radius\", [field, \"ones\"], \n",
    "                                   weight_field=\"cell_volume\",\n",
    "                                   units = {\"radius\":\"pc\"},\n",
    "                                   logs = {\"radius\":False},\n",
    "                                   n_bins=64,\n",
    "            )\n",
    "        mask = pp[\"ones\"] > 0.1 # filter out bins with no particles\n",
    "        plt.plot(pp.x.value[mask], pp[field][mask])\n",
    "\n",
    "    plt.yscale(\"log\")\n",
    "    plt.ylabel(field)\n",
    "\n",
    "    plt.xlabel(r\"$R$ $[\\mathrm{pc}]$\")\n",
    "    plt.title(r\"$t$ $= {:.1f}$ $\\mathrm{{Myr}}$\".format(times[i]))\n",
    "    \n",
    "\n",
    "\n",
    "    \n",
    "ipywidgets.interact(show_profile,\n",
    "                i=ipywidgets.IntSlider(min=0,\n",
    "                                       max=len(ts)-1,\n",
    "                                       value=1),\n",
    "                field = ipywidgets.Dropdown(options=[\n",
    "                                                \"density\",\n",
    "                                                \"temperature\",\n",
    "                                                \"pressure\",\n",
    "                                                \"velocity_magnitude\",\n",
    "                                                \"radial_velocity\",\n",
    "                                                \"Metallicity\",            \n",
    "                                            ],\n",
    "                                            value=\"density\"))"
   ]
  },
  {
   "cell_type": "markdown",
   "metadata": {},
   "source": [
    "# Double check hdf5"
   ]
  },
  {
   "cell_type": "code",
   "execution_count": null,
   "metadata": {
    "collapsed": true
   },
   "outputs": [],
   "source": [
    "import h5py"
   ]
  },
  {
   "cell_type": "code",
   "execution_count": null,
   "metadata": {
    "collapsed": false
   },
   "outputs": [],
   "source": [
    "filename = \"../output/cluster/snapshot_000.hdf5\"\n",
    "# filename = \"../ICs/cluster/cluster_ics.hdf5\"\n",
    "\n",
    "f = h5py.File(filename)"
   ]
  },
  {
   "cell_type": "code",
   "execution_count": null,
   "metadata": {
    "collapsed": false
   },
   "outputs": [],
   "source": [
    "f[\"Header\"].attrs[\"BoxSize\"]"
   ]
  },
  {
   "cell_type": "code",
   "execution_count": null,
   "metadata": {
    "collapsed": false
   },
   "outputs": [],
   "source": [
    "for key in f[\"Header\"].attrs:\n",
    "    print(key, \":\", f[\"Header\"].attrs[key])"
   ]
  },
  {
   "cell_type": "code",
   "execution_count": null,
   "metadata": {
    "collapsed": true
   },
   "outputs": [],
   "source": [
    "for key in f[\"PartType0\"].attrs:\n",
    "    print(key, \":\", f[\"PartType0\"].attrs[key])"
   ]
  },
  {
   "cell_type": "code",
   "execution_count": null,
   "metadata": {
    "collapsed": false
   },
   "outputs": [],
   "source": [
    "for key in f.attrs:\n",
    "    print(key, \":\", f.attrs[key])"
   ]
  },
  {
   "cell_type": "code",
   "execution_count": null,
   "metadata": {
    "collapsed": false
   },
   "outputs": [],
   "source": [
    "for key in f[\"PartType0\"].keys():\n",
    "    print(key, \":\", f[\"PartType0\"][key])"
   ]
  }
 ],
 "metadata": {
  "anaconda-cloud": {},
  "kernelspec": {
   "display_name": "Python 3",
   "language": "python",
   "name": "python3"
  },
  "language_info": {
   "codemirror_mode": {
    "name": "ipython",
    "version": 3
   },
   "file_extension": ".py",
   "mimetype": "text/x-python",
   "name": "python",
   "nbconvert_exporter": "python",
   "pygments_lexer": "ipython3",
   "version": "3.5.2"
  },
  "widgets": {
   "state": {},
   "version": "1.1.2"
  }
 },
 "nbformat": 4,
 "nbformat_minor": 0
}
