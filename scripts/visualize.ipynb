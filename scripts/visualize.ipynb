{
 "cells": [
  {
   "cell_type": "code",
   "execution_count": null,
   "metadata": {
    "collapsed": false
   },
   "outputs": [],
   "source": [
    "from __future__ import print_function, division\n",
    "\n",
    "%matplotlib inline\n",
    "from matplotlib import pyplot as plt\n",
    "import seaborn as sns; sns.set(context=\"poster\")\n",
    "import ipywidgets\n",
    "import yt\n",
    "import glob\n",
    "import os\n",
    "import warnings\n",
    "import h5py\n",
    "\n",
    "import numpy as np\n",
    "import pandas as pd\n",
    "\n",
    "from units import M_solar, m_proton, pc, yr, Myr, km, s, gamma\n",
    "\n",
    "from injection_helpers import get_SNe\n",
    "\n",
    "from visualize_helpers import \\\n",
    "    get_snapshot_filenames, \\\n",
    "    total_mass_of_snapshot, \\\n",
    "    total_radial_momentum_of_snapshot, \\\n",
    "    map_to_all_snapshots, \\\n",
    "    get_snapshot_times, \\\n",
    "    total_kinetic_energy_of_snapshot, \\\n",
    "    total_internal_energy_of_snapshot, \\\n",
    "    load_snapshots\n",
    "    \n",
    "\n",
    "@yt.derived_field(name=\"pressure\", units=\"g  / s**2 / cm\")\n",
    "def _pressure(field, data):\n",
    "    return (gamma-1) * data[\"thermal_energy\"] * data[\"density\"]"
   ]
  },
  {
   "cell_type": "code",
   "execution_count": null,
   "metadata": {
    "collapsed": true
   },
   "outputs": [],
   "source": [
    "# run_dir = \"../runs/cluster/\"\n",
    "# run_dir = \"../runs/cluster_cooling/\"\n",
    "# run_dir = \"../runs/cluster_cooling_150/\"\n",
    "# run_dir = \"../runs/cluster_cooling_200/\"\n",
    "# run_dir = \"../runs/cluster_cooling_250/\"\n",
    "run_dir = \"../runs/cluster_cooling_300/\"\n",
    "# run_dir = \"../runs/single/\"\n",
    "# run_dir = \"../runs/single_cooling/\"\n",
    "# run_dir = \"../runs/double/\"\n",
    "# run_dir = \"../runs/double_cooling/\"\n",
    "\n",
    "inputs_dir = os.path.join(run_dir, \"inputs\")\n",
    "outputs_dir = os.path.join(run_dir, \"outputs\")"
   ]
  },
  {
   "cell_type": "markdown",
   "metadata": {},
   "source": [
    "# Warning\n",
    "This file is very much a work-in-progress.\n",
    "\n",
    "To do:\n",
    " - implement a shock-finder\n",
    " - only get energy within the remnant"
   ]
  },
  {
   "cell_type": "markdown",
   "metadata": {},
   "source": [
    "# Overview"
   ]
  },
  {
   "cell_type": "code",
   "execution_count": null,
   "metadata": {
    "collapsed": false
   },
   "outputs": [],
   "source": [
    "SNe = get_SNe(inputs_dir)\n",
    "SN_times           = np.array([SN.time          for SN in SNe])\n",
    "SN_ejecta_masses   = np.array([SN.ejecta_mass   for SN in SNe])\n",
    "SN_ejecta_masses_Z = np.array([SN.ejecta_mass_Z for SN in SNe])"
   ]
  },
  {
   "cell_type": "code",
   "execution_count": null,
   "metadata": {
    "collapsed": false
   },
   "outputs": [],
   "source": [
    "print(SN_times)"
   ]
  },
  {
   "cell_type": "code",
   "execution_count": null,
   "metadata": {
    "collapsed": false
   },
   "outputs": [],
   "source": [
    "print(SN_ejecta_masses)"
   ]
  },
  {
   "cell_type": "code",
   "execution_count": null,
   "metadata": {
    "collapsed": false
   },
   "outputs": [],
   "source": [
    "ts = load_snapshots(outputs_dir)\n",
    "snapshot_filenames = get_snapshot_filenames(outputs_dir)\n",
    "times_snapshots = get_snapshot_times(ts)\n",
    "\n",
    "print(\"Loaded {} snapshots\".format(len(ts)))\n",
    "\n",
    "ds = ts[0]\n",
    "rho_0 = ds.all_data()[\"all\",\"density\"].mean()\n"
   ]
  },
  {
   "cell_type": "code",
   "execution_count": null,
   "metadata": {
    "collapsed": false
   },
   "outputs": [],
   "source": [
    "times_snapshots"
   ]
  },
  {
   "cell_type": "code",
   "execution_count": null,
   "metadata": {
    "collapsed": false
   },
   "outputs": [],
   "source": [
    "print( \"Length unit: \",   ds.length_unit)\n",
    "print( \"Time unit: \",     ds.time_unit)\n",
    "print( \"Mass unit: \",     ds.mass_unit)\n",
    "print( \"Velocity unit: \", ds.velocity_unit)"
   ]
  },
  {
   "cell_type": "markdown",
   "metadata": {},
   "source": [
    "# Plot Global Quantities"
   ]
  },
  {
   "cell_type": "code",
   "execution_count": null,
   "metadata": {
    "collapsed": false
   },
   "outputs": [],
   "source": [
    "ds = ts[0]\n",
    "dd = ds.all_data()"
   ]
  },
  {
   "cell_type": "code",
   "execution_count": null,
   "metadata": {
    "collapsed": false
   },
   "outputs": [],
   "source": [
    "ds.field_list"
   ]
  },
  {
   "cell_type": "code",
   "execution_count": null,
   "metadata": {
    "collapsed": false
   },
   "outputs": [],
   "source": [
    "energies = np.loadtxt(os.path.join(outputs_dir, \"energy.txt\"), ndmin=2)\n",
    "\n",
    "times_statistics    = energies[:,0] * ds.time_unit\n",
    "thermal_energies    = energies[:,1] * ds.mass_unit * (ds.velocity_unit)**2\n",
    "potential_energies  = energies[:,2] * ds.mass_unit * (ds.velocity_unit)**2\n",
    "kinetic_energies    = energies[:,3] * ds.mass_unit * (ds.velocity_unit)**2\n",
    "\n",
    "times_statistics    = times_statistics.convert_to_cgs().value / Myr\n",
    "thermal_energies    = thermal_energies.convert_to_cgs().value\n",
    "potential_energies  = potential_energies.convert_to_cgs().value\n",
    "kinetic_energies    = kinetic_energies.convert_to_cgs().value\n",
    "\n",
    "\n",
    "total_mass    = energies[:,-6]\n",
    "\n",
    "\n",
    "total_energies = thermal_energies + kinetic_energies\n",
    "\n",
    "sorted_times_statistics_indices = np.argsort(times_statistics)"
   ]
  },
  {
   "cell_type": "code",
   "execution_count": null,
   "metadata": {
    "collapsed": false
   },
   "outputs": [],
   "source": [
    "kinetic_energies"
   ]
  },
  {
   "cell_type": "code",
   "execution_count": null,
   "metadata": {
    "collapsed": false
   },
   "outputs": [],
   "source": [
    "_e_kin = map_to_all_snapshots(outputs_dir, total_kinetic_energy_of_snapshot)\n",
    "_e_int = map_to_all_snapshots(outputs_dir, total_internal_energy_of_snapshot)\n",
    "_e_tot = _e_kin + _e_int"
   ]
  },
  {
   "cell_type": "code",
   "execution_count": null,
   "metadata": {
    "collapsed": false
   },
   "outputs": [],
   "source": [
    "sns.rugplot(SN_times, color=\"k\", linewidth=3)\n",
    "plt.plot(times_statistics[sorted_times_statistics_indices],\n",
    "         kinetic_energies[sorted_times_statistics_indices],\n",
    "         label=\"statistics\")\n",
    "plt.plot(times_snapshots, _e_kin, label=\"snapshots\")\n",
    "plt.xlabel(r\"$t$ $[\\mathrm{Myr}]$\")\n",
    "plt.ylabel(r\"$E_\\mathrm{kin}$ $[\\mathrm{ergs}]$\")\n",
    "plt.legend(loc=\"best\")"
   ]
  },
  {
   "cell_type": "code",
   "execution_count": null,
   "metadata": {
    "collapsed": false
   },
   "outputs": [],
   "source": [
    "thermal_energies"
   ]
  },
  {
   "cell_type": "code",
   "execution_count": null,
   "metadata": {
    "collapsed": false
   },
   "outputs": [],
   "source": [
    "sns.rugplot(SN_times, color=\"k\", linewidth=3)\n",
    "plt.plot(times_statistics[sorted_times_statistics_indices],\n",
    "         thermal_energies[sorted_times_statistics_indices],\n",
    "         label=\"statistics\",\n",
    "        )\n",
    "plt.plot(times_snapshots, _e_int, label=\"snapshots\")\n",
    "plt.legend(loc=\"best\")\n",
    "plt.xlabel(r\"$t$ $[\\mathrm{Myr}]$\")\n",
    "plt.ylabel(r\"$E_\\mathrm{int}$ $[\\mathrm{ergs}]$\")"
   ]
  },
  {
   "cell_type": "code",
   "execution_count": null,
   "metadata": {
    "collapsed": false
   },
   "outputs": [],
   "source": [
    "sns.rugplot(SN_times, color=\"k\", linewidth=3)\n",
    "plt.plot(times_statistics[sorted_times_statistics_indices],\n",
    "         total_energies[sorted_times_statistics_indices],\n",
    "         label=\"statistics\")\n",
    "plt.plot(times_snapshots, _e_int, label=\"snapshots\")\n",
    "plt.legend(loc=\"best\")\n",
    "plt.xlabel(r\"$t$ $[\\mathrm{Myr}]$\")\n",
    "plt.ylabel(r\"$E_\\mathrm{total}$ $[\\mathrm{ergs}]$\")"
   ]
  },
  {
   "cell_type": "markdown",
   "metadata": {},
   "source": [
    "To do: remove the contribution from cooling outside the remnant"
   ]
  },
  {
   "cell_type": "code",
   "execution_count": null,
   "metadata": {
    "collapsed": false,
    "scrolled": false
   },
   "outputs": [],
   "source": [
    "sns.rugplot(SN_times, color=\"k\", linewidth=3)\n",
    "plt.plot(times_statistics[sorted_times_statistics_indices], \n",
    "         total_energies[sorted_times_statistics_indices] - total_energies[sorted_times_statistics_indices][0],\n",
    "         label=\"statistics\")\n",
    "plt.plot(times_snapshots, _e_tot - _e_tot[0], label=\"snapshots\")\n",
    "plt.legend(loc=\"best\")\n",
    "plt.xlabel(r\"$t$ $[\\mathrm{Myr}]$\")\n",
    "plt.ylabel(r\"$\\Delta E_\\mathrm{total}$ $[\\mathrm{ergs}]$\")"
   ]
  },
  {
   "cell_type": "code",
   "execution_count": null,
   "metadata": {
    "collapsed": false
   },
   "outputs": [],
   "source": [
    "print((total_energies - total_energies[0]) / 1e51)"
   ]
  },
  {
   "cell_type": "markdown",
   "metadata": {},
   "source": [
    "# Plot Timing\n",
    "Can be useful for noticing if the energy file doubles back on itself"
   ]
  },
  {
   "cell_type": "code",
   "execution_count": null,
   "metadata": {
    "collapsed": false
   },
   "outputs": [],
   "source": [
    "plt.plot(times_snapshots)"
   ]
  },
  {
   "cell_type": "code",
   "execution_count": null,
   "metadata": {
    "collapsed": false
   },
   "outputs": [],
   "source": [
    "plt.plot(times_statistics)"
   ]
  },
  {
   "cell_type": "markdown",
   "metadata": {},
   "source": [
    "## Mass Plots\n",
    "\n",
    "WARNING: in \"energy.txt\" GIZMO only uses %g formatting; the change in total mass due to ejecta might be truncated "
   ]
  },
  {
   "cell_type": "code",
   "execution_count": null,
   "metadata": {
    "collapsed": false
   },
   "outputs": [],
   "source": [
    "masses = map_to_all_snapshots(outputs_dir, total_mass_of_snapshot)"
   ]
  },
  {
   "cell_type": "code",
   "execution_count": null,
   "metadata": {
    "collapsed": false
   },
   "outputs": [],
   "source": [
    "sns.rugplot(SN_times, color=\"k\", linewidth=3)\n",
    "plt.plot(times_snapshots, masses - masses[0], \n",
    "         label=\"snapshots\", linestyle=\"solid\", drawstyle=\"steps-post\")\n",
    "plt.plot(SN_times, SN_ejecta_masses.cumsum(), \n",
    "         label=\"intended\", linestyle=\"dashed\", drawstyle=\"steps-post\")\n",
    "plt.xlabel(r\"$t$ $[\\mathrm{Myr}]$\")\n",
    "plt.ylabel(r\"$\\Delta M$ $[M_\\odot]$\")\n",
    "plt.legend(loc=\"best\")"
   ]
  },
  {
   "cell_type": "code",
   "execution_count": null,
   "metadata": {
    "collapsed": false
   },
   "outputs": [],
   "source": [
    "times_snapshots[-3:]"
   ]
  },
  {
   "cell_type": "code",
   "execution_count": null,
   "metadata": {
    "collapsed": false
   },
   "outputs": [],
   "source": [
    "SN_times[4]"
   ]
  },
  {
   "cell_type": "code",
   "execution_count": null,
   "metadata": {
    "collapsed": true
   },
   "outputs": [],
   "source": []
  },
  {
   "cell_type": "markdown",
   "metadata": {},
   "source": [
    "## Momentum Plots"
   ]
  },
  {
   "cell_type": "code",
   "execution_count": null,
   "metadata": {
    "collapsed": true
   },
   "outputs": [],
   "source": [
    "radial_momentum = map_to_all_snapshots(outputs_dir, total_radial_momentum_of_snapshot)"
   ]
  },
  {
   "cell_type": "code",
   "execution_count": null,
   "metadata": {
    "collapsed": false
   },
   "outputs": [],
   "source": [
    "radial_momentum"
   ]
  },
  {
   "cell_type": "code",
   "execution_count": null,
   "metadata": {
    "collapsed": false
   },
   "outputs": [],
   "source": [
    "sns.rugplot(SN_times, color=\"k\", linewidth=3)\n",
    "plt.plot(times_snapshots, radial_momentum / (100 * M_solar * km / s))\n",
    "\n",
    "plt.xlabel(r\"$t$ $[\\mathrm{Myr}]$\")\n",
    "plt.ylabel(r\"$p$ $[100$ $M_\\odot$ $\\mathrm{km}$ $\\mathrm{s}^{-1}]$\")\n",
    "plt.ylim(ymin=0)"
   ]
  },
  {
   "cell_type": "code",
   "execution_count": null,
   "metadata": {
    "collapsed": false
   },
   "outputs": [],
   "source": [
    "sns.rugplot(SN_times, color=\"k\", linewidth=3)\n",
    "plt.plot(times_snapshots, radial_momentum / (100 * M_solar * km / s * SN_times.size))\n",
    "plt.xlabel(r\"$t$ $[\\mathrm{Myr}]$\")\n",
    "plt.ylabel(r\"$p$ $[100$ $M_\\odot$ $N_\\mathrm{SNe}$ $\\mathrm{km}$ $\\mathrm{s}^{-1}]$\")\n",
    "plt.ylim(ymin=0)"
   ]
  },
  {
   "cell_type": "markdown",
   "metadata": {},
   "source": [
    "# Plot Snapshot Views"
   ]
  },
  {
   "cell_type": "code",
   "execution_count": null,
   "metadata": {
    "collapsed": false,
    "scrolled": false
   },
   "outputs": [],
   "source": [
    "def show_projected_density(i):\n",
    "    ds = ts[i]\n",
    "    \n",
    "    p = yt.ProjectionPlot(ds, \"x\", (\"gas\",\"density\"))\n",
    "    p.set_cmap(field=\"density\", cmap=\"viridis\")\n",
    "    p.annotate_timestamp(corner=\"upper_left\", draw_inset_box=True)\n",
    "    \n",
    "    t = ds.current_time.convert_to_cgs().value / Myr\n",
    "    N_SNe_so_far = np.sum(t > SN_times)\n",
    "    p.annotate_text((.8,.94), \n",
    "                    \"N_SNe: {}\".format(N_SNe_so_far),\n",
    "                    coord_system=\"axis\",\n",
    "                    inset_box_args={\"facecolor\":\"darkslategray\",\n",
    "                                       \"alpha\":0.9},\n",
    "                   )\n",
    "    p.show()\n",
    "    \n",
    "ipywidgets.interact(show_projected_density,\n",
    "                    i=ipywidgets.IntSlider(min=0,\n",
    "                                           max=len(ts)-1,\n",
    "                                           value=len(ts)-1))"
   ]
  },
  {
   "cell_type": "code",
   "execution_count": null,
   "metadata": {
    "collapsed": false,
    "scrolled": false
   },
   "outputs": [],
   "source": [
    "field_type = {\n",
    "    \"density\": \"gas\",\n",
    "    \"temperature\": \"gas\",\n",
    "    \"pressure\": \"gas\",\n",
    "    \"velocity_magnitude\": \"gas\",\n",
    "    \"radius\": \"index\",\n",
    "    \"metallicity\": \"gas\"\n",
    "}\n",
    "\n",
    "def show_sliced_field(i, field):\n",
    "    ds = ts[i]\n",
    "    s = yt.SlicePlot(ds, \"z\", (field_type[field], field))\n",
    "    s.set_cmap(field=field, cmap=\"viridis\")\n",
    "    s.annotate_timestamp(corner=\"upper_left\", draw_inset_box=True)\n",
    "    t = ds.current_time.convert_to_cgs().value / Myr\n",
    "    N_SNe_so_far = np.sum(t > SN_times)\n",
    "    s.annotate_text((.8,.94), \n",
    "                    \"N_SNe: {}\".format(N_SNe_so_far),\n",
    "                    coord_system=\"axis\",\n",
    "                    inset_box_args={\"facecolor\":\"darkslategray\",\n",
    "                                       \"alpha\":0.9},\n",
    "                   )\n",
    "    s.show()\n",
    "    \n",
    "ipywidgets.interact(show_sliced_field,\n",
    "                i=ipywidgets.IntSlider(min=0,\n",
    "                                       max=len(ts)-1,\n",
    "                                       value=len(ts)-1),\n",
    "                field = ipywidgets.Dropdown(options=list(field_type.keys()),\n",
    "                                            value=\"density\"))"
   ]
  },
  {
   "cell_type": "markdown",
   "metadata": {},
   "source": [
    "# Profiles"
   ]
  },
  {
   "cell_type": "code",
   "execution_count": null,
   "metadata": {
    "collapsed": true
   },
   "outputs": [],
   "source": [
    "def create_density_profile(ds, n_bins=20):\n",
    "    dd = ds.all_data()\n",
    "    r_max = ds.domain_width[0]/2\n",
    "\n",
    "    dr = r_max / n_bins\n",
    "\n",
    "    rs = np.linspace(0, r_max.value, num=n_bins+1)[1:]\n",
    "\n",
    "    dmass = np.zeros(n_bins)\n",
    "    ones = np.zeros(n_bins, dtype=int)\n",
    "\n",
    "    for i in range(n_bins):\n",
    "        r_i = dr*(i)\n",
    "        r_o = dr*(i+1)\n",
    "\n",
    "        mask =    (dd[\"all\", \"particle_position_spherical_radius\"] >= r_i) \\\n",
    "                & (dd[\"all\", \"particle_position_spherical_radius\"] <  r_o)\n",
    "\n",
    "#         ones[i] = mask.sum()\n",
    "        dmass[i] = dd[\"all\", \"Masses\"][mask].sum().convert_to_cgs().value\n",
    "            \n",
    "    Vs = 4/3*np.pi*rs**3\n",
    "    Vs = np.insert(Vs, 0, 0)\n",
    "    dVs = Vs[1:] - Vs[:-1]\n",
    "\n",
    "    densities = dmass / (dVs * pc**3)\n",
    "    \n",
    "    return rs, densities"
   ]
  },
  {
   "cell_type": "code",
   "execution_count": null,
   "metadata": {
    "collapsed": false
   },
   "outputs": [],
   "source": [
    "field_y_labels = {\n",
    "    \"density\" : r\"$\\rho$ $[\\mathrm{m_p}$ $\\mathrm{cm}^{-3}]$\",\n",
    "    \"temperature\" : r\"$T$ $[\\mathrm{K}]$\",\n",
    "    \"pressure\" : r\"$P$ $[\\mathrm{ergs}$ $\\mathrm{cm}^{-3}]$\",\n",
    "    \"velocity_magnitude\" : r\"$\\|\\mathbf{v}\\|$ $[\\mathrm{km}$ $\\mathrm{s}^{-1}]$\",\n",
    "    \"radial_velocity\" : r\"$v_r$ $[\\mathrm{km}$ $\\mathrm{s}^{-1}]$\",\n",
    "    \"Metallicity\" : r\"$Z / Z_\\odot$\",\n",
    "}\n",
    "\n",
    "field_weight = {\n",
    "    \"temperature\" : \"cell_mass\",\n",
    "    \"pressure\" : \"cell_volume\",\n",
    "    \"velocity_magnitude\" : \"cell_mass\",\n",
    "    \"radial_velocity\" : \"cell_mass\",\n",
    "    \"Metallicity\" : \"cell_mass\",\n",
    "}\n",
    "\n",
    "field_units = {\n",
    "    \"density\" : m_proton,\n",
    "    \"temperature\" : 1,\n",
    "    \"pressure\" : 1,\n",
    "    \"velocity_magnitude\" : km / s, \n",
    "    \"radial_velocity\"    : km / s, \n",
    "    \"Metallicity\" : 0.02,\n",
    "}\n",
    "\n",
    "\n",
    "\n",
    "def show_profile(i, field):\n",
    "    ds = ts[i]\n",
    "    sp = ds.sphere(ds.domain_center, ds.domain_width[0]/2)\n",
    "    \n",
    "    \n",
    "    if field is \"density\":\n",
    "        rs, densities = create_density_profile(ds,n_bins=64)\n",
    "        plt.plot(rs, densities / field_units[field])\n",
    "\n",
    "        plt.ylim(ymin=1e-4)\n",
    "        \n",
    "        plt.axhline(rho_0, linestyle=\"dashed\", color=\"k\")\n",
    "        \n",
    "    else:    \n",
    "        with warnings.catch_warnings():\n",
    "            warnings.simplefilter(\"ignore\")\n",
    "            pp = yt.create_profile(sp, \n",
    "                                   \"radius\", [field, \"ones\"], \n",
    "                                   weight_field=field_weight[field],\n",
    "                                   units = {\"radius\":\"pc\"},\n",
    "                                   logs = {\"radius\":False},\n",
    "                                   n_bins=64,\n",
    "            )\n",
    "        mask = pp[\"ones\"] > 0.1 # filter out bins with no particles\n",
    "        plt.plot(pp.x.value[mask], \n",
    "                 pp[field][mask] / field_units[field])\n",
    "\n",
    "    plt.yscale(\"log\")\n",
    "    plt.ylabel(field_y_labels[field])\n",
    "\n",
    "    plt.xlabel(r\"$R$ $[\\mathrm{pc}]$\")\n",
    "    \n",
    "    if times_snapshots[i] < 0:\n",
    "        raise RuntimeError(\"Invalid time: {}\".format(time_snapshots[i]))\n",
    "    elif times_snapshots[i] < 1e-3:\n",
    "        time = times_snapshots[i]\n",
    "        time_units = \"Myr\"\n",
    "        title = r\"$t$ $= {:.1e}$ $\\mathrm{{{}}}$\".format(time, time_units)\n",
    "    elif times_snapshots[i] < 1:\n",
    "        time = times_snapshots[i] * 1e3\n",
    "        time_units = \"kyr\"\n",
    "        title = r\"$t$ $= {:.0f}$ $\\mathrm{{{}}}$\".format(time, time_units)\n",
    "    elif times_snapshots[i] < 10:\n",
    "        time = times_snapshots[i]\n",
    "        time_units = \"Myr\"\n",
    "        title = r\"$t$ $= {:.1f}$ $\\mathrm{{{}}}$\".format(time, time_units)\n",
    "    else:\n",
    "        time = times_snapshots[i]\n",
    "        time_units = \"Myr\"\n",
    "        title = r\"$t$ $= {:.0f}$ $\\mathrm{{{}}}$\".format(time, time_units)\n",
    "        \n",
    "    plt.title(title)\n",
    "    \n",
    "\n",
    "ipywidgets.interact(show_profile,\n",
    "                i=ipywidgets.IntSlider(min=0,\n",
    "                                       max=len(ts)-1,\n",
    "                                       value=len(ts)-1),\n",
    "                field = ipywidgets.Dropdown(options=list(field_y_labels),\n",
    "                                            value=\"density\"))"
   ]
  },
  {
   "cell_type": "code",
   "execution_count": null,
   "metadata": {
    "collapsed": true
   },
   "outputs": [],
   "source": []
  }
 ],
 "metadata": {
  "anaconda-cloud": {},
  "kernelspec": {
   "display_name": "Python [default]",
   "language": "python",
   "name": "python3"
  },
  "language_info": {
   "codemirror_mode": {
    "name": "ipython",
    "version": 3
   },
   "file_extension": ".py",
   "mimetype": "text/x-python",
   "name": "python",
   "nbconvert_exporter": "python",
   "pygments_lexer": "ipython3",
   "version": "3.5.2"
  }
 },
 "nbformat": 4,
 "nbformat_minor": 0
}
