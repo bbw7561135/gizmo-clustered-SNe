{
 "cells": [
  {
   "cell_type": "code",
   "execution_count": 1,
   "metadata": {},
   "outputs": [
    {
     "name": "stderr",
     "output_type": "stream",
     "text": [
      "/pfs/home/egentry/anaconda3/envs/sph/lib/python3.6/site-packages/h5py/__init__.py:36: FutureWarning: Conversion of the second argument of issubdtype from `float` to `np.floating` is deprecated. In future, it will be treated as `np.float64 == np.dtype(float).type`.\n",
      "  from ._conv import register_converters as _register_converters\n"
     ]
    },
    {
     "name": "stdout",
     "output_type": "stream",
     "text": [
      "`grackle_helpers.wrapped_initializer` is setting up grackle assuming code units:\n",
      "    mass   : 1.0 M_solar\n",
      "    length : 1.0 pc\n",
      "    time   : 1.0 Myr\n",
      "\n",
      "grackle cooling file:  b'/pfs/home/egentry/local/grackle/input/CloudyData_UVB=HM2012.h5'\n",
      "`grackle_helpers.wrapped_initializer` is setting up grackle assuming code units:\n",
      "    mass   : 8.41e-58 M_solar\n",
      "    length : 3.24e-19 pc\n",
      "    time   : 3.17e-14 Myr\n",
      "\n",
      "grackle cooling file:  b'/pfs/home/egentry/local/grackle/input/CloudyData_UVB=HM2012.h5'\n"
     ]
    }
   ],
   "source": [
    "from __future__ import print_function, division\n",
    "\n",
    "%matplotlib inline\n",
    "import matplotlib as mpl\n",
    "from matplotlib import pyplot as plt\n",
    "import seaborn as sns; sns.set(context=\"poster\", style=\"ticks\")\n",
    "import ipywidgets\n",
    "import yt\n",
    "from matplotlib.colors import LogNorm\n",
    "\n",
    "import glob\n",
    "import os\n",
    "import warnings\n",
    "import h5py\n",
    "\n",
    "import numpy as np\n",
    "import pandas as pd\n",
    "\n",
    "from units import M_solar, m_proton, pc, yr, Myr, km, s, gamma\n",
    "\n",
    "from injection_helpers import get_SNe\n",
    "\n",
    "from visualize_helpers import \\\n",
    "    get_snapshot_filenames, \\\n",
    "    snapshot_filename_to_number, \\\n",
    "    total_mass_of_snapshot, \\\n",
    "    total_radial_momentum_of_snapshot, \\\n",
    "    map_to_all_snapshots, \\\n",
    "    get_snapshot_times, \\\n",
    "    total_kinetic_energy_of_snapshot, \\\n",
    "    total_internal_energy_of_snapshot, \\\n",
    "    load_snapshots, \\\n",
    "    plot_projected_density, \\\n",
    "    plot_sliced_field, \\\n",
    "    plot_phase_diagram, \\\n",
    "    field_type, \\\n",
    "    plot_profile, \\\n",
    "    yt_plot_saver, \\\n",
    "    mpl_plot_saver, \\\n",
    "    load_ds_from_ts\n",
    "\n",
    "import MHD\n",
    "    \n",
    "from sql_helpers import add_simulation, \\\n",
    "    open_as_DataFrame\n",
    "\n",
    "%load_ext autoreload\n",
    "%autoreload 2"
   ]
  },
  {
   "cell_type": "code",
   "execution_count": 2,
   "metadata": {},
   "outputs": [],
   "source": [
    "mpl.rcParams['savefig.dpi'] = 80\n",
    "mpl.rcParams['figure.dpi'] = 80\n",
    "mpl.rcParams['figure.figsize'] = (10,6)\n",
    "mpl.rcParams['figure.facecolor'] = \"white\""
   ]
  },
  {
   "cell_type": "code",
   "execution_count": 87,
   "metadata": {},
   "outputs": [],
   "source": [
    "def weighted_percentile(x, weights, percentiles):\n",
    "    weights = weights.copy()\n",
    "    weights /= weights.sum()\n",
    "\n",
    "    sorted_indices = np.argsort(x)\n",
    "    x = x[sorted_indices]\n",
    "    weights = weights[sorted_indices]\n",
    "\n",
    "    weights = weights.cumsum() * 100\n",
    "\n",
    "    percentile_indices = [ np.argmin(np.abs(weights - percentile))\n",
    "        for percentile in percentiles\n",
    "    ]\n",
    "\n",
    "    percentile_indices = np.array(percentile_indices)\n",
    "\n",
    "    results = x[percentile_indices]\n",
    "    return results\n",
    "\n",
    "def get_interface_mask(temps, \n",
    "                       min_temp=3e4, max_temp=3e5,):\n",
    "    mask = temps < max_temp\n",
    "    mask &= temps > min_temp\n",
    "    return mask\n",
    "\n",
    "def calc_iqr(values, weights, \n",
    "            ):\n",
    "    \n",
    "    low, mid, high = weighted_percentile(values,\n",
    "                                         weights,\n",
    "                                         [25, 50, 75])\n",
    "    iqr = (high - low)\n",
    "\n",
    "    return mid, iqr"
   ]
  },
  {
   "cell_type": "code",
   "execution_count": 99,
   "metadata": {},
   "outputs": [
    {
     "name": "stderr",
     "output_type": "stream",
     "text": [
      "yt : [INFO     ] 2018-10-01 17:44:12,025 Omega Lambda is 0.0, so we are turning off Cosmology.\n",
      "yt : [INFO     ] 2018-10-01 17:44:12,070 Parameters: current_time              = 1.0148989313228363\n",
      "yt : [INFO     ] 2018-10-01 17:44:12,072 Parameters: domain_dimensions         = [1 1 1]\n",
      "yt : [INFO     ] 2018-10-01 17:44:12,074 Parameters: domain_left_edge          = [0. 0. 0.]\n",
      "yt : [INFO     ] 2018-10-01 17:44:12,076 Parameters: domain_right_edge         = [600. 600. 600.]\n",
      "yt : [INFO     ] 2018-10-01 17:44:12,077 Parameters: cosmological_simulation   = 0\n",
      "yt : [INFO     ] 2018-10-01 17:44:12,283 Allocating for 3.375e+06 particles\n",
      "Initializing coarse index : 100%|██████████| 13/13 [00:00<00:00, 24.26it/s]\n",
      "Initializing refined index: 100%|██████████| 13/13 [00:00<00:00, 32.29it/s]\n",
      "yt : [INFO     ] 2018-10-01 17:44:21,515 Omega Lambda is 0.0, so we are turning off Cosmology.\n",
      "yt : [INFO     ] 2018-10-01 17:44:21,539 Parameters: current_time              = 1.0148989313228363\n",
      "yt : [INFO     ] 2018-10-01 17:44:21,541 Parameters: domain_dimensions         = [1 1 1]\n",
      "yt : [INFO     ] 2018-10-01 17:44:21,544 Parameters: domain_left_edge          = [0. 0. 0.]\n",
      "yt : [INFO     ] 2018-10-01 17:44:21,547 Parameters: domain_right_edge         = [600. 600. 600.]\n",
      "yt : [INFO     ] 2018-10-01 17:44:21,549 Parameters: cosmological_simulation   = 0\n"
     ]
    },
    {
     "name": "stdout",
     "output_type": "stream",
     "text": [
      "cluster_cooling_100 r_med = 37.0, iqr = 8.5, m_int = 33.6, h_med = 15.4, N_p=16\n"
     ]
    },
    {
     "name": "stderr",
     "output_type": "stream",
     "text": [
      "yt : [INFO     ] 2018-10-01 17:44:22,378 Allocating for 2.700e+07 particles\n",
      "Initializing coarse index : 100%|██████████| 103/103 [00:07<00:00, 14.64it/s]\n",
      "Initializing refined index: 100%|██████████| 103/103 [00:05<00:00, 17.06it/s]\n"
     ]
    },
    {
     "name": "stdout",
     "output_type": "stream",
     "text": [
      "cluster_cooling_200 r_med = 39.1, iqr = 8.3, m_int = 41.8, h_med = 9.8, N_p=159\n"
     ]
    },
    {
     "name": "stderr",
     "output_type": "stream",
     "text": [
      "yt : [INFO     ] 2018-10-01 17:45:18,535 Omega Lambda is 0.0, so we are turning off Cosmology.\n",
      "yt : [INFO     ] 2018-10-01 17:45:18,572 Parameters: current_time              = 1.0148989313228363\n",
      "yt : [INFO     ] 2018-10-01 17:45:18,573 Parameters: domain_dimensions         = [1 1 1]\n",
      "yt : [INFO     ] 2018-10-01 17:45:18,575 Parameters: domain_left_edge          = [0. 0. 0.]\n",
      "yt : [INFO     ] 2018-10-01 17:45:18,576 Parameters: domain_right_edge         = [400. 400. 400.]\n",
      "yt : [INFO     ] 2018-10-01 17:45:18,578 Parameters: cosmological_simulation   = 0\n",
      "yt : [INFO     ] 2018-10-01 17:45:20,088 Allocating for 2.700e+07 particles\n",
      "Loading particle index: 100%|██████████| 103/103 [00:00<00:00, 115.76it/s]\n"
     ]
    },
    {
     "name": "stdout",
     "output_type": "stream",
     "text": [
      "cluster_cooling_300 r_med = 43.3, iqr = 6.4, m_int = 37.8, h_med = 6.6, N_p=485\n"
     ]
    },
    {
     "name": "stderr",
     "output_type": "stream",
     "text": [
      "yt : [INFO     ] 2018-10-01 17:46:23,130 Omega Lambda is 0.0, so we are turning off Cosmology.\n",
      "yt : [INFO     ] 2018-10-01 17:46:23,151 Parameters: current_time              = 1.0148989313228363\n",
      "yt : [INFO     ] 2018-10-01 17:46:23,151 Parameters: domain_dimensions         = [1 1 1]\n",
      "yt : [INFO     ] 2018-10-01 17:46:23,152 Parameters: domain_left_edge          = [0. 0. 0.]\n",
      "yt : [INFO     ] 2018-10-01 17:46:23,153 Parameters: domain_right_edge         = [600. 600. 600.]\n",
      "yt : [INFO     ] 2018-10-01 17:46:23,154 Parameters: cosmological_simulation   = 0\n",
      "yt : [INFO     ] 2018-10-01 17:46:30,120 Allocating for 2.160e+08 particles\n",
      "Loading particle index: 100%|██████████| 824/824 [00:06<00:00, 123.61it/s]\n",
      "yt : [INFO     ] 2018-10-01 17:54:08,569 Omega Lambda is 0.0, so we are turning off Cosmology.\n",
      "yt : [INFO     ] 2018-10-01 17:54:08,599 Parameters: current_time              = 1.0148989313228363\n",
      "yt : [INFO     ] 2018-10-01 17:54:08,600 Parameters: domain_dimensions         = [1 1 1]\n",
      "yt : [INFO     ] 2018-10-01 17:54:08,602 Parameters: domain_left_edge          = [0. 0. 0.]\n",
      "yt : [INFO     ] 2018-10-01 17:54:08,603 Parameters: domain_right_edge         = [300. 300. 300.]\n",
      "yt : [INFO     ] 2018-10-01 17:54:08,604 Parameters: cosmological_simulation   = 0\n"
     ]
    },
    {
     "name": "stdout",
     "output_type": "stream",
     "text": [
      "cluster_cooling_400 r_med = 45.4, iqr = 5.1, m_int = 42.8, h_med = 4.9, N_p=1303\n"
     ]
    },
    {
     "name": "stderr",
     "output_type": "stream",
     "text": [
      "yt : [INFO     ] 2018-10-01 17:54:11,607 Allocating for 9.113e+07 particles\n",
      "Initializing coarse index : 100%|██████████| 348/348 [00:41<00:00,  8.87it/s]\n",
      "Initializing refined index: 100%|██████████| 348/348 [00:25<00:00, 13.59it/s]\n"
     ]
    },
    {
     "name": "stdout",
     "output_type": "stream",
     "text": [
      "cluster_cooling_600 r_med = 47.4, iqr = 4.3, m_int = 43.2, h_med = 3.3, N_p=4436\n"
     ]
    }
   ],
   "source": [
    "run_names = [\n",
    "    \"cluster_cooling_100\",\n",
    "    \"cluster_cooling_200\",\n",
    "    \"cluster_cooling_300\",\n",
    "    \"cluster_cooling_400\",\n",
    "    \"cluster_cooling_600\",\n",
    "]\n",
    "\n",
    "results_by_run_name = {}\n",
    "for run_name in run_names:\n",
    "    \n",
    "    run_dir = os.path.join(os.path.pardir, \"runs\", run_name)\n",
    "\n",
    "    outputs_dir = os.path.join(run_dir, \"outputs\")\n",
    "    \n",
    "    ts = load_snapshots(outputs_dir)\n",
    "    snapshot_filenames = get_snapshot_filenames(outputs_dir)\n",
    "\n",
    "    snapshot_number_to_index_map = {snapshot_filename_to_number(filename) : i\n",
    "                                    for i,filename in enumerate(snapshot_filenames) }\n",
    "\n",
    "    ds = load_ds_from_ts(ts, snapshot_number_to_index_map[8])\n",
    "    \n",
    "    center = ds.domain_center.value[0]\n",
    "    region = ds.sphere([center,center,center], (140, \"pc\"))\n",
    "    \n",
    "    radii = region[\"all\", \"particle_position_spherical_radius\"].to(\"pc\").value\n",
    "    temps = region[\"all\", \"temperature\"].value\n",
    "    densities = region[\"all\", \"density\"].value / m_proton\n",
    "    masses = region[\"all\", \"mass\"].to(\"Msun\").value\n",
    "    smoothing_lengths = region[\"all\", \"smoothing_length\"].to(\"pc\").value\n",
    "    \n",
    "    interface_mask = get_interface_mask(temps)\n",
    "    \n",
    "    radii = radii[interface_mask]\n",
    "    temps = temps[interface_mask]\n",
    "    densities = densities[interface_mask]\n",
    "    masses = masses[interface_mask]\n",
    "    smoothing_lengths = smoothing_lengths[interface_mask]\n",
    "    \n",
    "    mid, iqr = calc_iqr(radii, masses)\n",
    "    \n",
    "    smoothing_lengths_med = weighted_percentile(smoothing_lengths,\n",
    "                                            masses,\n",
    "                                            [50])[0]\n",
    "    \n",
    "    results = dict(\n",
    "        mid=mid, iqr=iqr, m_int=masses.sum(),\n",
    "        h_med=smoothing_lengths_med,\n",
    "        N_particles = masses.size,\n",
    "    )\n",
    "\n",
    "    print(run_name, \"r_med = {mid:.1f}, iqr = {iqr:.1f}, m_int = {m_int:.1f}, h_med = {h_med:.1f}, N_p={N_particles}\".format(\n",
    "        **results\n",
    "    ))\n",
    "\n",
    "    results_by_run_name[run_name] = results\n"
   ]
  },
  {
   "cell_type": "code",
   "execution_count": 100,
   "metadata": {},
   "outputs": [
    {
     "data": {
      "text/plain": [
       "{'cluster_cooling_100': {'N_particles': 16,\n",
       "  'h_med': 15.360845565881245,\n",
       "  'iqr': 8.47609456540767,\n",
       "  'm_int': 33.64785394103906,\n",
       "  'mid': 37.042409950759655},\n",
       " 'cluster_cooling_200': {'N_particles': 159,\n",
       "  'h_med': 9.78702976067506,\n",
       "  'iqr': 8.252948486443387,\n",
       "  'm_int': 41.796943567384446,\n",
       "  'mid': 39.09239038545648},\n",
       " 'cluster_cooling_300': {'N_particles': 485,\n",
       "  'h_med': 6.551852469997345,\n",
       "  'iqr': 6.39524133283652,\n",
       "  'm_int': 37.78781537763416,\n",
       "  'mid': 43.26661075706239},\n",
       " 'cluster_cooling_400': {'N_particles': 1303,\n",
       "  'h_med': 4.938010337900968,\n",
       "  'iqr': 5.098563648461479,\n",
       "  'm_int': 42.815579770677616,\n",
       "  'mid': 45.41759932242604},\n",
       " 'cluster_cooling_600': {'N_particles': 4436,\n",
       "  'h_med': 3.282545805514495,\n",
       "  'iqr': 4.263249701020001,\n",
       "  'm_int': 43.18915683596294,\n",
       "  'mid': 47.381801934790495}}"
      ]
     },
     "execution_count": 100,
     "metadata": {},
     "output_type": "execute_result"
    }
   ],
   "source": [
    "results_by_run_name"
   ]
  },
  {
   "cell_type": "code",
   "execution_count": null,
   "metadata": {},
   "outputs": [],
   "source": []
  },
  {
   "cell_type": "code",
   "execution_count": 102,
   "metadata": {},
   "outputs": [],
   "source": [
    "run_name_to_title = {\n",
    "\"cluster_cooling_600\": r\"\\texttt{3D\\_07\\_HD}\",\n",
    "\"cluster_cooling_400\": r\"\\texttt{3D\\_10\\_HD}\",\n",
    "\"cluster_cooling_300\": r\"\\texttt{3D\\_13\\_HD}\",\n",
    "\"cluster_cooling_200\": r\"\\texttt{3D\\_20\\_HD}\",\n",
    "\"cluster_cooling_100\": r\"\\texttt{3D\\_40\\_HD}\",\n",
    "}"
   ]
  },
  {
   "cell_type": "code",
   "execution_count": 117,
   "metadata": {},
   "outputs": [
    {
     "name": "stdout",
     "output_type": "stream",
     "text": [
      "\\texttt{3D\\_40\\_HD} & 37.0 & 8.5 & 0.6 & 15.4 & 33.6 & 16 \\\\\n",
      "\\texttt{3D\\_20\\_HD} & 39.1 & 8.3 & 0.8 & 9.8 & 41.8 & 159 \\\\\n",
      "\\texttt{3D\\_13\\_HD} & 43.3 & 6.4 & 1.0 & 6.6 & 37.8 & 485 \\\\\n",
      "\\texttt{3D\\_10\\_HD} & 45.4 & 5.1 & 1.0 & 4.9 & 42.8 & 1303 \\\\\n",
      "\\texttt{3D\\_07\\_HD} & 47.4 & 4.3 & 1.3 & 3.3 & 43.2 & 4436 \\\\\n"
     ]
    }
   ],
   "source": [
    "for run_name in run_names:\n",
    "    results = results_by_run_name[run_name]\n",
    "    title = run_name_to_title[run_name]\n",
    "    \n",
    "    iqr_h = results[\"iqr\"] / results[\"h_med\"]\n",
    "    \n",
    "    print((\"{title} & {mid:.1f} & {iqr:.1f} & {iqr_h:.1f}\"\n",
    "          r\" & {h_med:.1f} & {m_int:.1f} & {N_particles}\"\n",
    "          r\" \\\\\").format(\n",
    "        title=title, iqr_h=iqr_h,\n",
    "        **results\n",
    "    ))"
   ]
  },
  {
   "cell_type": "code",
   "execution_count": null,
   "metadata": {},
   "outputs": [],
   "source": [
    "    results = dict(\n",
    "        mid=mid, iqr=iqr, m_int=masses.sum(),\n",
    "        h_med=smoothing_lengths_med,\n",
    "        N_particles = masses.size,\n",
    "    )"
   ]
  },
  {
   "cell_type": "code",
   "execution_count": 63,
   "metadata": {},
   "outputs": [
    {
     "data": {
      "text/plain": [
       "{'cluster_cooling_100': {'h_avg': 15.360845565881245,\n",
       "  'iqr': 8.47609456540767,\n",
       "  'm_int': 1.0,\n",
       "  'mid': 37.042409950759655}}"
      ]
     },
     "execution_count": 63,
     "metadata": {},
     "output_type": "execute_result"
    }
   ],
   "source": [
    "results_by_run_name"
   ]
  },
  {
   "cell_type": "code",
   "execution_count": 53,
   "metadata": {},
   "outputs": [
    {
     "data": {
      "text/plain": [
       "array([15.36084557])"
      ]
     },
     "execution_count": 53,
     "metadata": {},
     "output_type": "execute_result"
    }
   ],
   "source": [
    "\n",
    "weighted_percentile(smoothing_lengths,\n",
    "                                        masses,\n",
    "                                        [50])"
   ]
  },
  {
   "cell_type": "code",
   "execution_count": 54,
   "metadata": {},
   "outputs": [
    {
     "data": {
      "text/plain": [
       "15.235466010229786"
      ]
     },
     "execution_count": 54,
     "metadata": {},
     "output_type": "execute_result"
    }
   ],
   "source": [
    "smoothing_lengths.mean()"
   ]
  },
  {
   "cell_type": "code",
   "execution_count": 48,
   "metadata": {},
   "outputs": [
    {
     "data": {
      "text/plain": [
       "array([7.88040787, 7.88003977, 7.87988608, ..., 7.88028158, 7.87998295,\n",
       "       7.8803337 ])"
      ]
     },
     "execution_count": 48,
     "metadata": {},
     "output_type": "execute_result"
    }
   ],
   "source": [
    "region[\"all\", \"smoothing_length\"].to(\"pc\").value"
   ]
  },
  {
   "cell_type": "code",
   "execution_count": 45,
   "metadata": {},
   "outputs": [
    {
     "data": {
      "text/plain": [
       "YTArray([139.02407766, 135.82233705, 137.05473192, ..., 144.27749476,\n",
       "         147.18732999, 145.0506045 ]) pc"
      ]
     },
     "execution_count": 45,
     "metadata": {},
     "output_type": "execute_result"
    }
   ],
   "source": [
    "region[\"all\", \"particle_radius\"].to(\"pc\")"
   ]
  },
  {
   "cell_type": "code",
   "execution_count": 46,
   "metadata": {},
   "outputs": [
    {
     "data": {
      "text/plain": [
       "YTArray([139.02407766, 135.82233705, 137.05473192, ..., 144.27749476,\n",
       "         147.18732999, 145.0506045 ]) pc"
      ]
     },
     "execution_count": 46,
     "metadata": {},
     "output_type": "execute_result"
    }
   ],
   "source": [
    "region[\"all\", \"radius\"].to(\"pc\")"
   ]
  },
  {
   "cell_type": "code",
   "execution_count": 41,
   "metadata": {},
   "outputs": [
    {
     "data": {
      "text/plain": [
       "16"
      ]
     },
     "execution_count": 41,
     "metadata": {},
     "output_type": "execute_result"
    }
   ],
   "source": [
    "masses.size"
   ]
  },
  {
   "cell_type": "code",
   "execution_count": 42,
   "metadata": {},
   "outputs": [
    {
     "data": {
      "text/plain": [
       "16"
      ]
     },
     "execution_count": 42,
     "metadata": {},
     "output_type": "execute_result"
    }
   ],
   "source": [
    "interface_mask.sum()"
   ]
  },
  {
   "cell_type": "code",
   "execution_count": 30,
   "metadata": {},
   "outputs": [
    {
     "data": {
      "text/plain": [
       "1.0"
      ]
     },
     "execution_count": 30,
     "metadata": {},
     "output_type": "execute_result"
    }
   ],
   "source": [
    "interface_mass"
   ]
  },
  {
   "cell_type": "code",
   "execution_count": 27,
   "metadata": {},
   "outputs": [
    {
     "data": {
      "text/plain": [
       "37.042409950759655"
      ]
     },
     "execution_count": 27,
     "metadata": {},
     "output_type": "execute_result"
    }
   ],
   "source": [
    "mid"
   ]
  },
  {
   "cell_type": "code",
   "execution_count": 28,
   "metadata": {},
   "outputs": [
    {
     "data": {
      "text/plain": [
       "8.47609456540767"
      ]
     },
     "execution_count": 28,
     "metadata": {},
     "output_type": "execute_result"
    }
   ],
   "source": [
    "iqr"
   ]
  },
  {
   "cell_type": "code",
   "execution_count": null,
   "metadata": {},
   "outputs": [],
   "source": []
  }
 ],
 "metadata": {
  "anaconda-cloud": {},
  "kernelspec": {
   "display_name": "Python 3",
   "language": "python",
   "name": "python3"
  },
  "language_info": {
   "codemirror_mode": {
    "name": "ipython",
    "version": 3
   },
   "file_extension": ".py",
   "mimetype": "text/x-python",
   "name": "python",
   "nbconvert_exporter": "python",
   "pygments_lexer": "ipython3",
   "version": "3.6.3"
  },
  "widgets": {
   "state": {
    "1de0781ffafd4b589c7fe434c99c9a2b": {
     "views": [
      {
       "cell_index": 45
      }
     ]
    },
    "23b51539d2404f129bf44a488114fa6d": {
     "views": [
      {
       "cell_index": 47
      }
     ]
    },
    "4b5bdd1ed34947beb6f450366c21c676": {
     "views": [
      {
       "cell_index": 47
      }
     ]
    }
   },
   "version": "1.2.0"
  }
 },
 "nbformat": 4,
 "nbformat_minor": 1
}
