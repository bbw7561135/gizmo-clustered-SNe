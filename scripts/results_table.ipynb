{
 "cells": [
  {
   "cell_type": "code",
   "execution_count": 2,
   "metadata": {},
   "outputs": [
    {
     "name": "stdout",
     "output_type": "stream",
     "text": [
      "`grackle_helpers.wrapped_initializer` is setting up grackle assuming code units:\n",
      "    mass   : 1.0 M_solar\n",
      "    length : 1.0 pc\n",
      "    time   : 1.0 Myr\n",
      "\n",
      "grackle cooling file:  b'/pfs/home/egentry/local/grackle/input/CloudyData_UVB=HM2012.h5'\n"
     ]
    }
   ],
   "source": [
    "from __future__ import print_function, division\n",
    "\n",
    "import numpy as np\n",
    "import pandas as pd\n",
    "\n",
    "%matplotlib inline\n",
    "import matplotlib as mpl\n",
    "mpl.rcParams['savefig.dpi'] = 80\n",
    "mpl.rcParams['figure.dpi'] = 80\n",
    "mpl.rcParams['figure.figsize'] = np.array((5,4))*1.5\n",
    "from matplotlib import pyplot as plt\n",
    "import seaborn as sns; sns.set(context=\"poster\", style=\"ticks\")\n",
    "import os\n",
    "import glob\n",
    "\n",
    "\n",
    "\n",
    "from units import M_solar, m_proton, pc, yr, Myr, km, s, gamma\n",
    "\n",
    "from injection_helpers import get_SNe\n",
    "\n",
    "from visualize_helpers import \\\n",
    "    total_radial_momentum_of_snapshot, \\\n",
    "    map_to_all_snapshots, \\\n",
    "    get_snapshot_times, \\\n",
    "    load_snapshots, \\\n",
    "    load_ds_from_ts, \\\n",
    "    get_snapshot_filenames, \\\n",
    "    snapshot_filename_to_number\n",
    "    \n",
    "from sql_helpers import add_simulation, \\\n",
    "    open_as_DataFrame, get_db_dirname_tmp\n"
   ]
  },
  {
   "cell_type": "code",
   "execution_count": 3,
   "metadata": {},
   "outputs": [],
   "source": [
    "def ratchet_filter(data):\n",
    "    derivatives = np.append(0, np.diff(data))\n",
    "    mask = derivatives < 0\n",
    "    derivatives[mask] = 0\n",
    "    \n",
    "    return derivatives.cumsum()"
   ]
  },
  {
   "cell_type": "code",
   "execution_count": 4,
   "metadata": {},
   "outputs": [
    {
     "name": "stdout",
     "output_type": "stream",
     "text": [
      "making temporary database directory:  /dev/shm/egentry\n"
     ]
    }
   ],
   "source": [
    "db_dir_tmp = get_db_dirname_tmp()\n",
    "if not os.path.exists(db_dir_tmp):\n",
    "    print(\"making temporary database directory: \", db_dir_tmp)\n",
    "    os.mkdir(db_dir_tmp)"
   ]
  },
  {
   "cell_type": "code",
   "execution_count": 5,
   "metadata": {},
   "outputs": [],
   "source": [
    "def copy_and_get_DataFrames(run_name, verbose=True):\n",
    "    add_simulation(run_name, verbose=verbose)\n",
    "    \n",
    "    df = open_as_DataFrame(run_name, copy_first=True)\n",
    "    \n",
    "    return df"
   ]
  },
  {
   "cell_type": "code",
   "execution_count": 6,
   "metadata": {},
   "outputs": [],
   "source": [
    "## Boilerplate path hack to give access to full clustered_SNe package\n",
    "import sys, os\n",
    "if __package__ is None:\n",
    "    if os.pardir not in sys.path[0]:\n",
    "        file_dir = os.getcwd()\n",
    "        sys.path.insert(0, os.path.join(file_dir, \n",
    "                                        os.pardir, \n",
    "                                        os.pardir))\n",
    "        \n",
    "from clustered_SNe.analysis.parse import Overview, RunSummary"
   ]
  },
  {
   "cell_type": "code",
   "execution_count": 7,
   "metadata": {},
   "outputs": [],
   "source": [
    "data_dir_1D = \"1D_data/\"\n",
    "\n",
    "run_summary = RunSummary(data_dir_1D, \"F5509BF1-3F9E-4008-B795-0482ECED199B\")"
   ]
  },
  {
   "cell_type": "code",
   "execution_count": null,
   "metadata": {},
   "outputs": [],
   "source": []
  },
  {
   "cell_type": "code",
   "execution_count": 8,
   "metadata": {},
   "outputs": [],
   "source": [
    "run_names = [\n",
    "    \"cluster_cooling_400\",\n",
    "    \"cluster_cooling_200\",\n",
    "    \"cluster_cooling_100\",\n",
    "    \"cluster_cooling_mhd_large_200\",\n",
    "]"
   ]
  },
  {
   "cell_type": "code",
   "execution_count": 9,
   "metadata": {},
   "outputs": [],
   "source": [
    "run_name_to_run_id = {\n",
    "    \"1D\" : \"1D_06_HD\",\n",
    "    \"cluster_cooling_400\" : \"3D_10_HD\",\n",
    "    \"cluster_cooling_200\" : \"3D_20_HD\",\n",
    "    \"cluster_cooling_100\" : \"3D_40_HD\",\n",
    "    \"cluster_cooling_mhd_large_200\" : \"3D_20_MHD\",\n",
    "}\n",
    "\n",
    "def texify_run_id(run_id):\n",
    "    return \"\\\\texttt{{{}\\_{}\\_{}}}\".format(*run_id.split(\"_\"))"
   ]
  },
  {
   "cell_type": "code",
   "execution_count": 10,
   "metadata": {},
   "outputs": [
    {
     "data": {
      "text/plain": [
       "['1D_06_HD', '3D_10_HD', '3D_20_HD', '3D_40_HD', '3D_20_MHD']"
      ]
     },
     "execution_count": 10,
     "metadata": {},
     "output_type": "execute_result"
    }
   ],
   "source": [
    "sorted_run_ids = [\n",
    "    run_name_to_run_id[run_name]\n",
    "    for run_name in ([\"1D\"] + run_names)\n",
    "]\n",
    "sorted_run_ids"
   ]
  },
  {
   "cell_type": "code",
   "execution_count": 11,
   "metadata": {},
   "outputs": [],
   "source": [
    "SNe_dir = \"../runs/{}/inputs/\".format(run_names[0])\n",
    "SNe = get_SNe(SNe_dir)\n",
    "SN_times = np.array([SN.time for SN in SNe])"
   ]
  },
  {
   "cell_type": "code",
   "execution_count": 12,
   "metadata": {},
   "outputs": [],
   "source": [
    "dfs = [\n",
    "    copy_and_get_DataFrames(run_name, verbose=False)\n",
    "    for run_name in run_names\n",
    "]"
   ]
  },
  {
   "cell_type": "code",
   "execution_count": 17,
   "metadata": {},
   "outputs": [
    {
     "name": "stdout",
     "output_type": "stream",
     "text": [
      "../runs/cluster_cooling_400/outputs/\n"
     ]
    },
    {
     "name": "stderr",
     "output_type": "stream",
     "text": [
      "yt : [INFO     ] 2017-11-19 15:26:08,218 Omega Lambda is 0.0, so we are turning off Cosmology.\n",
      "yt : [INFO     ] 2017-11-19 15:26:08,249 Parameters: current_time              = 30.6618895507\n",
      "yt : [INFO     ] 2017-11-19 15:26:08,251 Parameters: domain_dimensions         = [2 2 2]\n",
      "yt : [INFO     ] 2017-11-19 15:26:08,253 Parameters: domain_left_edge          = [ 0.  0.  0.]\n",
      "yt : [INFO     ] 2017-11-19 15:26:08,255 Parameters: domain_right_edge         = [ 600.  600.  600.]\n",
      "yt : [INFO     ] 2017-11-19 15:26:08,257 Parameters: cosmological_simulation   = 0\n",
      "yt : [INFO     ] 2017-11-19 15:26:08,265 Allocating for 2.160e+08 particles (index particle type 'all')\n",
      "yt : [INFO     ] 2017-11-19 15:26:44,053 Identified 1.726e+07 octs\n"
     ]
    },
    {
     "name": "stdout",
     "output_type": "stream",
     "text": [
      "30.7 218.1 1.67e+06 2425.1 2474.3 8.73e+49 8.38e+48\n",
      "../runs/cluster_cooling_200/outputs/\n"
     ]
    },
    {
     "name": "stderr",
     "output_type": "stream",
     "text": [
      "yt : [INFO     ] 2017-11-19 15:29:21,868 Omega Lambda is 0.0, so we are turning off Cosmology.\n",
      "yt : [INFO     ] 2017-11-19 15:29:21,886 Parameters: current_time              = 30.6618895216\n",
      "yt : [INFO     ] 2017-11-19 15:29:21,887 Parameters: domain_dimensions         = [2 2 2]\n",
      "yt : [INFO     ] 2017-11-19 15:29:21,889 Parameters: domain_left_edge          = [ 0.  0.  0.]\n",
      "yt : [INFO     ] 2017-11-19 15:29:21,890 Parameters: domain_right_edge         = [ 600.  600.  600.]\n",
      "yt : [INFO     ] 2017-11-19 15:29:21,891 Parameters: cosmological_simulation   = 0\n",
      "yt : [INFO     ] 2017-11-19 15:29:21,896 Allocating for 2.700e+07 particles (index particle type 'all')\n",
      "yt : [INFO     ] 2017-11-19 15:29:32,712 Identified 2.167e+06 octs\n"
     ]
    },
    {
     "name": "stdout",
     "output_type": "stream",
     "text": [
      "30.7 200.2 1.48e+06 2127.5 2182.0 7.37e+49 8.47e+48\n",
      "../runs/cluster_cooling_100/outputs/\n"
     ]
    },
    {
     "name": "stderr",
     "output_type": "stream",
     "text": [
      "yt : [INFO     ] 2017-11-19 15:30:07,498 Omega Lambda is 0.0, so we are turning off Cosmology.\n",
      "yt : [INFO     ] 2017-11-19 15:30:07,519 Parameters: current_time              = 31.6993462555\n",
      "yt : [INFO     ] 2017-11-19 15:30:07,521 Parameters: domain_dimensions         = [2 2 2]\n",
      "yt : [INFO     ] 2017-11-19 15:30:07,523 Parameters: domain_left_edge          = [ 0.  0.  0.]\n",
      "yt : [INFO     ] 2017-11-19 15:30:07,524 Parameters: domain_right_edge         = [ 600.  600.  600.]\n",
      "yt : [INFO     ] 2017-11-19 15:30:07,526 Parameters: cosmological_simulation   = 0\n",
      "yt : [INFO     ] 2017-11-19 15:30:07,536 Allocating for 3.375e+06 particles (index particle type 'all')\n",
      "yt : [INFO     ] 2017-11-19 15:30:08,826 Identified 2.697e+05 octs\n"
     ]
    },
    {
     "name": "stdout",
     "output_type": "stream",
     "text": [
      "31.7 209.2 1.79e+06 2006.7 2039.0 6.81e+49 6.98e+49\n",
      "../runs/cluster_cooling_mhd_large_200/outputs/\n"
     ]
    },
    {
     "name": "stderr",
     "output_type": "stream",
     "text": [
      "yt : [INFO     ] 2017-11-19 15:30:14,428 Omega Lambda is 0.0, so we are turning off Cosmology.\n",
      "yt : [INFO     ] 2017-11-19 15:30:14,468 Parameters: current_time              = 29.6244328246\n",
      "yt : [INFO     ] 2017-11-19 15:30:14,470 Parameters: domain_dimensions         = [2 2 2]\n",
      "yt : [INFO     ] 2017-11-19 15:30:14,473 Parameters: domain_left_edge          = [ 0.  0.  0.]\n",
      "yt : [INFO     ] 2017-11-19 15:30:14,476 Parameters: domain_right_edge         = [ 1200.  1200.  1200.]\n",
      "yt : [INFO     ] 2017-11-19 15:30:14,479 Parameters: cosmological_simulation   = 0\n",
      "yt : [INFO     ] 2017-11-19 15:30:14,488 Allocating for 2.160e+08 particles (index particle type 'all')\n",
      "yt : [INFO     ] 2017-11-19 15:31:36,268 Identified 1.886e+07 octs\n"
     ]
    },
    {
     "name": "stdout",
     "output_type": "stream",
     "text": [
      "29.6 423.0 1.05e+07 1213.2 2418.1 1.26e+50 1.31e+50\n"
     ]
    },
    {
     "data": {
      "text/html": [
       "<div>\n",
       "<style>\n",
       "    .dataframe thead tr:only-child th {\n",
       "        text-align: right;\n",
       "    }\n",
       "\n",
       "    .dataframe thead th {\n",
       "        text-align: left;\n",
       "    }\n",
       "\n",
       "    .dataframe tbody tr th {\n",
       "        vertical-align: top;\n",
       "    }\n",
       "</style>\n",
       "<table border=\"1\" class=\"dataframe\">\n",
       "  <thead>\n",
       "    <tr style=\"text-align: right;\">\n",
       "      <th></th>\n",
       "      <th>run_id</th>\n",
       "      <th>max_snapshot</th>\n",
       "      <th>time</th>\n",
       "      <th>R_eff</th>\n",
       "      <th>M_affected</th>\n",
       "      <th>momentum_per_SN</th>\n",
       "      <th>momentum_per_SN_ratchet</th>\n",
       "      <th>dE_kin</th>\n",
       "      <th>dE_int</th>\n",
       "    </tr>\n",
       "  </thead>\n",
       "  <tbody>\n",
       "    <tr>\n",
       "      <th>0</th>\n",
       "      <td>1D_06_HD</td>\n",
       "      <td>99</td>\n",
       "      <td>94.775395</td>\n",
       "      <td>552.455190</td>\n",
       "      <td>2.321468e+07</td>\n",
       "      <td>33978.066772</td>\n",
       "      <td>33978.066772</td>\n",
       "      <td>6.496970e+50</td>\n",
       "      <td>2.625387e+50</td>\n",
       "    </tr>\n",
       "    <tr>\n",
       "      <th>1</th>\n",
       "      <td>3D_10_HD</td>\n",
       "      <td>95</td>\n",
       "      <td>30.661890</td>\n",
       "      <td>218.077572</td>\n",
       "      <td>1.672155e+06</td>\n",
       "      <td>2425.087581</td>\n",
       "      <td>2474.279148</td>\n",
       "      <td>8.732023e+49</td>\n",
       "      <td>8.383656e+48</td>\n",
       "    </tr>\n",
       "    <tr>\n",
       "      <th>2</th>\n",
       "      <td>3D_20_HD</td>\n",
       "      <td>95</td>\n",
       "      <td>30.661890</td>\n",
       "      <td>200.244034</td>\n",
       "      <td>1.483986e+06</td>\n",
       "      <td>2127.527079</td>\n",
       "      <td>2182.029716</td>\n",
       "      <td>7.370499e+49</td>\n",
       "      <td>8.470866e+48</td>\n",
       "    </tr>\n",
       "    <tr>\n",
       "      <th>3</th>\n",
       "      <td>3D_40_HD</td>\n",
       "      <td>97</td>\n",
       "      <td>31.699346</td>\n",
       "      <td>209.174645</td>\n",
       "      <td>1.788160e+06</td>\n",
       "      <td>2006.743048</td>\n",
       "      <td>2039.021903</td>\n",
       "      <td>6.812285e+49</td>\n",
       "      <td>6.983841e+49</td>\n",
       "    </tr>\n",
       "    <tr>\n",
       "      <th>4</th>\n",
       "      <td>3D_20_MHD</td>\n",
       "      <td>94</td>\n",
       "      <td>29.624433</td>\n",
       "      <td>422.989193</td>\n",
       "      <td>1.045209e+07</td>\n",
       "      <td>1213.207419</td>\n",
       "      <td>2418.063520</td>\n",
       "      <td>1.264744e+50</td>\n",
       "      <td>1.311465e+50</td>\n",
       "    </tr>\n",
       "  </tbody>\n",
       "</table>\n",
       "</div>"
      ],
      "text/plain": [
       "      run_id  max_snapshot       time       R_eff    M_affected  \\\n",
       "0   1D_06_HD            99  94.775395  552.455190  2.321468e+07   \n",
       "1   3D_10_HD            95  30.661890  218.077572  1.672155e+06   \n",
       "2   3D_20_HD            95  30.661890  200.244034  1.483986e+06   \n",
       "3   3D_40_HD            97  31.699346  209.174645  1.788160e+06   \n",
       "4  3D_20_MHD            94  29.624433  422.989193  1.045209e+07   \n",
       "\n",
       "   momentum_per_SN  momentum_per_SN_ratchet        dE_kin        dE_int  \n",
       "0     33978.066772             33978.066772  6.496970e+50  2.625387e+50  \n",
       "1      2425.087581              2474.279148  8.732023e+49  8.383656e+48  \n",
       "2      2127.527079              2182.029716  7.370499e+49  8.470866e+48  \n",
       "3      2006.743048              2039.021903  6.812285e+49  6.983841e+49  \n",
       "4      1213.207419              2418.063520  1.264744e+50  1.311465e+50  "
      ]
     },
     "execution_count": 17,
     "metadata": {},
     "output_type": "execute_result"
    }
   ],
   "source": [
    "results_filename = \"results_table.csv\"\n",
    "\n",
    "# if os.path.exists(results_filename):\n",
    "if False:\n",
    "    df_results = pd.read_csv(results_filename)\n",
    "else:\n",
    "    results = {}\n",
    "    \n",
    "    # first do the 1D simulation, which has to be processed separately\n",
    "    # but use the same \"R_eff\" definition as the 3D runs, rather than the\n",
    "    # \"R_shock\" definition I used in our previous paper.\n",
    "    # This'll let us be internally consistent in this paper, and shouldn't\n",
    "    # affect the results much anyway\n",
    "    \n",
    "    results_tmp = {}\n",
    "    i_max = np.argmax(run_summary.momentum)\n",
    "    results_tmp[\"max_snapshot\"] = i_max\n",
    "    results_tmp[\"time\"] = run_summary.times[i_max] / Myr\n",
    "\n",
    "    df_tmp = run_summary.df.loc[99]\n",
    "    df_tmp = df_tmp[np.abs(df_tmp.Velocity) > 100]\n",
    "\n",
    "    results_tmp[\"M_affected\"] = df_tmp.Mass.sum()\n",
    "    results_tmp[\"R_eff\"] = (df_tmp.dV.sum() / (4*np.pi/3))**(1/3) / pc\n",
    "    results_tmp[\"momentum_per_SN\"] = run_summary.momentum[i_max] / (100 * M_solar * km/s * 11)\n",
    "    results_tmp[\"momentum_per_SN_ratchet\"] = ratchet_filter(run_summary.momentum).max() / (100 * M_solar * km/s * 11)\n",
    "    results_tmp[\"dE_kin\"] = run_summary.E_kin[i_max] - run_summary.E_kin[0]\n",
    "    results_tmp[\"dE_int\"] = run_summary.E_int[i_max] - run_summary.E_int[0] + 1e51\n",
    "    \n",
    "    results[run_name_to_run_id[\"1D\"]] = results_tmp\n",
    "    \n",
    "    # now go on to the 3D simulations\n",
    "\n",
    "    for run_name, df in zip(run_names, dfs):\n",
    "        run_id = run_name_to_run_id[run_name]\n",
    "        mask = df.time >  SN_times.max()\n",
    "\n",
    "        i_max = np.argmax(df[mask].momentum)\n",
    "\n",
    "        row_0 = df.loc[0]\n",
    "        row = df.loc[i_max]\n",
    "\n",
    "        dE_int = row.e_int - row_0.e_int\n",
    "        dE_kin = row.e_kin - row_0.e_kin\n",
    "\n",
    "        outputs_dir = \"../runs/{}/outputs/\".format(run_name)\n",
    "        print(outputs_dir)\n",
    "\n",
    "        snapshot_filenames = get_snapshot_filenames(outputs_dir)\n",
    "\n",
    "        snapshot_number_to_index_map = {snapshot_filename_to_number(filename) : i\n",
    "                                        for i,filename in enumerate(snapshot_filenames) }\n",
    "\n",
    "        ts = load_snapshots(outputs_dir)\n",
    "        ds = load_ds_from_ts(ts, snapshot_number_to_index_map[i_max])\n",
    "        dd = ds.all_data()\n",
    "        V_affected = (dd[\"affected\", \"Masses\"] / dd[\"affected\", \"Density\"]).sum()\n",
    "        M_affected = float((dd[\"affected\", \"Masses\"]).sum().to(\"Msun\").value)\n",
    "\n",
    "\n",
    "        R_eff = (V_affected / (4*np.pi/3))**(1/3)\n",
    "        R_eff = float(R_eff.to(\"pc\").value)\n",
    "\n",
    "        del dd\n",
    "\n",
    "        results[run_id] = {\n",
    "            \"max_snapshot\" : i_max,\n",
    "            \"time\" : row.time,\n",
    "            \"R_eff\" : R_eff,\n",
    "            \"M_affected\" : M_affected,\n",
    "            \"momentum_per_SN\" : row.momentum / (100 * M_solar * km/s * SN_times.size),\n",
    "            \"momentum_per_SN_ratchet\" : ratchet_filter(df.momentum).max() / (100 * M_solar * km/s * SN_times.size),\n",
    "            \"dE_kin\" : dE_kin, \n",
    "            \"dE_int\" : dE_int, \n",
    "        }\n",
    "\n",
    "        print(\"{:.1f} {:.1f} {:.2e} {:.1f} {:.1f} {:.2e} {:.2e}\".format(\n",
    "            results[run_id][\"time\"],\n",
    "            results[run_id][\"R_eff\"],\n",
    "            results[run_id][\"M_affected\"],\n",
    "            results[run_id][\"momentum_per_SN\"],\n",
    "            results[run_id][\"momentum_per_SN_ratchet\"],\n",
    "            results[run_id][\"dE_kin\"],\n",
    "            results[run_id][\"dE_int\"],\n",
    "        ))\n",
    "        \n",
    "\n",
    "    df_results = pd.DataFrame(data={\n",
    "        \"run_id\" : sorted_run_ids,\n",
    "        \"max_snapshot\" : [results[run_id][\"max_snapshot\"] for run_id in sorted_run_ids],\n",
    "        \"time\" : [results[run_id][\"time\"] for run_id in sorted_run_ids],\n",
    "        \"R_eff\" : [results[run_id][\"R_eff\"] for run_id in sorted_run_ids],\n",
    "        \"M_affected\" : [results[run_id][\"M_affected\"] for run_id in sorted_run_ids],\n",
    "        \"momentum_per_SN\" : [results[run_id][\"momentum_per_SN\"] for run_id in sorted_run_ids],\n",
    "        \"momentum_per_SN_ratchet\" : [results[run_id][\"momentum_per_SN_ratchet\"] for run_id in sorted_run_ids],\n",
    "        \"dE_kin\" : [results[run_id][\"dE_kin\"] for run_id in sorted_run_ids],\n",
    "        \"dE_int\" : [results[run_id][\"dE_int\"] for run_id in sorted_run_ids],\n",
    "    })\n",
    "\n",
    "    df_results = df_results[[\"run_id\", \"max_snapshot\", \"time\", \"R_eff\", \"M_affected\", \"momentum_per_SN\", \"momentum_per_SN_ratchet\", \"dE_kin\", \"dE_int\"]]\n",
    "    df_results.to_csv(results_filename, index=False)\n",
    "    \n",
    "df_results.head()"
   ]
  },
  {
   "cell_type": "code",
   "execution_count": 18,
   "metadata": {},
   "outputs": [
    {
     "name": "stdout",
     "output_type": "stream",
     "text": [
      "run_id,max_snapshot,time,R_eff,M_affected,momentum_per_SN,momentum_per_SN_ratchet,dE_kin,dE_int\r\n",
      "1D_06_HD,99,94.77539483357417,552.4551897601157,23214681.41063985,33978.06677183907,33978.06677183907,6.496970059706205e+50,2.6253872396302327e+50\r\n",
      "3D_10_HD,95,30.661889550677877,218.0775724536534,1672155.2484314037,2425.087580872953,2474.2791475932663,8.732023081003739e+49,8.383655848412868e+48\r\n",
      "3D_20_HD,95,30.66188952164082,200.24403436363107,1483985.5399279275,2127.5270786442948,2182.0297155442613,7.370498517587295e+49,8.470865615846771e+48\r\n",
      "3D_40_HD,97,31.699346255460032,209.17464535867362,1788160.299437912,2006.7430481573908,2039.0219028012893,6.812284513733251e+49,6.983841108067664e+49\r\n",
      "3D_20_MHD,94,29.624432824639175,422.98919294606577,10452086.801225144,1213.2074187756673,2418.0635203055467,1.2647439226449764e+50,1.3114647177832476e+50\r\n"
     ]
    }
   ],
   "source": [
    "!cat $results_filename"
   ]
  },
  {
   "cell_type": "markdown",
   "metadata": {},
   "source": [
    "# Print to LaTeX"
   ]
  },
  {
   "cell_type": "code",
   "execution_count": 19,
   "metadata": {},
   "outputs": [
    {
     "name": "stdout",
     "output_type": "stream",
     "text": [
      "\\texttt{1D\\_06\\_HD} & 11 & 94.8 & 552 & 23.2 & 33978 & 33978 & 65.0 & 26.3 \\\\\n",
      "\\texttt{3D\\_10\\_HD} & 11 & 30.7 & 218 & 1.7 & 2425 & 2474 & 8.7 & 0.8 \\\\\n",
      "\\texttt{3D\\_20\\_HD} & 11 & 30.7 & 200 & 1.5 & 2128 & 2182 & 7.4 & 0.8 \\\\\n",
      "\\texttt{3D\\_40\\_HD} & 11 & 31.7 & 209 & 1.8 & 2007 & 2039 & 6.8 & 7.0 \\\\\n",
      "\\texttt{3D\\_20\\_MHD} & 11 & 29.6 & 423 & 10.5 & 1213 & 2418 & 12.6 & 13.1 \\\\\n"
     ]
    }
   ],
   "source": [
    "for _, row in df_results.iterrows():\n",
    "    line = \"{:s} & {:d} & {:.1f} & {:.0f} & {:.1f} & {:.0f} & {:.0f} & {:.1f} & {:.1f} \\\\\\\\\"\n",
    "    line = line.format(\n",
    "        texify_run_id(row.run_id),\n",
    "        11,\n",
    "        row.time,\n",
    "        row.R_eff,\n",
    "        row.M_affected / 1e6,\n",
    "        row.momentum_per_SN,\n",
    "        row.momentum_per_SN_ratchet,\n",
    "        row.dE_kin / 1e49, \n",
    "        row.dE_int / 1e49,\n",
    "    )\n",
    "    \n",
    "    print(line)\n"
   ]
  },
  {
   "cell_type": "code",
   "execution_count": null,
   "metadata": {},
   "outputs": [],
   "source": []
  }
 ],
 "metadata": {
  "anaconda-cloud": {},
  "kernelspec": {
   "display_name": "Python 3",
   "language": "python",
   "name": "python3"
  },
  "language_info": {
   "codemirror_mode": {
    "name": "ipython",
    "version": 3
   },
   "file_extension": ".py",
   "mimetype": "text/x-python",
   "name": "python",
   "nbconvert_exporter": "python",
   "pygments_lexer": "ipython3",
   "version": "3.6.2"
  }
 },
 "nbformat": 4,
 "nbformat_minor": 1
}
