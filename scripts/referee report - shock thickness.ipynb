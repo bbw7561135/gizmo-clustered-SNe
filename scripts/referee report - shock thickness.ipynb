{
 "cells": [
  {
   "cell_type": "code",
   "execution_count": 24,
   "metadata": {},
   "outputs": [
    {
     "name": "stdout",
     "output_type": "stream",
     "text": [
      "The autoreload extension is already loaded. To reload it, use:\n",
      "  %reload_ext autoreload\n"
     ]
    }
   ],
   "source": [
    "from __future__ import print_function, division\n",
    "\n",
    "%matplotlib inline\n",
    "import matplotlib as mpl\n",
    "mpl.rcParams['savefig.dpi'] = 80\n",
    "mpl.rcParams['figure.dpi'] = 80\n",
    "mpl.rcParams['figure.figsize'] = (10,6)\n",
    "from matplotlib import pyplot as plt\n",
    "import seaborn as sns; sns.set(context=\"poster\", style=\"ticks\")\n",
    "import ipywidgets\n",
    "import yt\n",
    "\n",
    "import glob\n",
    "import os\n",
    "import sys\n",
    "import warnings\n",
    "import h5py\n",
    "\n",
    "import numpy as np\n",
    "import pandas as pd\n",
    "\n",
    "import datetime\n",
    "\n",
    "from units import M_solar, m_proton, pc, yr, Myr, km, s, gamma\n",
    "\n",
    "from injection_helpers import get_SNe\n",
    "\n",
    "from visualize_helpers import \\\n",
    "    get_snapshot_filenames, \\\n",
    "    snapshot_filename_to_number, \\\n",
    "    total_mass_of_snapshot, \\\n",
    "    total_radial_momentum_of_snapshot, \\\n",
    "    map_to_all_snapshots, \\\n",
    "    get_snapshot_times, \\\n",
    "    total_kinetic_energy_of_snapshot, \\\n",
    "    total_internal_energy_of_snapshot, \\\n",
    "    load_snapshots, \\\n",
    "    plot_projected_density, \\\n",
    "    plot_sliced_field, \\\n",
    "    plot_phase_diagram, \\\n",
    "    field_type, \\\n",
    "    plot_profile, \\\n",
    "    yt_plot_saver, \\\n",
    "    mpl_plot_saver, \\\n",
    "    load_ds_from_ts\n",
    "\n",
    "import MHD\n",
    "    \n",
    "from sql_helpers import add_simulation, \\\n",
    "    open_as_DataFrame\n",
    "\n",
    "%load_ext autoreload\n",
    "%autoreload 2"
   ]
  },
  {
   "cell_type": "code",
   "execution_count": 2,
   "metadata": {},
   "outputs": [],
   "source": [
    "run_name = \"cluster_cooling_100\"\n",
    "# run_name = \"cluster_cooling_100-perturbed\"\n",
    "# run_name = \"cluster_cooling_100-small_steps\"\n",
    "# run_name = \"cluster_cooling_mhd_100\"\n",
    "# run_name = \"cluster_cooling_133\"\n",
    "# run_name = \"cluster_cooling_200\"\n",
    "# run_name = \"cluster_cooling_200-perturbed\"\n",
    "# run_name = \"cluster_cooling_200-quantify_distributions\"\n",
    "# run_name = \"cluster_cooling_200-small_steps\"\n",
    "# run_name = \"cluster_cooling_200-small_steps-early\"\n",
    "# run_name = \"cluster_cooling_mhd_200\"\n",
    "# run_name = \"cluster_cooling_mhd_small_200\"\n",
    "# run_name = \"cluster_cooling_mhd_large_200\"\n",
    "# run_name = \"cluster_cooling_mhd_large_200-small_steps\"\n",
    "# run_name = \"cluster_cooling_mhd_large_200-small_steps-early\"\n",
    "# run_name = \"cluster_cooling_300\"\n",
    "# run_name = \"cluster_cooling_400\"\n",
    "# run_name = \"cluster_cooling_400-perturbed\"\n",
    "# run_name = \"cluster_cooling_400-small_steps\"\n",
    "# run_name = \"cluster_cooling_600\"\n",
    "# run_name = \"single\"\n",
    "# run_name = \"single_cooling\"\n",
    "# run_name = \"double\"\n",
    "# run_name = \"double_cooling\"\n",
    "\n",
    "run_dir = os.path.join(os.path.pardir, \"runs\", run_name)\n",
    "\n",
    "inputs_dir  = os.path.join(run_dir, \"inputs\")\n",
    "outputs_dir = os.path.join(run_dir, \"outputs\")\n",
    "\n",
    "plots_dir = os.path.join(outputs_dir, \"plots\")\n",
    "if not os.path.exists(plots_dir):\n",
    "    print(\"making plots_dir\")\n",
    "    os.mkdir(plots_dir)"
   ]
  },
  {
   "cell_type": "code",
   "execution_count": 3,
   "metadata": {},
   "outputs": [],
   "source": [
    "save_plots = True"
   ]
  },
  {
   "cell_type": "markdown",
   "metadata": {},
   "source": [
    "# Update / Load Database"
   ]
  },
  {
   "cell_type": "code",
   "execution_count": 4,
   "metadata": {
    "scrolled": false
   },
   "outputs": [
    {
     "name": "stdout",
     "output_type": "stream",
     "text": [
      "adding:  ../runs/cluster_cooling_100/outputs/snapshot_000.hdf5\n",
      "Snapshot #0 already found for run: cluster_cooling_100\n",
      "adding:  ../runs/cluster_cooling_100/outputs/snapshot_001.hdf5\n",
      "Snapshot #1 already found for run: cluster_cooling_100\n",
      "adding:  ../runs/cluster_cooling_100/outputs/snapshot_002.hdf5\n",
      "Snapshot #2 already found for run: cluster_cooling_100\n",
      "adding:  ../runs/cluster_cooling_100/outputs/snapshot_003.hdf5\n",
      "Snapshot #3 already found for run: cluster_cooling_100\n",
      "adding:  ../runs/cluster_cooling_100/outputs/snapshot_004.hdf5\n",
      "Snapshot #4 already found for run: cluster_cooling_100\n",
      "adding:  ../runs/cluster_cooling_100/outputs/snapshot_005.hdf5\n",
      "Snapshot #5 already found for run: cluster_cooling_100\n",
      "adding:  ../runs/cluster_cooling_100/outputs/snapshot_006.hdf5\n",
      "Snapshot #6 already found for run: cluster_cooling_100\n",
      "adding:  ../runs/cluster_cooling_100/outputs/snapshot_007.hdf5\n",
      "Snapshot #7 already found for run: cluster_cooling_100\n",
      "adding:  ../runs/cluster_cooling_100/outputs/snapshot_008.hdf5\n",
      "Snapshot #8 already found for run: cluster_cooling_100\n",
      "adding:  ../runs/cluster_cooling_100/outputs/snapshot_009.hdf5\n",
      "Snapshot #9 already found for run: cluster_cooling_100\n",
      "adding:  ../runs/cluster_cooling_100/outputs/snapshot_010.hdf5\n",
      "Snapshot #10 already found for run: cluster_cooling_100\n"
     ]
    },
    {
     "data": {
      "text/html": [
       "<div>\n",
       "<style scoped>\n",
       "    .dataframe tbody tr th:only-of-type {\n",
       "        vertical-align: middle;\n",
       "    }\n",
       "\n",
       "    .dataframe tbody tr th {\n",
       "        vertical-align: top;\n",
       "    }\n",
       "\n",
       "    .dataframe thead th {\n",
       "        text-align: right;\n",
       "    }\n",
       "</style>\n",
       "<table border=\"1\" class=\"dataframe\">\n",
       "  <thead>\n",
       "    <tr style=\"text-align: right;\">\n",
       "      <th></th>\n",
       "      <th>number</th>\n",
       "      <th>time</th>\n",
       "      <th>e_kin</th>\n",
       "      <th>e_int</th>\n",
       "      <th>e_mag</th>\n",
       "      <th>mass</th>\n",
       "      <th>momentum</th>\n",
       "      <th>run_name</th>\n",
       "    </tr>\n",
       "  </thead>\n",
       "  <tbody>\n",
       "    <tr>\n",
       "      <th>109</th>\n",
       "      <td>109</td>\n",
       "      <td>37.924087</td>\n",
       "      <td>4.609220e+49</td>\n",
       "      <td>4.864404e+50</td>\n",
       "      <td>0.0</td>\n",
       "      <td>7.097510e+06</td>\n",
       "      <td>4.266559e+44</td>\n",
       "      <td>cluster_cooling_100</td>\n",
       "    </tr>\n",
       "    <tr>\n",
       "      <th>110</th>\n",
       "      <td>110</td>\n",
       "      <td>38.442815</td>\n",
       "      <td>4.576272e+49</td>\n",
       "      <td>4.863767e+50</td>\n",
       "      <td>0.0</td>\n",
       "      <td>7.097510e+06</td>\n",
       "      <td>4.256315e+44</td>\n",
       "      <td>cluster_cooling_100</td>\n",
       "    </tr>\n",
       "    <tr>\n",
       "      <th>111</th>\n",
       "      <td>111</td>\n",
       "      <td>38.961543</td>\n",
       "      <td>4.545406e+49</td>\n",
       "      <td>4.864755e+50</td>\n",
       "      <td>0.0</td>\n",
       "      <td>7.097510e+06</td>\n",
       "      <td>4.246495e+44</td>\n",
       "      <td>cluster_cooling_100</td>\n",
       "    </tr>\n",
       "    <tr>\n",
       "      <th>112</th>\n",
       "      <td>112</td>\n",
       "      <td>39.480272</td>\n",
       "      <td>4.516253e+49</td>\n",
       "      <td>4.865820e+50</td>\n",
       "      <td>0.0</td>\n",
       "      <td>7.097510e+06</td>\n",
       "      <td>4.237081e+44</td>\n",
       "      <td>cluster_cooling_100</td>\n",
       "    </tr>\n",
       "    <tr>\n",
       "      <th>113</th>\n",
       "      <td>113</td>\n",
       "      <td>39.999000</td>\n",
       "      <td>4.486760e+49</td>\n",
       "      <td>4.866277e+50</td>\n",
       "      <td>0.0</td>\n",
       "      <td>7.097510e+06</td>\n",
       "      <td>4.228116e+44</td>\n",
       "      <td>cluster_cooling_100</td>\n",
       "    </tr>\n",
       "  </tbody>\n",
       "</table>\n",
       "</div>"
      ],
      "text/plain": [
       "     number       time         e_kin         e_int  e_mag          mass  \\\n",
       "109     109  37.924087  4.609220e+49  4.864404e+50    0.0  7.097510e+06   \n",
       "110     110  38.442815  4.576272e+49  4.863767e+50    0.0  7.097510e+06   \n",
       "111     111  38.961543  4.545406e+49  4.864755e+50    0.0  7.097510e+06   \n",
       "112     112  39.480272  4.516253e+49  4.865820e+50    0.0  7.097510e+06   \n",
       "113     113  39.999000  4.486760e+49  4.866277e+50    0.0  7.097510e+06   \n",
       "\n",
       "         momentum             run_name  \n",
       "109  4.266559e+44  cluster_cooling_100  \n",
       "110  4.256315e+44  cluster_cooling_100  \n",
       "111  4.246495e+44  cluster_cooling_100  \n",
       "112  4.237081e+44  cluster_cooling_100  \n",
       "113  4.228116e+44  cluster_cooling_100  "
      ]
     },
     "execution_count": 4,
     "metadata": {},
     "output_type": "execute_result"
    }
   ],
   "source": [
    "add_simulation(run_name, verbose=True)\n",
    "\n",
    "df = open_as_DataFrame(run_name)\n",
    "df.tail()"
   ]
  },
  {
   "cell_type": "markdown",
   "metadata": {},
   "source": [
    "# Overview"
   ]
  },
  {
   "cell_type": "code",
   "execution_count": 5,
   "metadata": {
    "scrolled": false
   },
   "outputs": [
    {
     "name": "stdout",
     "output_type": "stream",
     "text": [
      "Loaded 11 uncompressed snapshots\n"
     ]
    },
    {
     "name": "stderr",
     "output_type": "stream",
     "text": [
      "yt : [INFO     ] 2018-08-25 16:26:46,727 Omega Lambda is 0.0, so we are turning off Cosmology.\n",
      "yt : [INFO     ] 2018-08-25 16:26:46,791 Parameters: current_time              = 0.0\n",
      "yt : [INFO     ] 2018-08-25 16:26:46,793 Parameters: domain_dimensions         = [2 2 2]\n",
      "yt : [INFO     ] 2018-08-25 16:26:46,796 Parameters: domain_left_edge          = [0. 0. 0.]\n",
      "yt : [INFO     ] 2018-08-25 16:26:46,799 Parameters: domain_right_edge         = [600. 600. 600.]\n",
      "yt : [INFO     ] 2018-08-25 16:26:46,802 Parameters: cosmological_simulation   = 0\n",
      "yt : [INFO     ] 2018-08-25 16:26:46,812 Allocating for 3.375e+06 particles (index particle type 'all')\n",
      "yt : [INFO     ] 2018-08-25 16:26:47,844 Identified 2.955e+05 octs\n",
      "/pfs/home/egentry/anaconda3/envs/py36/lib/python3.6/site-packages/yt/units/yt_array.py:978: FutureWarning: Using a non-tuple sequence for multidimensional indexing is deprecated; use `arr[tuple(seq)]` instead of `arr[seq]`. In the future this will be interpreted as an array index, `arr[np.array(seq)]`, which will result either in an error or a different result.\n",
      "  ret = super(YTArray, self).__getitem__(item)\n",
      "/pfs/home/egentry/anaconda3/envs/py36/lib/python3.6/site-packages/yt/fields/fluid_fields.py:201: FutureWarning: Using a non-tuple sequence for multidimensional indexing is deprecated; use `arr[tuple(seq)]` instead of `arr[seq]`. In the future this will be interpreted as an array index, `arr[np.array(seq)]`, which will result either in an error or a different result.\n",
      "  new_field[slice_3d] = f\n"
     ]
    }
   ],
   "source": [
    "ts = load_snapshots(outputs_dir)\n",
    "snapshot_filenames = get_snapshot_filenames(outputs_dir)\n",
    "\n",
    "snapshot_number_to_index_map = {snapshot_filename_to_number(filename) : i\n",
    "                                for i,filename in enumerate(snapshot_filenames) }\n",
    "\n",
    "uncompressed_snapshot_numbers = sorted(list(snapshot_number_to_index_map.keys()))\n",
    "\n",
    "times_snapshots = df.time\n",
    "\n",
    "print(\"Loaded {} uncompressed snapshots\".format(len(ts)))\n",
    "\n",
    "ds = load_ds_from_ts(ts, 0)\n",
    "rho_0 = None\n",
    "\n",
    "# if rho_0 is None:\n",
    "#     rho_0 = load_ds_from_ts(ts, 0).all_data()[\"all\",\"density\"].mean()"
   ]
  },
  {
   "cell_type": "code",
   "execution_count": 6,
   "metadata": {},
   "outputs": [
    {
     "data": {
      "text/plain": [
       "0       0.000000\n",
       "1       0.001000\n",
       "2       0.127017\n",
       "3       0.253034\n",
       "4       0.379051\n",
       "5       0.505068\n",
       "6       0.631085\n",
       "7       0.633085\n",
       "8       1.014899\n",
       "9       1.396712\n",
       "10      1.778526\n",
       "11      2.160339\n",
       "12      2.542153\n",
       "13      2.544153\n",
       "14      2.663841\n",
       "15      2.783530\n",
       "16      2.903218\n",
       "17      3.022906\n",
       "18      3.142595\n",
       "19      3.144595\n",
       "20      3.289131\n",
       "21      3.433668\n",
       "22      3.578205\n",
       "23      3.722742\n",
       "24      3.867279\n",
       "25      3.867279\n",
       "26      3.869279\n",
       "27      4.387625\n",
       "28      4.905972\n",
       "29      5.424318\n",
       "         ...    \n",
       "84     27.160264\n",
       "85     27.162264\n",
       "86     27.446806\n",
       "87     27.731349\n",
       "88     28.015891\n",
       "89     28.300434\n",
       "90     28.584976\n",
       "91     28.586976\n",
       "92     29.105704\n",
       "93     29.624433\n",
       "94     30.143161\n",
       "95     30.661890\n",
       "96     31.180618\n",
       "97     31.699346\n",
       "98     32.218075\n",
       "99     32.736803\n",
       "100    33.255531\n",
       "101    33.774260\n",
       "102    34.292988\n",
       "103    34.811716\n",
       "104    35.330445\n",
       "105    35.849173\n",
       "106    36.367901\n",
       "107    36.886630\n",
       "108    37.405358\n",
       "109    37.924087\n",
       "110    38.442815\n",
       "111    38.961543\n",
       "112    39.480272\n",
       "113    39.999000\n",
       "Name: time, Length: 114, dtype: float64"
      ]
     },
     "execution_count": 6,
     "metadata": {},
     "output_type": "execute_result"
    }
   ],
   "source": [
    "times_snapshots"
   ]
  },
  {
   "cell_type": "code",
   "execution_count": 7,
   "metadata": {},
   "outputs": [
    {
     "name": "stdout",
     "output_type": "stream",
     "text": [
      "Length unit:  0.001000000000163616 kpc\n",
      "Time unit:  31557600000000.0 s\n",
      "Mass unit:  1.0000299511482191 Msun\n",
      "Velocity unit:  97779.22216731282 cm/s\n"
     ]
    }
   ],
   "source": [
    "print( \"Length unit: \",   ds.length_unit)\n",
    "print( \"Time unit: \",     ds.time_unit)\n",
    "print( \"Mass unit: \",     ds.mass_unit)\n",
    "print( \"Velocity unit: \", ds.velocity_unit)"
   ]
  },
  {
   "cell_type": "markdown",
   "metadata": {},
   "source": [
    "# What fields do I have access to?"
   ]
  },
  {
   "cell_type": "code",
   "execution_count": 8,
   "metadata": {},
   "outputs": [
    {
     "data": {
      "text/plain": [
       "True"
      ]
     },
     "execution_count": 8,
     "metadata": {},
     "output_type": "execute_result"
    }
   ],
   "source": [
    "ds.add_particle_filter(\"overdense\")"
   ]
  },
  {
   "cell_type": "code",
   "execution_count": 9,
   "metadata": {},
   "outputs": [],
   "source": [
    "dd = ds.all_data()"
   ]
  },
  {
   "cell_type": "code",
   "execution_count": 10,
   "metadata": {},
   "outputs": [
    {
     "data": {
      "text/plain": [
       "[('PartType0', 'Coordinates'),\n",
       " ('PartType0', 'Density'),\n",
       " ('PartType0', 'ElectronAbundance'),\n",
       " ('PartType0', 'InternalEnergy'),\n",
       " ('PartType0', 'Masses'),\n",
       " ('PartType0', 'Metallicity'),\n",
       " ('PartType0', 'NeutralHydrogenAbundance'),\n",
       " ('PartType0', 'ParticleChildIDsNumber'),\n",
       " ('PartType0', 'ParticleIDGenerationNumber'),\n",
       " ('PartType0', 'ParticleIDs'),\n",
       " ('PartType0', 'SmoothingLength'),\n",
       " ('PartType0', 'Velocities'),\n",
       " ('all', 'Coordinates'),\n",
       " ('all', 'Density'),\n",
       " ('all', 'ElectronAbundance'),\n",
       " ('all', 'InternalEnergy'),\n",
       " ('all', 'Masses'),\n",
       " ('all', 'Metallicity'),\n",
       " ('all', 'NeutralHydrogenAbundance'),\n",
       " ('all', 'ParticleChildIDsNumber'),\n",
       " ('all', 'ParticleIDGenerationNumber'),\n",
       " ('all', 'ParticleIDs'),\n",
       " ('all', 'SmoothingLength'),\n",
       " ('all', 'Velocities')]"
      ]
     },
     "execution_count": 10,
     "metadata": {},
     "output_type": "execute_result"
    }
   ],
   "source": [
    "ds.field_list"
   ]
  },
  {
   "cell_type": "code",
   "execution_count": 11,
   "metadata": {
    "scrolled": false
   },
   "outputs": [
    {
     "data": {
      "text/plain": [
       "[('PartType0', 'Coordinates'),\n",
       " ('PartType0', 'Density'),\n",
       " ('PartType0', 'ElectronAbundance'),\n",
       " ('PartType0', 'H_nuclei_density'),\n",
       " ('PartType0', 'He_nuclei_density'),\n",
       " ('PartType0', 'InternalEnergy'),\n",
       " ('PartType0', 'Masses'),\n",
       " ('PartType0', 'Metallicity'),\n",
       " ('PartType0', 'NeutralHydrogenAbundance'),\n",
       " ('PartType0', 'ParticleChildIDsNumber'),\n",
       " ('PartType0', 'ParticleIDGenerationNumber'),\n",
       " ('PartType0', 'ParticleIDs'),\n",
       " ('PartType0', 'SmoothingLength'),\n",
       " ('PartType0', 'Temperature'),\n",
       " ('PartType0', 'Velocities'),\n",
       " ('PartType0', 'density'),\n",
       " ('PartType0', 'mesh_id'),\n",
       " ('PartType0', 'metallicity'),\n",
       " ('PartType0', 'particle_angular_momentum'),\n",
       " ('PartType0', 'particle_angular_momentum_magnitude'),\n",
       " ('PartType0', 'particle_angular_momentum_x'),\n",
       " ('PartType0', 'particle_angular_momentum_y'),\n",
       " ('PartType0', 'particle_angular_momentum_z'),\n",
       " ('PartType0', 'particle_cylindrical_velocity_theta'),\n",
       " ('PartType0', 'particle_cylindrical_velocity_z'),\n",
       " ('PartType0', 'particle_index'),\n",
       " ('PartType0', 'particle_mass'),\n",
       " ('PartType0', 'particle_ones'),\n",
       " ('PartType0', 'particle_position'),\n",
       " ('PartType0', 'particle_position_cylindrical_radius'),\n",
       " ('PartType0', 'particle_position_cylindrical_theta'),\n",
       " ('PartType0', 'particle_position_cylindrical_z'),\n",
       " ('PartType0', 'particle_position_relative'),\n",
       " ('PartType0', 'particle_position_relative_x'),\n",
       " ('PartType0', 'particle_position_relative_y'),\n",
       " ('PartType0', 'particle_position_relative_z'),\n",
       " ('PartType0', 'particle_position_spherical_phi'),\n",
       " ('PartType0', 'particle_position_spherical_radius'),\n",
       " ('PartType0', 'particle_position_spherical_theta'),\n",
       " ('PartType0', 'particle_position_x'),\n",
       " ('PartType0', 'particle_position_y'),\n",
       " ('PartType0', 'particle_position_z'),\n",
       " ('PartType0', 'particle_radial_velocity'),\n",
       " ('PartType0', 'particle_radius'),\n",
       " ('PartType0', 'particle_specific_angular_momentum'),\n",
       " ('PartType0', 'particle_specific_angular_momentum_x'),\n",
       " ('PartType0', 'particle_specific_angular_momentum_y'),\n",
       " ('PartType0', 'particle_specific_angular_momentum_z'),\n",
       " ('PartType0', 'particle_spherical_position_phi'),\n",
       " ('PartType0', 'particle_spherical_position_radius'),\n",
       " ('PartType0', 'particle_spherical_position_theta'),\n",
       " ('PartType0', 'particle_spherical_velocity_phi'),\n",
       " ('PartType0', 'particle_spherical_velocity_radius'),\n",
       " ('PartType0', 'particle_spherical_velocity_theta'),\n",
       " ('PartType0', 'particle_velocity'),\n",
       " ('PartType0', 'particle_velocity_cylindrical_radius'),\n",
       " ('PartType0', 'particle_velocity_cylindrical_theta'),\n",
       " ('PartType0', 'particle_velocity_cylindrical_z'),\n",
       " ('PartType0', 'particle_velocity_magnitude'),\n",
       " ('PartType0', 'particle_velocity_relative'),\n",
       " ('PartType0', 'particle_velocity_relative_x'),\n",
       " ('PartType0', 'particle_velocity_relative_y'),\n",
       " ('PartType0', 'particle_velocity_relative_z'),\n",
       " ('PartType0', 'particle_velocity_spherical_phi'),\n",
       " ('PartType0', 'particle_velocity_spherical_radius'),\n",
       " ('PartType0', 'particle_velocity_spherical_theta'),\n",
       " ('PartType0', 'particle_velocity_x'),\n",
       " ('PartType0', 'particle_velocity_y'),\n",
       " ('PartType0', 'particle_velocity_z'),\n",
       " ('PartType0', 'smoothing_length'),\n",
       " ('PartType0', 'temperature'),\n",
       " ('PartType0', 'thermal_energy'),\n",
       " ('affected', 'Coordinates'),\n",
       " ('affected', 'Density'),\n",
       " ('affected', 'ElectronAbundance'),\n",
       " ('affected', 'H_nuclei_density'),\n",
       " ('affected', 'He_nuclei_density'),\n",
       " ('affected', 'InternalEnergy'),\n",
       " ('affected', 'Masses'),\n",
       " ('affected', 'Metallicity'),\n",
       " ('affected', 'NeutralHydrogenAbundance'),\n",
       " ('affected', 'ParticleChildIDsNumber'),\n",
       " ('affected', 'ParticleIDGenerationNumber'),\n",
       " ('affected', 'ParticleIDs'),\n",
       " ('affected', 'SmoothingLength'),\n",
       " ('affected', 'Velocities'),\n",
       " ('affected', 'cooling_rate'),\n",
       " ('affected', 'density'),\n",
       " ('affected', 'mesh_id'),\n",
       " ('affected', 'metallicity'),\n",
       " ('affected', 'particle_angular_momentum'),\n",
       " ('affected', 'particle_angular_momentum_magnitude'),\n",
       " ('affected', 'particle_angular_momentum_x'),\n",
       " ('affected', 'particle_angular_momentum_y'),\n",
       " ('affected', 'particle_angular_momentum_z'),\n",
       " ('affected', 'particle_cylindrical_velocity_theta'),\n",
       " ('affected', 'particle_cylindrical_velocity_z'),\n",
       " ('affected', 'particle_index'),\n",
       " ('affected', 'particle_mass'),\n",
       " ('affected', 'particle_ones'),\n",
       " ('affected', 'particle_position'),\n",
       " ('affected', 'particle_position_cylindrical_radius'),\n",
       " ('affected', 'particle_position_cylindrical_theta'),\n",
       " ('affected', 'particle_position_cylindrical_z'),\n",
       " ('affected', 'particle_position_relative'),\n",
       " ('affected', 'particle_position_relative_x'),\n",
       " ('affected', 'particle_position_relative_y'),\n",
       " ('affected', 'particle_position_relative_z'),\n",
       " ('affected', 'particle_position_spherical_phi'),\n",
       " ('affected', 'particle_position_spherical_radius'),\n",
       " ('affected', 'particle_position_spherical_theta'),\n",
       " ('affected', 'particle_position_x'),\n",
       " ('affected', 'particle_position_y'),\n",
       " ('affected', 'particle_position_z'),\n",
       " ('affected', 'particle_radial_velocity'),\n",
       " ('affected', 'particle_radius'),\n",
       " ('affected', 'particle_specific_angular_momentum'),\n",
       " ('affected', 'particle_specific_angular_momentum_x'),\n",
       " ('affected', 'particle_specific_angular_momentum_y'),\n",
       " ('affected', 'particle_specific_angular_momentum_z'),\n",
       " ('affected', 'particle_spherical_position_phi'),\n",
       " ('affected', 'particle_spherical_position_radius'),\n",
       " ('affected', 'particle_spherical_position_theta'),\n",
       " ('affected', 'particle_spherical_velocity_phi'),\n",
       " ('affected', 'particle_spherical_velocity_radius'),\n",
       " ('affected', 'particle_spherical_velocity_theta'),\n",
       " ('affected', 'particle_velocity'),\n",
       " ('affected', 'particle_velocity_cylindrical_radius'),\n",
       " ('affected', 'particle_velocity_cylindrical_theta'),\n",
       " ('affected', 'particle_velocity_cylindrical_z'),\n",
       " ('affected', 'particle_velocity_magnitude'),\n",
       " ('affected', 'particle_velocity_relative'),\n",
       " ('affected', 'particle_velocity_relative_x'),\n",
       " ('affected', 'particle_velocity_relative_y'),\n",
       " ('affected', 'particle_velocity_relative_z'),\n",
       " ('affected', 'particle_velocity_spherical_phi'),\n",
       " ('affected', 'particle_velocity_spherical_radius'),\n",
       " ('affected', 'particle_velocity_spherical_theta'),\n",
       " ('affected', 'particle_velocity_x'),\n",
       " ('affected', 'particle_velocity_y'),\n",
       " ('affected', 'particle_velocity_z'),\n",
       " ('affected', 'smoothing_length'),\n",
       " ('affected', 'temperature'),\n",
       " ('affected', 'thermal_energy'),\n",
       " ('all', 'Coordinates'),\n",
       " ('all', 'Density'),\n",
       " ('all', 'ElectronAbundance'),\n",
       " ('all', 'H_nuclei_density'),\n",
       " ('all', 'He_nuclei_density'),\n",
       " ('all', 'InternalEnergy'),\n",
       " ('all', 'Masses'),\n",
       " ('all', 'Metallicity'),\n",
       " ('all', 'NeutralHydrogenAbundance'),\n",
       " ('all', 'ParticleChildIDsNumber'),\n",
       " ('all', 'ParticleIDGenerationNumber'),\n",
       " ('all', 'ParticleIDs'),\n",
       " ('all', 'SmoothingLength'),\n",
       " ('all', 'Velocities'),\n",
       " ('all', 'cooling_rate'),\n",
       " ('all', 'density'),\n",
       " ('all', 'mesh_id'),\n",
       " ('all', 'metallicity'),\n",
       " ('all', 'particle_angular_momentum'),\n",
       " ('all', 'particle_angular_momentum_magnitude'),\n",
       " ('all', 'particle_angular_momentum_x'),\n",
       " ('all', 'particle_angular_momentum_y'),\n",
       " ('all', 'particle_angular_momentum_z'),\n",
       " ('all', 'particle_cylindrical_velocity_theta'),\n",
       " ('all', 'particle_cylindrical_velocity_z'),\n",
       " ('all', 'particle_index'),\n",
       " ('all', 'particle_mass'),\n",
       " ('all', 'particle_ones'),\n",
       " ('all', 'particle_position'),\n",
       " ('all', 'particle_position_cylindrical_radius'),\n",
       " ('all', 'particle_position_cylindrical_theta'),\n",
       " ('all', 'particle_position_cylindrical_z'),\n",
       " ('all', 'particle_position_relative'),\n",
       " ('all', 'particle_position_relative_x'),\n",
       " ('all', 'particle_position_relative_y'),\n",
       " ('all', 'particle_position_relative_z'),\n",
       " ('all', 'particle_position_spherical_phi'),\n",
       " ('all', 'particle_position_spherical_radius'),\n",
       " ('all', 'particle_position_spherical_theta'),\n",
       " ('all', 'particle_position_x'),\n",
       " ('all', 'particle_position_y'),\n",
       " ('all', 'particle_position_z'),\n",
       " ('all', 'particle_radial_velocity'),\n",
       " ('all', 'particle_radius'),\n",
       " ('all', 'particle_specific_angular_momentum'),\n",
       " ('all', 'particle_specific_angular_momentum_x'),\n",
       " ('all', 'particle_specific_angular_momentum_y'),\n",
       " ('all', 'particle_specific_angular_momentum_z'),\n",
       " ('all', 'particle_spherical_position_phi'),\n",
       " ('all', 'particle_spherical_position_radius'),\n",
       " ('all', 'particle_spherical_position_theta'),\n",
       " ('all', 'particle_spherical_velocity_phi'),\n",
       " ('all', 'particle_spherical_velocity_radius'),\n",
       " ('all', 'particle_spherical_velocity_theta'),\n",
       " ('all', 'particle_velocity'),\n",
       " ('all', 'particle_velocity_cylindrical_radius'),\n",
       " ('all', 'particle_velocity_cylindrical_theta'),\n",
       " ('all', 'particle_velocity_cylindrical_z'),\n",
       " ('all', 'particle_velocity_magnitude'),\n",
       " ('all', 'particle_velocity_relative'),\n",
       " ('all', 'particle_velocity_relative_x'),\n",
       " ('all', 'particle_velocity_relative_y'),\n",
       " ('all', 'particle_velocity_relative_z'),\n",
       " ('all', 'particle_velocity_spherical_phi'),\n",
       " ('all', 'particle_velocity_spherical_radius'),\n",
       " ('all', 'particle_velocity_spherical_theta'),\n",
       " ('all', 'particle_velocity_x'),\n",
       " ('all', 'particle_velocity_y'),\n",
       " ('all', 'particle_velocity_z'),\n",
       " ('all', 'smoothing_length'),\n",
       " ('all', 'temperature'),\n",
       " ('all', 'thermal_energy'),\n",
       " ('deposit', 'PartType0_cic'),\n",
       " ('deposit', 'PartType0_cic_velocity_x'),\n",
       " ('deposit', 'PartType0_cic_velocity_y'),\n",
       " ('deposit', 'PartType0_cic_velocity_z'),\n",
       " ('deposit', 'PartType0_count'),\n",
       " ('deposit', 'PartType0_density'),\n",
       " ('deposit', 'PartType0_mass'),\n",
       " ('deposit', 'PartType0_nn_velocity_x'),\n",
       " ('deposit', 'PartType0_nn_velocity_y'),\n",
       " ('deposit', 'PartType0_nn_velocity_z'),\n",
       " ('deposit', 'PartType0_smoothed_Temperature'),\n",
       " ('deposit', 'PartType0_smoothed_density'),\n",
       " ('deposit', 'PartType0_smoothed_metallicity'),\n",
       " ('deposit', 'PartType0_smoothed_particle_velocity_x'),\n",
       " ('deposit', 'PartType0_smoothed_particle_velocity_y'),\n",
       " ('deposit', 'PartType0_smoothed_particle_velocity_z'),\n",
       " ('deposit', 'PartType0_smoothed_thermal_energy'),\n",
       " ('deposit', 'affected_cic'),\n",
       " ('deposit', 'affected_cic_velocity_x'),\n",
       " ('deposit', 'affected_cic_velocity_y'),\n",
       " ('deposit', 'affected_cic_velocity_z'),\n",
       " ('deposit', 'affected_count'),\n",
       " ('deposit', 'affected_density'),\n",
       " ('deposit', 'affected_mass'),\n",
       " ('deposit', 'affected_nn_velocity_x'),\n",
       " ('deposit', 'affected_nn_velocity_y'),\n",
       " ('deposit', 'affected_nn_velocity_z'),\n",
       " ('deposit', 'affected_smoothed_density'),\n",
       " ('deposit', 'affected_smoothed_metallicity'),\n",
       " ('deposit', 'affected_smoothed_particle_velocity_x'),\n",
       " ('deposit', 'affected_smoothed_particle_velocity_y'),\n",
       " ('deposit', 'affected_smoothed_particle_velocity_z'),\n",
       " ('deposit', 'affected_smoothed_temperature'),\n",
       " ('deposit', 'affected_smoothed_thermal_energy'),\n",
       " ('deposit', 'all_cic'),\n",
       " ('deposit', 'all_cic_velocity_x'),\n",
       " ('deposit', 'all_cic_velocity_y'),\n",
       " ('deposit', 'all_cic_velocity_z'),\n",
       " ('deposit', 'all_count'),\n",
       " ('deposit', 'all_density'),\n",
       " ('deposit', 'all_mass'),\n",
       " ('deposit', 'all_nn_velocity_x'),\n",
       " ('deposit', 'all_nn_velocity_y'),\n",
       " ('deposit', 'all_nn_velocity_z'),\n",
       " ('deposit', 'all_smoothed_density'),\n",
       " ('deposit', 'all_smoothed_metallicity'),\n",
       " ('deposit', 'all_smoothed_particle_velocity_x'),\n",
       " ('deposit', 'all_smoothed_particle_velocity_y'),\n",
       " ('deposit', 'all_smoothed_particle_velocity_z'),\n",
       " ('deposit', 'all_smoothed_thermal_energy'),\n",
       " ('deposit', 'overdense_cic'),\n",
       " ('deposit', 'overdense_cic_velocity_x'),\n",
       " ('deposit', 'overdense_cic_velocity_y'),\n",
       " ('deposit', 'overdense_cic_velocity_z'),\n",
       " ('deposit', 'overdense_count'),\n",
       " ('deposit', 'overdense_density'),\n",
       " ('deposit', 'overdense_mass'),\n",
       " ('deposit', 'overdense_nn_velocity_x'),\n",
       " ('deposit', 'overdense_nn_velocity_y'),\n",
       " ('deposit', 'overdense_nn_velocity_z'),\n",
       " ('deposit', 'overdense_smoothed_density'),\n",
       " ('deposit', 'overdense_smoothed_metallicity'),\n",
       " ('deposit', 'overdense_smoothed_particle_velocity_x'),\n",
       " ('deposit', 'overdense_smoothed_particle_velocity_y'),\n",
       " ('deposit', 'overdense_smoothed_particle_velocity_z'),\n",
       " ('deposit', 'overdense_smoothed_temperature'),\n",
       " ('deposit', 'overdense_smoothed_thermal_energy'),\n",
       " ('gas', 'H_nuclei_density'),\n",
       " ('gas', 'He_nuclei_density'),\n",
       " ('gas', 'angular_momentum_magnitude'),\n",
       " ('gas', 'angular_momentum_x'),\n",
       " ('gas', 'angular_momentum_y'),\n",
       " ('gas', 'angular_momentum_z'),\n",
       " ('gas', 'averaged_density'),\n",
       " ('gas', 'baroclinic_vorticity_magnitude'),\n",
       " ('gas', 'baroclinic_vorticity_x'),\n",
       " ('gas', 'baroclinic_vorticity_y'),\n",
       " ('gas', 'baroclinic_vorticity_z'),\n",
       " ('gas', 'cell_mass'),\n",
       " ('gas', 'cell_volume'),\n",
       " ('gas', 'cutting_plane_velocity_x'),\n",
       " ('gas', 'cutting_plane_velocity_y'),\n",
       " ('gas', 'cutting_plane_velocity_z'),\n",
       " ('gas', 'cylindrical_radial_velocity'),\n",
       " ('gas', 'cylindrical_radial_velocity_absolute'),\n",
       " ('gas', 'cylindrical_tangential_velocity'),\n",
       " ('gas', 'cylindrical_tangential_velocity_absolute'),\n",
       " ('gas', 'density'),\n",
       " ('gas', 'density_gradient_magnitude'),\n",
       " ('gas', 'density_gradient_x'),\n",
       " ('gas', 'density_gradient_y'),\n",
       " ('gas', 'density_gradient_z'),\n",
       " ('gas', 'dx'),\n",
       " ('gas', 'dy'),\n",
       " ('gas', 'dynamical_time'),\n",
       " ('gas', 'dz'),\n",
       " ('gas', 'emission_measure'),\n",
       " ('gas', 'entropy'),\n",
       " ('gas', 'kT'),\n",
       " ('gas', 'kinetic_energy'),\n",
       " ('gas', 'mazzotta_weighting'),\n",
       " ('gas', 'metallicity'),\n",
       " ('gas', 'path_element_x'),\n",
       " ('gas', 'path_element_y'),\n",
       " ('gas', 'path_element_z'),\n",
       " ('gas', 'pressure'),\n",
       " ('gas', 'pressure_gradient_magnitude'),\n",
       " ('gas', 'pressure_gradient_x'),\n",
       " ('gas', 'pressure_gradient_y'),\n",
       " ('gas', 'pressure_gradient_z'),\n",
       " ('gas', 'radial_velocity'),\n",
       " ('gas', 'radial_velocity_absolute'),\n",
       " ('gas', 'shear'),\n",
       " ('gas', 'specific_angular_momentum_magnitude'),\n",
       " ('gas', 'specific_angular_momentum_x'),\n",
       " ('gas', 'specific_angular_momentum_y'),\n",
       " ('gas', 'specific_angular_momentum_z'),\n",
       " ('gas', 'sz_kinetic'),\n",
       " ('gas', 'szy'),\n",
       " ('gas', 'tangential_over_velocity_magnitude'),\n",
       " ('gas', 'tangential_velocity'),\n",
       " ('gas', 'temperature'),\n",
       " ('gas', 'thermal_energy'),\n",
       " ('gas', 'velocity_cylindrical_radius'),\n",
       " ('gas', 'velocity_cylindrical_theta'),\n",
       " ('gas', 'velocity_cylindrical_z'),\n",
       " ('gas', 'velocity_divergence'),\n",
       " ('gas', 'velocity_divergence_absolute'),\n",
       " ('gas', 'velocity_magnitude'),\n",
       " ('gas', 'velocity_spherical_phi'),\n",
       " ('gas', 'velocity_spherical_radius'),\n",
       " ('gas', 'velocity_spherical_theta'),\n",
       " ('gas', 'velocity_x'),\n",
       " ('gas', 'velocity_y'),\n",
       " ('gas', 'velocity_z'),\n",
       " ('gas', 'vertex_x'),\n",
       " ('gas', 'vertex_y'),\n",
       " ('gas', 'vertex_z'),\n",
       " ('gas', 'vorticity_growth_magnitude'),\n",
       " ('gas', 'vorticity_growth_magnitude_absolute'),\n",
       " ('gas', 'vorticity_growth_timescale'),\n",
       " ('gas', 'vorticity_growth_x'),\n",
       " ('gas', 'vorticity_growth_y'),\n",
       " ('gas', 'vorticity_growth_z'),\n",
       " ('gas', 'vorticity_magnitude'),\n",
       " ('gas', 'vorticity_squared'),\n",
       " ('gas', 'vorticity_stretching_magnitude'),\n",
       " ('gas', 'vorticity_stretching_x'),\n",
       " ('gas', 'vorticity_stretching_y'),\n",
       " ('gas', 'vorticity_stretching_z'),\n",
       " ('gas', 'vorticity_x'),\n",
       " ('gas', 'vorticity_y'),\n",
       " ('gas', 'vorticity_z'),\n",
       " ('gas', 'x'),\n",
       " ('gas', 'xray_emissivity'),\n",
       " ('gas', 'y'),\n",
       " ('gas', 'z'),\n",
       " ('index', 'cell_volume'),\n",
       " ('index', 'cylindrical_r'),\n",
       " ('index', 'cylindrical_radius'),\n",
       " ('index', 'cylindrical_theta'),\n",
       " ('index', 'cylindrical_z'),\n",
       " ('index', 'disk_angle'),\n",
       " ('index', 'dx'),\n",
       " ('index', 'dy'),\n",
       " ('index', 'dz'),\n",
       " ('index', 'grid_indices'),\n",
       " ('index', 'grid_level'),\n",
       " ('index', 'height'),\n",
       " ('index', 'morton_index'),\n",
       " ('index', 'ones'),\n",
       " ('index', 'ones_over_dx'),\n",
       " ('index', 'path_element_x'),\n",
       " ('index', 'path_element_y'),\n",
       " ('index', 'path_element_z'),\n",
       " ('index', 'radius'),\n",
       " ('index', 'spherical_phi'),\n",
       " ('index', 'spherical_r'),\n",
       " ('index', 'spherical_radius'),\n",
       " ('index', 'spherical_theta'),\n",
       " ('index', 'vertex_x'),\n",
       " ('index', 'vertex_y'),\n",
       " ('index', 'vertex_z'),\n",
       " ('index', 'virial_radius_fraction'),\n",
       " ('index', 'x'),\n",
       " ('index', 'y'),\n",
       " ('index', 'z'),\n",
       " ('index', 'zeros'),\n",
       " ('overdense', 'Coordinates'),\n",
       " ('overdense', 'Density'),\n",
       " ('overdense', 'ElectronAbundance'),\n",
       " ('overdense', 'H_nuclei_density'),\n",
       " ('overdense', 'He_nuclei_density'),\n",
       " ('overdense', 'InternalEnergy'),\n",
       " ('overdense', 'Masses'),\n",
       " ('overdense', 'Metallicity'),\n",
       " ('overdense', 'NeutralHydrogenAbundance'),\n",
       " ('overdense', 'ParticleChildIDsNumber'),\n",
       " ('overdense', 'ParticleIDGenerationNumber'),\n",
       " ('overdense', 'ParticleIDs'),\n",
       " ('overdense', 'SmoothingLength'),\n",
       " ('overdense', 'Velocities'),\n",
       " ('overdense', 'cooling_rate'),\n",
       " ('overdense', 'density'),\n",
       " ('overdense', 'mesh_id'),\n",
       " ('overdense', 'metallicity'),\n",
       " ('overdense', 'particle_angular_momentum'),\n",
       " ('overdense', 'particle_angular_momentum_magnitude'),\n",
       " ('overdense', 'particle_angular_momentum_x'),\n",
       " ('overdense', 'particle_angular_momentum_y'),\n",
       " ('overdense', 'particle_angular_momentum_z'),\n",
       " ('overdense', 'particle_cylindrical_velocity_theta'),\n",
       " ('overdense', 'particle_cylindrical_velocity_z'),\n",
       " ('overdense', 'particle_index'),\n",
       " ('overdense', 'particle_mass'),\n",
       " ('overdense', 'particle_ones'),\n",
       " ('overdense', 'particle_position'),\n",
       " ('overdense', 'particle_position_cylindrical_radius'),\n",
       " ('overdense', 'particle_position_cylindrical_theta'),\n",
       " ('overdense', 'particle_position_cylindrical_z'),\n",
       " ('overdense', 'particle_position_relative'),\n",
       " ('overdense', 'particle_position_relative_x'),\n",
       " ('overdense', 'particle_position_relative_y'),\n",
       " ('overdense', 'particle_position_relative_z'),\n",
       " ('overdense', 'particle_position_spherical_phi'),\n",
       " ('overdense', 'particle_position_spherical_radius'),\n",
       " ('overdense', 'particle_position_spherical_theta'),\n",
       " ('overdense', 'particle_position_x'),\n",
       " ('overdense', 'particle_position_y'),\n",
       " ('overdense', 'particle_position_z'),\n",
       " ('overdense', 'particle_radial_velocity'),\n",
       " ('overdense', 'particle_radius'),\n",
       " ('overdense', 'particle_specific_angular_momentum'),\n",
       " ('overdense', 'particle_specific_angular_momentum_x'),\n",
       " ('overdense', 'particle_specific_angular_momentum_y'),\n",
       " ('overdense', 'particle_specific_angular_momentum_z'),\n",
       " ('overdense', 'particle_spherical_position_phi'),\n",
       " ('overdense', 'particle_spherical_position_radius'),\n",
       " ('overdense', 'particle_spherical_position_theta'),\n",
       " ('overdense', 'particle_spherical_velocity_phi'),\n",
       " ('overdense', 'particle_spherical_velocity_radius'),\n",
       " ('overdense', 'particle_spherical_velocity_theta'),\n",
       " ('overdense', 'particle_velocity'),\n",
       " ('overdense', 'particle_velocity_cylindrical_radius'),\n",
       " ('overdense', 'particle_velocity_cylindrical_theta'),\n",
       " ('overdense', 'particle_velocity_cylindrical_z'),\n",
       " ('overdense', 'particle_velocity_magnitude'),\n",
       " ('overdense', 'particle_velocity_relative'),\n",
       " ('overdense', 'particle_velocity_relative_x'),\n",
       " ('overdense', 'particle_velocity_relative_y'),\n",
       " ('overdense', 'particle_velocity_relative_z'),\n",
       " ('overdense', 'particle_velocity_spherical_phi'),\n",
       " ('overdense', 'particle_velocity_spherical_radius'),\n",
       " ('overdense', 'particle_velocity_spherical_theta'),\n",
       " ('overdense', 'particle_velocity_x'),\n",
       " ('overdense', 'particle_velocity_y'),\n",
       " ('overdense', 'particle_velocity_z'),\n",
       " ('overdense', 'smoothing_length'),\n",
       " ('overdense', 'temperature'),\n",
       " ('overdense', 'thermal_energy')]"
      ]
     },
     "execution_count": 11,
     "metadata": {},
     "output_type": "execute_result"
    }
   ],
   "source": [
    "ds.derived_field_list"
   ]
  },
  {
   "cell_type": "markdown",
   "metadata": {},
   "source": [
    "# Extract R_shock, V_shock"
   ]
  },
  {
   "cell_type": "code",
   "execution_count": 12,
   "metadata": {},
   "outputs": [
    {
     "name": "stderr",
     "output_type": "stream",
     "text": [
      "yt : [INFO     ] 2018-08-12 21:36:30,364 Omega Lambda is 0.0, so we are turning off Cosmology.\n",
      "yt : [INFO     ] 2018-08-12 21:36:30,414 Parameters: current_time              = 0.505068364443998\n",
      "yt : [INFO     ] 2018-08-12 21:36:30,416 Parameters: domain_dimensions         = [2 2 2]\n",
      "yt : [INFO     ] 2018-08-12 21:36:30,419 Parameters: domain_left_edge          = [0. 0. 0.]\n",
      "yt : [INFO     ] 2018-08-12 21:36:30,422 Parameters: domain_right_edge         = [600. 600. 600.]\n",
      "yt : [INFO     ] 2018-08-12 21:36:30,424 Parameters: cosmological_simulation   = 0\n",
      "yt : [INFO     ] 2018-08-12 21:36:30,435 Allocating for 3.375e+06 particles (index particle type 'all')\n",
      "yt : [INFO     ] 2018-08-12 21:36:35,496 Identified 2.952e+05 octs\n"
     ]
    }
   ],
   "source": [
    "ds = load_ds_from_ts(ts, 5)\n",
    "ds.add_particle_filter(\"overdense\")\n",
    "dd = ds.all_data()"
   ]
  },
  {
   "cell_type": "code",
   "execution_count": 57,
   "metadata": {},
   "outputs": [
    {
     "data": {
      "text/plain": [
       "<matplotlib.collections.PathCollection at 0x2ae5e018afd0>"
      ]
     },
     "execution_count": 57,
     "metadata": {},
     "output_type": "execute_result"
    },
    {
     "data": {
      "image/png": "[encoded data removed]",
      "text/plain": [
       "<matplotlib.figure.Figure at 0x2ae5ccd260b8>"
      ]
     },
     "metadata": {},
     "output_type": "display_data"
    }
   ],
   "source": [
    "plt.scatter(coords_full[:,0][mask],\n",
    "         coords_full[:,1][mask])"
   ]
  },
  {
   "cell_type": "code",
   "execution_count": 12,
   "metadata": {},
   "outputs": [],
   "source": [
    "def get_shock_thickness_and_radius(run_name, i_snapshot=5):\n",
    "    \n",
    "    run_dir = os.path.join(os.path.pardir, \"runs\", run_name)\n",
    "    outputs_dir = os.path.join(run_dir, \"outputs\")    \n",
    "    ts = load_snapshots(outputs_dir)\n",
    "\n",
    "    snapshot_filenames = get_snapshot_filenames(outputs_dir)\n",
    "\n",
    "    snapshot_number_to_index_map = {snapshot_filename_to_number(filename) : i\n",
    "                                    for i,filename in enumerate(snapshot_filenames) }\n",
    "    \n",
    "    ds = load_ds_from_ts(ts, snapshot_number_to_index_map[i_snapshot])\n",
    "    ds.add_particle_filter(\"overdense\")\n",
    "    dd = ds.all_data()\n",
    "    \n",
    "    spacing_degrees = 20\n",
    "    num_sightlines = int(360 / spacing_degrees)\n",
    "\n",
    "    cos_tolerance = np.cos(spacing_degrees/2 * (np.pi/180))\n",
    "\n",
    "    thicknesses = [None]*num_sightlines\n",
    "    radii = [None]*num_sightlines\n",
    "    for i in range(num_sightlines):\n",
    "        angle = spacing_degrees * i * (np.pi/180)\n",
    "        unit_vector = np.array([np.sin(angle), np.cos(angle), 0])\n",
    "\n",
    "        coords_full = dd[\"overdense\", \"Coordinates\"] - ds.domain_center\n",
    "        coords_norm = (coords_full**2).sum(axis=1)**.5\n",
    "        coords_unit = coords_full / coords_norm.reshape((-1, 1))\n",
    "\n",
    "        cosine_similarity = np.dot(coords_unit, unit_vector)\n",
    "        mask = cosine_similarity > cos_tolerance\n",
    "\n",
    "        thicknesses[i] = float(np.std(dd[\"overdense\", \"particle_position_spherical_radius\"][mask]).to(\"pc\").value)\n",
    "        radii[i] = float(np.mean(dd[\"overdense\", \"particle_position_spherical_radius\"][mask]).to(\"pc\").value)\n",
    "\n",
    "    return thicknesses, radii\n"
   ]
  },
  {
   "cell_type": "code",
   "execution_count": 17,
   "metadata": {},
   "outputs": [
    {
     "data": {
      "text/plain": [
       "array(1.)"
      ]
     },
     "execution_count": 17,
     "metadata": {},
     "output_type": "execute_result"
    }
   ],
   "source": [
    "a = 1 * yt.units.pc\n",
    "a.to(\"pc\").value"
   ]
  },
  {
   "cell_type": "code",
   "execution_count": 14,
   "metadata": {},
   "outputs": [
    {
     "name": "stderr",
     "output_type": "stream",
     "text": [
      "yt : [INFO     ] 2018-08-12 21:36:40,166 Omega Lambda is 0.0, so we are turning off Cosmology.\n",
      "yt : [INFO     ] 2018-08-12 21:36:40,215 Parameters: current_time              = 0.505068364443998\n",
      "yt : [INFO     ] 2018-08-12 21:36:40,217 Parameters: domain_dimensions         = [2 2 2]\n",
      "yt : [INFO     ] 2018-08-12 21:36:40,220 Parameters: domain_left_edge          = [0. 0. 0.]\n",
      "yt : [INFO     ] 2018-08-12 21:36:40,223 Parameters: domain_right_edge         = [600. 600. 600.]\n",
      "yt : [INFO     ] 2018-08-12 21:36:40,225 Parameters: cosmological_simulation   = 0\n",
      "yt : [INFO     ] 2018-08-12 21:36:40,236 Allocating for 3.375e+06 particles (index particle type 'all')\n",
      "yt : [INFO     ] 2018-08-12 21:36:41,099 Identified 2.952e+05 octs\n"
     ]
    },
    {
     "name": "stdout",
     "output_type": "stream",
     "text": [
      "CPU times: user 6.71 s, sys: 20.2 s, total: 27 s\n",
      "Wall time: 25.1 s\n"
     ]
    }
   ],
   "source": [
    "%%time\n",
    "thicknesses, radii = get_shock_thickness_and_radius(\"cluster_cooling_100\")"
   ]
  },
  {
   "cell_type": "code",
   "execution_count": 15,
   "metadata": {},
   "outputs": [
    {
     "data": {
      "text/plain": [
       "<matplotlib.axes._subplots.AxesSubplot at 0x2b30ed1d57b8>"
      ]
     },
     "execution_count": 15,
     "metadata": {},
     "output_type": "execute_result"
    },
    {
     "data": {
      "image/png": "[encoded data removed]",
      "text/plain": [
       "<matplotlib.figure.Figure at 0x2b30ecd55b38>"
      ]
     },
     "metadata": {},
     "output_type": "display_data"
    }
   ],
   "source": [
    "sns.distplot(thicknesses)"
   ]
  },
  {
   "cell_type": "code",
   "execution_count": 16,
   "metadata": {},
   "outputs": [
    {
     "name": "stderr",
     "output_type": "stream",
     "text": [
      "yt : [INFO     ] 2018-08-12 21:37:08,732 Omega Lambda is 0.0, so we are turning off Cosmology.\n",
      "yt : [INFO     ] 2018-08-12 21:37:08,778 Parameters: current_time              = 0.505068364443998\n",
      "yt : [INFO     ] 2018-08-12 21:37:08,780 Parameters: domain_dimensions         = [2 2 2]\n",
      "yt : [INFO     ] 2018-08-12 21:37:08,783 Parameters: domain_left_edge          = [0. 0. 0.]\n",
      "yt : [INFO     ] 2018-08-12 21:37:08,785 Parameters: domain_right_edge         = [600. 600. 600.]\n",
      "yt : [INFO     ] 2018-08-12 21:37:08,788 Parameters: cosmological_simulation   = 0\n",
      "yt : [INFO     ] 2018-08-12 21:37:08,798 Allocating for 3.375e+06 particles (index particle type 'all')\n",
      "yt : [INFO     ] 2018-08-12 21:37:09,622 Identified 2.952e+05 octs\n"
     ]
    },
    {
     "name": "stdout",
     "output_type": "stream",
     "text": [
      "done:  cluster_cooling_100\n",
      "took 7 seconds so far\n"
     ]
    },
    {
     "name": "stderr",
     "output_type": "stream",
     "text": [
      "yt : [INFO     ] 2018-08-12 21:37:15,824 Omega Lambda is 0.0, so we are turning off Cosmology.\n",
      "yt : [INFO     ] 2018-08-12 21:37:15,855 Parameters: current_time              = 0.505068364443998\n",
      "yt : [INFO     ] 2018-08-12 21:37:15,858 Parameters: domain_dimensions         = [2 2 2]\n",
      "yt : [INFO     ] 2018-08-12 21:37:15,859 Parameters: domain_left_edge          = [0. 0. 0.]\n",
      "yt : [INFO     ] 2018-08-12 21:37:15,861 Parameters: domain_right_edge         = [600. 600. 600.]\n",
      "yt : [INFO     ] 2018-08-12 21:37:15,862 Parameters: cosmological_simulation   = 0\n",
      "yt : [INFO     ] 2018-08-12 21:37:15,867 Allocating for 2.700e+07 particles (index particle type 'all')\n",
      "yt : [INFO     ] 2018-08-12 21:37:27,598 Identified 2.362e+06 octs\n"
     ]
    },
    {
     "name": "stdout",
     "output_type": "stream",
     "text": [
      "done:  cluster_cooling_200\n",
      "took 112 seconds so far\n"
     ]
    },
    {
     "name": "stderr",
     "output_type": "stream",
     "text": [
      "yt : [INFO     ] 2018-08-12 21:39:01,130 Omega Lambda is 0.0, so we are turning off Cosmology.\n",
      "yt : [INFO     ] 2018-08-12 21:39:01,150 Parameters: current_time              = 0.505068364443998\n",
      "yt : [INFO     ] 2018-08-12 21:39:01,151 Parameters: domain_dimensions         = [2 2 2]\n",
      "yt : [INFO     ] 2018-08-12 21:39:01,152 Parameters: domain_left_edge          = [0. 0. 0.]\n",
      "yt : [INFO     ] 2018-08-12 21:39:01,153 Parameters: domain_right_edge         = [600. 600. 600.]\n",
      "yt : [INFO     ] 2018-08-12 21:39:01,155 Parameters: cosmological_simulation   = 0\n",
      "yt : [INFO     ] 2018-08-12 21:39:01,162 Allocating for 2.160e+08 particles (index particle type 'all')\n",
      "yt : [INFO     ] 2018-08-12 21:42:08,651 Identified 1.890e+07 octs\n"
     ]
    },
    {
     "name": "stdout",
     "output_type": "stream",
     "text": [
      "done:  cluster_cooling_400\n",
      "took 1131 seconds so far\n"
     ]
    }
   ],
   "source": [
    "thicknesses_map = {}\n",
    "radii_map = {}\n",
    "\n",
    "run_names = [\n",
    "    \"cluster_cooling_100\", \n",
    "    \"cluster_cooling_200\", \n",
    "    \"cluster_cooling_400\",\n",
    "]\n",
    "\n",
    "start_time = datetime.datetime.now()\n",
    "for run_name in run_names:\n",
    "    thicknesses_map[run_name], radii_map[run_name] = get_shock_thickness_and_radius(run_name)\n",
    "    print(\"done: \", run_name)\n",
    "    current_time = datetime.datetime.now()\n",
    "    print(\"took {} seconds so far\".format((current_time - start_time).seconds))\n",
    "    sys.stdout.flush()"
   ]
  },
  {
   "cell_type": "code",
   "execution_count": 13,
   "metadata": {},
   "outputs": [],
   "source": [
    "# thicknesses_map = {'cluster_cooling_100': [5.008489692138171 * pc,\n",
    "#   4.791514818549523 * pc,\n",
    "#   5.210845655149203 * pc,\n",
    "#   4.668780354858317 * pc,\n",
    "#   4.628787779873119 * pc,\n",
    "#   5.228010346803027 * pc,\n",
    "#   5.364243759322976 * pc,\n",
    "#   5.133371661894269 * pc,\n",
    "#   4.740905015361694 * pc,\n",
    "#   6.031015483642938 * pc,\n",
    "#   4.960488209325502 * pc,\n",
    "#   5.976998531713043 * pc,\n",
    "#   5.3370112269365695 * pc,\n",
    "#   5.160560207229715 * pc,\n",
    "#   4.962288260655043 * pc,\n",
    "#   4.628395917664643 * pc,\n",
    "#   5.06739561747607 * pc,\n",
    "#   4.97395736713257 * pc],\n",
    "#  'cluster_cooling_200': [2.771883374562317 * pc,\n",
    "#   2.6176082046204163 * pc,\n",
    "#   2.8545445505916263 * pc,\n",
    "#   3.2818893866395658 * pc,\n",
    "#   3.2457370753118613 * pc,\n",
    "#   3.850523581995146 * pc,\n",
    "#   2.3837013841793584 * pc,\n",
    "#   3.0681458463499784 * pc,\n",
    "#   3.6431909992401197 * pc,\n",
    "#   3.8645727023091845 * pc,\n",
    "#   2.8470962899976047 * pc,\n",
    "#   2.7272510911969228 * pc,\n",
    "#   2.689014773486777 * pc,\n",
    "#   2.5755053105762133 * pc,\n",
    "#   2.7672678860031295 * pc,\n",
    "#   2.984100102817971 * pc,\n",
    "#   3.2636492811166944 * pc,\n",
    "#   2.979130374247349 * pc],\n",
    "#  'cluster_cooling_400': [1.9642746777157685 * pc,\n",
    "#   1.6974920501673911 * pc,\n",
    "#   1.8984161604416891 * pc,\n",
    "#   2.071233945537992 * pc,\n",
    "#   2.2137296259821184 * pc,\n",
    "#   1.9524062888460532 * pc,\n",
    "#   1.9653839496112715 * pc,\n",
    "#   1.7602064579295016 * pc,\n",
    "#   1.8604125814933796 * pc,\n",
    "#   1.8611475068428713 * pc,\n",
    "#   1.6425834116584206 * pc,\n",
    "#   2.041638384934669 * pc,\n",
    "#   1.961776085382136 * pc,\n",
    "#   1.8040628161180268 * pc,\n",
    "#   2.87620222955414 * pc,\n",
    "#   2.940073095723431 * pc,\n",
    "#   1.9489224967165177 * pc,\n",
    "#   2.454518044007954 * pc]}"
   ]
  },
  {
   "cell_type": "code",
   "execution_count": 20,
   "metadata": {},
   "outputs": [
    {
     "data": {
      "text/plain": [
       "{'cluster_cooling_100': [1.5454584360040268e+19,\n",
       "  1.47850698568661e+19,\n",
       "  1.6078989618579616e+19,\n",
       "  1.4406350873780746e+19,\n",
       "  1.4282946681723775e+19,\n",
       "  1.6131954322808615e+19,\n",
       "  1.6552326709668194e+19,\n",
       "  1.5839929854446123e+19,\n",
       "  1.4628904321766949e+19,\n",
       "  1.8609769271358525e+19,\n",
       "  1.5306467260648032e+19,\n",
       "  1.8443090373769257e+19,\n",
       "  1.6468295894996881e+19,\n",
       "  1.5923824939260416e+19,\n",
       "  1.531202163868109e+19,\n",
       "  1.4281737521292059e+19,\n",
       "  1.5636349053271003e+19,\n",
       "  1.5348028738934546e+19],\n",
       " 'cluster_cooling_200': [8.553138387328567e+18,\n",
       "  8.077094954061804e+18,\n",
       "  8.80820412505992e+18,\n",
       "  1.012685250520882e+19,\n",
       "  1.0015298128626698e+19,\n",
       "  1.1881474293873168e+19,\n",
       "  7.355333922074558e+18,\n",
       "  9.46730885475381e+18,\n",
       "  1.1241712791358292e+19,\n",
       "  1.1924825349465532e+19,\n",
       "  8.785221194324022e+18,\n",
       "  8.415417551138279e+18,\n",
       "  8.297432602782225e+18,\n",
       "  7.947178997794718e+18,\n",
       "  8.538896477753964e+18,\n",
       "  9.207970788119353e+18,\n",
       "  1.0070569420513298e+19,\n",
       "  9.192635808083009e+18],\n",
       " 'cluster_cooling_400': [6.061118336871239e+18,\n",
       "  5.2379131639203e+18,\n",
       "  5.857900186569943e+18,\n",
       "  6.391160151720418e+18,\n",
       "  6.830855878322773e+18,\n",
       "  6.024496315407824e+18,\n",
       "  6.064541192290944e+18,\n",
       "  5.431429605986835e+18,\n",
       "  5.740633394993625e+18,\n",
       "  5.742901137668604e+18,\n",
       "  5.068482809044283e+18,\n",
       "  6.299837793855791e+18,\n",
       "  6.053408486522123e+18,\n",
       "  5.566756187253963e+18,\n",
       "  8.875032739501161e+18,\n",
       "  9.072117639348635e+18,\n",
       "  6.013746456135224e+18,\n",
       "  7.573851301702045e+18]}"
      ]
     },
     "execution_count": 20,
     "metadata": {},
     "output_type": "execute_result"
    }
   ],
   "source": [
    "thicknesses_map"
   ]
  },
  {
   "cell_type": "code",
   "execution_count": 18,
   "metadata": {},
   "outputs": [],
   "source": [
    "# radii_map = {'cluster_cooling_100': [48.472913893792814 * pc,\n",
    "#   46.10357318169029 * pc,\n",
    "#   47.06347431648544 * pc,\n",
    "#   42.579738849318886 * pc,\n",
    "#   43.9907695540688 * pc,\n",
    "#   46.40221960578741 * pc,\n",
    "#   44.119210458704316 * pc,\n",
    "#   47.687090789363225 * pc,\n",
    "#   47.55620898018435 * pc,\n",
    "#   50.0159176384206 * pc,\n",
    "#   47.36359520966303 * pc,\n",
    "#   49.44372343013022 * pc,\n",
    "#   47.82452710931455 * pc,\n",
    "#   49.23842756988566 * pc,\n",
    "#   46.065881269299695 * pc,\n",
    "#   44.961425690333314 * pc,\n",
    "#   46.95988602518545 * pc,\n",
    "#   44.26039941400705 * pc],\n",
    "#  'cluster_cooling_200': [43.287852911420124 * pc,\n",
    "#   43.24491310052384 * pc,\n",
    "#   41.940612857474726 * pc,\n",
    "#   43.90600403192576 * pc,\n",
    "#   44.69971917473677 * pc,\n",
    "#   44.46646152728868 * pc,\n",
    "#   43.179937950882824 * pc,\n",
    "#   43.77201005942049 * pc,\n",
    "#   45.49564615900104 * pc,\n",
    "#   44.23470864346315 * pc,\n",
    "#   44.92230424962297 * pc,\n",
    "#   43.845643774995715 * pc,\n",
    "#   44.100511642018006 * pc,\n",
    "#   44.02963573365741 * pc,\n",
    "#   43.14596700658516 * pc,\n",
    "#   44.271025399700555 * pc,\n",
    "#   44.10959159279782 * pc,\n",
    "#   43.83328851063844 * pc],\n",
    "#  'cluster_cooling_400': [43.82402165294304 * pc,\n",
    "#   43.27003039194585 * pc,\n",
    "#   42.88600212429869 * pc,\n",
    "#   42.94202347504095 * pc,\n",
    "#   42.93480715706272 * pc,\n",
    "#   43.07148523548787 * pc,\n",
    "#   42.59286992705439 * pc,\n",
    "#   43.33996078223996 * pc,\n",
    "#   43.1157790447827 * pc,\n",
    "#   43.53470974602405 * pc,\n",
    "#   43.369750713411094 * pc,\n",
    "#   44.363043927716745 * pc,\n",
    "#   43.78450597007935 * pc,\n",
    "#   43.73847793467334 * pc,\n",
    "#   42.1994323480893 * pc,\n",
    "#   43.0387134900475 * pc,\n",
    "#   44.31117652009728 * pc,\n",
    "#   43.877677922616364 * pc]}"
   ]
  },
  {
   "cell_type": "code",
   "execution_count": 21,
   "metadata": {},
   "outputs": [
    {
     "data": {
      "text/plain": [
       "{'cluster_cooling_100': [1.49571783710466e+20,\n",
       "  1.4226076219227375e+20,\n",
       "  1.4522270760433607e+20,\n",
       "  1.3138734559207091e+20,\n",
       "  1.3574133140447956e+20,\n",
       "  1.4318228876789558e+20,\n",
       "  1.3613765862445675e+20,\n",
       "  1.4714698697412869e+20,\n",
       "  1.4674312790972357e+20,\n",
       "  1.5433299577338393e+20,\n",
       "  1.4614878391614407e+20,\n",
       "  1.525673889326169e+20,\n",
       "  1.4757107114548185e+20,\n",
       "  1.5193391209909227e+20,\n",
       "  1.4214445710320746e+20,\n",
       "  1.3873646328346454e+20,\n",
       "  1.4490306753616919e+20,\n",
       "  1.3657332221858516e+20],\n",
       " 'cluster_cooling_200': [1.3357235727861837e+20,\n",
       "  1.3343985886678326e+20,\n",
       "  1.294152088473044e+20,\n",
       "  1.3547977233312144e+20,\n",
       "  1.379289213553644e+20,\n",
       "  1.3720916346192804e+20,\n",
       "  1.332393665041835e+20,\n",
       "  1.3506631013611019e+20,\n",
       "  1.4038489540719344e+20,\n",
       "  1.3649404878386723e+20,\n",
       "  1.3861574713090993e+20,\n",
       "  1.3529352004150079e+20,\n",
       "  1.3607996010500784e+20,\n",
       "  1.3586125990351341e+20,\n",
       "  1.3313454312294294e+20,\n",
       "  1.366061105844206e+20,\n",
       "  1.3610797790556992e+20,\n",
       "  1.3525539567926044e+20],\n",
       " 'cluster_cooling_400': [1.3522680114421909e+20,\n",
       "  1.3351736272983133e+20,\n",
       "  1.3233237531370281e+20,\n",
       "  1.3250523913977171e+20,\n",
       "  1.3248297190916555e+20,\n",
       "  1.3290471639164006e+20,\n",
       "  1.3142786386425985e+20,\n",
       "  1.3373314536742512e+20,\n",
       "  1.3304139280597888e+20,\n",
       "  1.3433407787898765e+20,\n",
       "  1.3382506749019334e+20,\n",
       "  1.3689005009339977e+20,\n",
       "  1.3510486848749026e+20,\n",
       "  1.3496284081051895e+20,\n",
       "  1.3021384234714056e+20,\n",
       "  1.3280359335142914e+20,\n",
       "  1.3673000399649956e+20,\n",
       "  1.3539236709265524e+20]}"
      ]
     },
     "execution_count": 21,
     "metadata": {},
     "output_type": "execute_result"
    }
   ],
   "source": [
    "radii_map"
   ]
  },
  {
   "cell_type": "code",
   "execution_count": 36,
   "metadata": {},
   "outputs": [],
   "source": [
    "run_name_map = {\n",
    "    \"cluster_cooling_100\": r\"3D_40_HD\",\n",
    "    \"cluster_cooling_200\": r\"3D_20_HD\",\n",
    "    \"cluster_cooling_400\": r\"3D_10_HD\",\n",
    "}"
   ]
  },
  {
   "cell_type": "code",
   "execution_count": 40,
   "metadata": {},
   "outputs": [
    {
     "data": {
      "text/plain": [
       "(1, 7)"
      ]
     },
     "execution_count": 40,
     "metadata": {},
     "output_type": "execute_result"
    },
    {
     "data": {
      "image/png": "[encoded data removed]",
      "text/plain": [
       "<matplotlib.figure.Figure at 0x2b5fd19e4f28>"
      ]
     },
     "metadata": {},
     "output_type": "display_data"
    }
   ],
   "source": [
    "bins = np.linspace(0, 8, num=32)\n",
    "for run_name in sorted(thicknesses_map, reverse=True):\n",
    "    plt.hist(np.array(thicknesses_map[run_name])/pc, \n",
    "             label=run_name_map[run_name],\n",
    "             bins=bins,\n",
    "             alpha=.5,\n",
    "            )\n",
    "    \n",
    "plt.legend(loc=\"best\")\n",
    "\n",
    "plt.xlabel(\"Shock Thickness [pc]\")\n",
    "plt.ylabel(\"Number of sightlines\")\n",
    "\n",
    "plt.xlim(left=1, right=7)"
   ]
  },
  {
   "cell_type": "code",
   "execution_count": 46,
   "metadata": {},
   "outputs": [
    {
     "data": {
      "text/plain": [
       "<matplotlib.text.Text at 0x2b5fd0521438>"
      ]
     },
     "execution_count": 46,
     "metadata": {},
     "output_type": "execute_result"
    },
    {
     "data": {
      "image/png": "[encoded data removed]",
      "text/plain": [
       "<matplotlib.figure.Figure at 0x2b5fd16c1e48>"
      ]
     },
     "metadata": {},
     "output_type": "display_data"
    }
   ],
   "source": [
    "bins = np.linspace(40, 50, num=20)\n",
    "for run_name in sorted(thicknesses_map, reverse=True):\n",
    "    plt.hist(np.array(radii_map[run_name])/pc, \n",
    "             label=run_name_map[run_name],\n",
    "             bins=bins,\n",
    "             alpha=.5,\n",
    "            )\n",
    "    \n",
    "plt.legend(loc=\"best\")\n",
    "\n",
    "plt.xlabel(\"Shock Radius[pc]\")\n",
    "plt.ylabel(\"Number of sightlines\")\n",
    "\n",
    "# plt.xlim(left=1, right=7)"
   ]
  },
  {
   "cell_type": "code",
   "execution_count": null,
   "metadata": {},
   "outputs": [],
   "source": []
  }
 ],
 "metadata": {
  "anaconda-cloud": {},
  "kernelspec": {
   "display_name": "Python 3",
   "language": "python",
   "name": "python3"
  },
  "language_info": {
   "codemirror_mode": {
    "name": "ipython",
    "version": 3
   },
   "file_extension": ".py",
   "mimetype": "text/x-python",
   "name": "python",
   "nbconvert_exporter": "python",
   "pygments_lexer": "ipython3",
   "version": "3.6.3"
  },
  "widgets": {
   "state": {
    "1de0781ffafd4b589c7fe434c99c9a2b": {
     "views": [
      {
       "cell_index": 45
      }
     ]
    },
    "23b51539d2404f129bf44a488114fa6d": {
     "views": [
      {
       "cell_index": 47
      }
     ]
    },
    "4b5bdd1ed34947beb6f450366c21c676": {
     "views": [
      {
       "cell_index": 47
      }
     ]
    }
   },
   "version": "1.2.0"
  }
 },
 "nbformat": 4,
 "nbformat_minor": 1
}
